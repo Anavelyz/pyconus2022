{
 "cells": [
  {
   "cell_type": "code",
   "execution_count": null,
   "id": "sought-organization",
   "metadata": {},
   "outputs": [],
   "source": [
    "#https://www.mclibre.org/consultar/python/lecciones/python-operaciones-matematicas.html"
   ]
  },
  {
   "cell_type": "code",
   "execution_count": 1,
   "id": "iraqi-logic",
   "metadata": {},
   "outputs": [],
   "source": [
    "#Codigo para determinar: Numeros Naturales y Enteros (Teoria de Conjuntos)\n",
    "#Divisibilidad: Un numero a es divisible cuando existe un numero b y c tal que: a = b * c\n",
    "#resto = 0, existen funciones que permiten saber esto: a//b == 0\n",
    "\n",
    "#Numeros Primos y compuestos:\n",
    "#Nro Primo: es solo divisible x si mismo y la unidad.\n",
    "#Nro Compuesto: es divisible no solo x si mismo y la unidad, tambien por otros numeros."
   ]
  },
  {
   "cell_type": "code",
   "execution_count": null,
   "id": "preceding-twist",
   "metadata": {},
   "outputs": [],
   "source": [
    "#https://es.wikipedia.org/wiki/M%C3%A1ximo_com%C3%BAn_divisor\n",
    "#Maximo Comun Divisor MCD\n",
    "#Diagramas de Venn"
   ]
  }
 ],
 "metadata": {
  "kernelspec": {
   "display_name": "Python 3",
   "language": "python",
   "name": "python3"
  },
  "language_info": {
   "codemirror_mode": {
    "name": "ipython",
    "version": 3
   },
   "file_extension": ".py",
   "mimetype": "text/x-python",
   "name": "python",
   "nbconvert_exporter": "python",
   "pygments_lexer": "ipython3",
   "version": "3.7.3"
  }
 },
 "nbformat": 4,
 "nbformat_minor": 5
}
