{
 "cells": [
  {
   "cell_type": "markdown",
   "id": "abandoned-landscape",
   "metadata": {},
   "source": [
    "04:44 a.m. 20/10/2021\n",
    "\n",
    "> La Tecnologia hoy en dia nos da una dinamica para llevar adelante los pocesos de enseñanza y Aprendizaje en Base a Proyectos o Desafios Tangibles (ABP - M.Conde)\n",
    "\n",
    "## 3 Componentes relacionados aplicados a un contenido por enseñar: \n",
    "\n",
    "### Lenguaje de Programacion + Entorno de Trabajo (FrameWork) + Infraestructura -> contenido a enseñar (Funcion principal)"
   ]
  },
  {
   "cell_type": "code",
   "execution_count": 1,
   "id": "greatest-tennis",
   "metadata": {},
   "outputs": [],
   "source": [
    "## Descartes: sepamos recorrer desde lo simple, hasta todo lo complejo que podamos llegar..."
   ]
  },
  {
   "cell_type": "markdown",
   "id": "according-opening",
   "metadata": {},
   "source": [
    "Python + Project Jupyter + VPS (Servidor Virtual Privado) aplicados al contenido (Profesor o Maestro o el Experto en un tema)\n",
    "\n",
    "Links que siginifica cada uno\n",
    "\n",
    "Esta es la principal razon para trabajar en equipo, interdisciplinario\n"
   ]
  },
  {
   "cell_type": "markdown",
   "id": "distinct-running",
   "metadata": {},
   "source": [
    "> Esto es el porque del Proyecto\n"
   ]
  },
  {
   "cell_type": "markdown",
   "id": "optional-cleanup",
   "metadata": {},
   "source": [
    "Aplica tanto el Modo Remoto como Presencial"
   ]
  },
  {
   "cell_type": "markdown",
   "id": "peaceful-spotlight",
   "metadata": {},
   "source": [
    "Presentar el contexto del FrameWork: Barra de Menus, Barra de Herramientas...\n",
    "\n",
    "El BOTON LOGOUT\n",
    "La vista de inicio de la carpeta o lugar de trabajo: UPLOAD, DOWNLOAD, STOP, DELETE Dibujo Tacho de Basura, ShutDown\n",
    "\n",
    "Menu FILEs y RUNNIING\n"
   ]
  },
  {
   "cell_type": "markdown",
   "id": "polyphonic-robertson",
   "metadata": {},
   "source": [
    "CELDAS : Ambiente principal (Ejecutar, procesar, mostrar, interpretar, almacenar, escribir)\n",
    "\n",
    "Tipo de elementos que va en las CELDAS (MarkDown - ejemplos -, Links y Multimedia - ejemplos -, Codigo)\n",
    "\n",
    "Modo de CELDAS (Normal y RISE)\n"
   ]
  },
  {
   "cell_type": "markdown",
   "id": "linear-documentary",
   "metadata": {},
   "source": [
    "Como ejecutar el contenido de una CELDA o darle Vida\n",
    "\n",
    "Informacion a tener en cuenta durante el trabajo con un Jupyter notebook o Notebook\n",
    "SHIFT+ENTER y por menu, Si esta habilitado el Modo RISE por el Boton de la barra de herramientas o bien si es un Grafico usar VOILa"
   ]
  },
  {
   "cell_type": "markdown",
   "id": "capable-requirement",
   "metadata": {},
   "source": [
    "Ejecutar todas las celdas de arriba para abajo en un solo orden\n",
    "\n",
    "Ejecutar por grupos de celdas, tener en cuenta el orden de ejecucion (numeros al costado)\n",
    "\n",
    "repetir codigo en las celdas para no ejecutar desde el principio\n"
   ]
  },
  {
   "cell_type": "markdown",
   "id": "massive-innocent",
   "metadata": {},
   "source": [
    "Poner,insertar Imagenes, JPG, GIF Animados. Links, Codigo para embeber Videos de YouTube, siempre debe estar habilitado el MODO MARKDOWN de las CELDAS"
   ]
  },
  {
   "cell_type": "code",
   "execution_count": 2,
   "id": "precious-welsh",
   "metadata": {},
   "outputs": [
    {
     "ename": "SyntaxError",
     "evalue": "invalid syntax (<ipython-input-2-6f88f268904f>, line 1)",
     "output_type": "error",
     "traceback": [
      "\u001b[0;36m  File \u001b[0;32m\"<ipython-input-2-6f88f268904f>\"\u001b[0;36m, line \u001b[0;32m1\u001b[0m\n\u001b[0;31m    Ejercicio de Ejemplo\u001b[0m\n\u001b[0m               ^\u001b[0m\n\u001b[0;31mSyntaxError\u001b[0m\u001b[0;31m:\u001b[0m invalid syntax\n"
     ]
    }
   ],
   "source": [
    "Ejercicio de Ejemplo"
   ]
  },
  {
   "cell_type": "code",
   "execution_count": null,
   "id": "amber-musical",
   "metadata": {},
   "outputs": [],
   "source": []
  }
 ],
 "metadata": {
  "kernelspec": {
   "display_name": "Python 3",
   "language": "python",
   "name": "python3"
  },
  "language_info": {
   "codemirror_mode": {
    "name": "ipython",
    "version": 3
   },
   "file_extension": ".py",
   "mimetype": "text/x-python",
   "name": "python",
   "nbconvert_exporter": "python",
   "pygments_lexer": "ipython3",
   "version": "3.7.3"
  }
 },
 "nbformat": 4,
 "nbformat_minor": 5
}
