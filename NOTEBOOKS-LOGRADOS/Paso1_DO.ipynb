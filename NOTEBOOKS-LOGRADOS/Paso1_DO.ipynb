{
 "cells": [
  {
   "cell_type": "markdown",
   "metadata": {},
   "source": [
    "# Paso 1 en Python con Jupyter "
   ]
  },
  {
   "cell_type": "markdown",
   "metadata": {},
   "source": [
    "## Como es costumbre vamos a comenzar importando el ZEN de Python by Tim Peters\n",
    "<img src=https://decodigo.com/m/2020/08/decodigo_zen_python.jpg >"
   ]
  },
  {
   "cell_type": "code",
   "execution_count": null,
   "metadata": {},
   "outputs": [],
   "source": [
    "import this"
   ]
  },
  {
   "cell_type": "markdown",
   "metadata": {},
   "source": [
    "## Primer \"Hola Mundo\" en Python\n",
    "#### La instruccion `Print()` nos va a ayudar en muchos casos a la hora de corregir errores, por ahora la utilizaremos para imprimir un mensaje en pantalla a travez de la consola."
   ]
  },
  {
   "cell_type": "code",
   "execution_count": null,
   "metadata": {},
   "outputs": [],
   "source": [
    "print(\"Hola Mundo\")"
   ]
  },
  {
   "cell_type": "markdown",
   "metadata": {},
   "source": [
    "## Tipos de Datos\n",
    "\n",
    "#### Estos tipos de datos que vamos a ver al principio son sencillos de entender ya que tenemos una idea intuitiva de lo que puede llegar a contener cada uno.\n",
    "En python tenemos estos como los **TIPOS DE DATOS DE BASE**:\n",
    "\n",
    "    - ENTEROS\n",
    "    - FLOTANTES\n",
    "    - STRINGS\n",
    "    - BOOLEANOS\n",
    "    - BYTES"
   ]
  },
  {
   "cell_type": "code",
   "execution_count": null,
   "metadata": {},
   "outputs": [],
   "source": [
    "# ENTEROS\n",
    "entero = 783  # Positivos\n",
    "entero = 0  # Cero\n",
    "entero = -192 # Negativos\n",
    "entero = 0b010  # sistema Binario\n",
    "entero = 0o642  # sistema Octal\n",
    "entero = 0xF3  # sistema Hexadecimal\n",
    "\n",
    "# FLOTANTE \n",
    "flotante = 9.23\n",
    "flotante = 0.00\n",
    "flotante = 9.7e-6\n",
    "\n",
    "# STRING (cadena de caracteres)\n",
    "string = \"Temperatura\"  # de una sola linea\n",
    "string = \"Temperatura\\nHumedad\"  # con un salto de linea\n",
    "string = \"\"\"\n",
    "Temperatura\n",
    "Humedad\n",
    "Presion\n",
    "\"\"\"   # con muchas lineas\n",
    "\n",
    "# BOLEANOS\n",
    "boolean = True\n",
    "boolean = False"
   ]
  },
  {
   "cell_type": "markdown",
   "metadata": {},
   "source": [
    "## Asignacion de Variables\n",
    "\n",
    "#### Para poder almacenar estos tipos de datos en algun lugar vamos a necesitar crear variables y guardar ese valor dentro de la `VARIABLE`, podemos ver a la variable como una cajita donde vamos a guardar nuestros `DATOS`.\n",
    "\n",
    "### Donde utilizaremos la siguiente notacion:  `nombre_de_mi_variable = valor_de_mi_variable`\n",
    "\n",
    "\n",
    "<img src=https://www.aulafacil.com/uploads/cursos/2288/editor/variable.es.jpg width=600 height=300>"
   ]
  },
  {
   "cell_type": "code",
   "execution_count": null,
   "metadata": {},
   "outputs": [],
   "source": [
    "# Asignar una operacion\n",
    "variable = 1.2 + 8 \n",
    "# Asignar el mismo Valor\n",
    "variable1 = variable2 = variable3 = 0\n",
    "# Asignamiento Multiple\n",
    "variable1, variable2, variable3 = \"Temperatura\",\"Humedad\",\"Presion\"\n",
    "# Intercambiar Valores\n",
    "a = 1\n",
    "b = 2\n",
    "a, b = b, a\n",
    "\n",
    "x = 1\n",
    "#Incrementar ----> x = x + 1\n",
    "x +=1\n",
    "# Decrementar ----> x = x - 1\n",
    "x -= 1\n",
    "\n",
    "# Valor Indefinido\n",
    "x = None\n",
    "\n",
    "#Eliminar una variable\n",
    "del x"
   ]
  },
  {
   "cell_type": "markdown",
   "metadata": {},
   "source": [
    "## Operaciones Aritmeticas en Python\n",
    "\n",
    "#### Como ya nos venimos imaginando, una vez que podamos asignar un valor a nuestras variables desearemos hacer diferentes operaciones con ellas, `Las Operaciones` en la programacion tienen el mismo concepto que ya conocemos, tomar diferentes valores y realizar un calculo para obtener uno nuevo, cabe resaltar que cada tipo de Dato va a tener `Operaciones` diferentes exclusivas `PARA ESE TIPO DE DATO`, por ahora vamos a ver las Operaciones Aritmeticas.\n",
    "Python tiene una libreria llamada `math()` para operaciones mastematicas  que tambien nos ayudara mas tarde !"
   ]
  },
  {
   "cell_type": "code",
   "execution_count": null,
   "metadata": {},
   "outputs": [],
   "source": [
    "x,y = 3,2\n",
    "# SUMA\n",
    "x + y\n",
    "# RESTA\n",
    "x - y\n",
    "# DIVISION\n",
    "x / y\n",
    "# DIVISION ENTERA\n",
    "x // y\n",
    "# MULTIPLICACION\n",
    "x * y\n",
    "# RESTO DE UNA DIVISION\n",
    "x % y\n",
    "# CAMBIO DE SIGNO\n",
    "- x\n",
    "# VALOR ABSOLUTO\n",
    "abs(- x)\n",
    "# POTENCIA\n",
    "x ** y"
   ]
  },
  {
   "cell_type": "markdown",
   "metadata": {},
   "source": [
    "## Tipos de Contenedores en Python\n",
    "\n",
    "En una primera aproximacion vamos a decir que muchas veces necesitamos almacenar mas de un solo valor en la misma variable, y a esto lo conoceremos como Contenedores.\n",
    "\n",
    "En Python, tenemos:\n",
    "\n",
    "# Listas\n",
    "\n",
    "Una lista en Python es una estructura de datos formada por una secuencia ordenada de objetos, estas son:\n",
    "\n",
    "    - heterogéneas:\n",
    "        pueden estar conformadas por elementos de distintos tipo, incluidos otras listas.\n",
    "    - mutables:\n",
    "        sus elementos pueden modificarse.\n",
    "Para crear una lista lo haremos de la siguiente manera:\n",
    "\n",
    "    `nombre_de_mi_lista = [valor1, 'valor2', valor3, valorN]`\n",
    "\n",
    "# Tuplas\n",
    "\n",
    "Son muy similares a las listas y comparten varias de sus funciones y métodos integrados, aunque su principal diferencia es que son `INMUTABLES`. Esta no puede modificarse de ningún modo después de su creación.\n",
    "\n",
    "Para crear una tupla lo haremos de la siguiente manera:\n",
    "\n",
    "    `nombre_de_mi_tuple = (valor1, 'valor2', valor3, valorN)`\n",
    "\n",
    "# Diccionarios\n",
    "\n",
    "El diccionario, define una relación uno a uno entre claves y valores.\n",
    "\n",
    "Los diccionarios pueden ser creados colocando una lista separada por coma de pares \n",
    "\n",
    "`key:value` entre `{}`\n",
    "\n",
    "por ejemplo: `{'clave1': valor1, 'clave2': valor2}` o `{valor1:'clave1', valor2:'clave2'}`"
   ]
  },
  {
   "cell_type": "code",
   "execution_count": null,
   "metadata": {},
   "outputs": [],
   "source": [
    "# LISTAS\n",
    "list = [1,5,9]\n",
    "list = [\"Temperatura\", 2, 0.5, 'Presion']\n",
    "\n",
    "#TUPLAS\n",
    "tuple = (1, 5, 9)\n",
    "tuple = ('Temperatura', 2, 0.5, 'Presion')\n",
    "\n",
    "#DICCIONARIOS\n",
    "dict = {'clave': 'valor'}\n",
    "dict = {'clave1': 'valor1', 'clave3': 'valor3', 'clave2': 'valor2'}\n",
    "dict = {'Temperatura': 25, 'Humedad': 10, 'Presion':5}"
   ]
  },
  {
   "cell_type": "markdown",
   "metadata": {},
   "source": [
    "## Secuencia de Indexacion en Contenedores\n",
    "\n",
    "#### Para acceder a los elementos denstro de estos contendores vamos a necesitar indexar los elementos que queremos obtener, esto lo haremos haciendo a referencia a a la `POSICION` que ocupa `EL VALOR` que queremos, o `LOS VALORES` que queremos\n",
    "\n",
    "<img src=http://programaenpython.com/wp-content/uploads/2019/02/indexacion_strings.png>"
   ]
  },
  {
   "cell_type": "code",
   "execution_count": null,
   "metadata": {},
   "outputs": [],
   "source": [
    "lista = [10, 20, 30, 40, 50]\n",
    "#Tamaño de la lista\n",
    "len(lista)\n",
    "\n",
    "# Acceder a un elemento\n",
    "lista[0]\n",
    "\n",
    "# Modificar un elemento\n",
    "lista[0] = 0\n",
    "\n",
    "# Remover un elemento\n",
    "del lista[0]\n",
    "\n",
    "lista = [10, 20, 30, 40, 50]\n",
    "#  lista[0___1___2___3___4]    Indices Positivos\n",
    "#  lista[-5__-4__-3__-2__-1]   Indices Negativos\n",
    "#lista[inicio:fin:paso]\n",
    "\n",
    "print(lista[:-1])  # Sin el ultimo elemento\n",
    "print(lista[1:-1])  # Sin el primero ni ultimo elemento\n",
    "print(lista[::2])  # Saltando de 2 en 2 elementos\n",
    "print(lista[::-1])  # Invertida\n",
    "print(lista[::-2])  # Inverita saltando de 2 en 2 elementos\n",
    "print(lista[:])  # Copia\n",
    "print(lista[1:3])  # sin el primero y hasta el elemento 3\n",
    "print(lista[-3:-1]) # Desde el elemento\n",
    "print(lista[:3])  # Hasta el elemento 3\n",
    "print(lista[3:]) # Desde el elemento 4 en adelante"
   ]
  },
  {
   "cell_type": "markdown",
   "metadata": {},
   "source": [
    "# Condicionales y Operadores Logicos\n",
    "\n",
    "#### En programacion un `Condicional` es una `Instruccion` que nos va a ayudar a tomar `DESICIONES`, para ello vamos a plantear una situacion y unas cuantas condiciones, pueded pasar que una condicion sea Verdadera, esto puede ser cierto o no, tambien podemos ver cuales condiciones son verdaderas (es decir mas de una es Verdadera), y por ultimo puded pasar que no se cumpla ninguna de nuestras condiciones.\n",
    "Para ayudarnos en esta toma decisiones tenemos `Operadores Logicos` per vamos a ver todo esto de a poco...\n",
    "\n",
    "## Declarar una condicion\n",
    "\n",
    "<img src=https://controlautomaticoeducacion.com/wp-content/uploads/condicionales-anidados.png width=400 height=700>\n",
    "\n",
    "## Operadores Relacionales\n",
    "\n",
    "<img src=https://programacionpython.files.wordpress.com/2008/07/signos1.jpg>\n",
    "\n",
    "## Operadores Logicos o Booleanos\n",
    "\n",
    "<img src= https://yosoy.dev/wp-content/uploads/2016/12/Tabla-3.2-Operadores-L%C3%B3gicos.png>"
   ]
  },
  {
   "cell_type": "code",
   "execution_count": null,
   "metadata": {},
   "outputs": [],
   "source": [
    "'''\n",
    "if condicion_logica:\n",
    "    instrucciones\n",
    "'''\n",
    "# Operadores de Comparacion\n",
    "a,b = 10,5\n",
    "# '==' ----> \"igual que\"\n",
    "if a == b:\n",
    "    print(f\"{a} es igual que {b}\")\n",
    "# '!=' ----> \"distinto que\"\n",
    "if a != b:\n",
    "    print(f\"{a} es distinto de {b}\")\n",
    "# '<=' ----> \"menor o igual que\"\n",
    "if a <= b:\n",
    "    print(f\"{a} es menor que {b}\")\n",
    "# '>=' ----> \"mayor o igual que\"\n",
    "if a >= b:\n",
    "    print(f\"{a} es mayor que {b}\")\n",
    "\n",
    "# Operadores Logicos\n",
    "a,b = True,False\n",
    "\n",
    "# \"and\" ----> Verdadero si se cumplen ambas condiciones\n",
    "if a and b:\n",
    "    print(f\"{a} Y {b} son Verdadero\")\n",
    "# \"or\" ----> Verdadero si se cumple alguna condicion\n",
    "if a or b:\n",
    "    print(f\"{a} O {b} son Verdadero\")\n",
    "# \"not\" ----> NOT logico\n",
    "if not b:\n",
    "    print(f\"{b}\")"
   ]
  },
  {
   "cell_type": "markdown",
   "metadata": {},
   "source": [
    "## Importando Bibliotecas-Librerias\n",
    "\n",
    "### En Programación, una biblioteca o, llamada por vicio del lenguaje librería (del inglés library) es un conjunto de implementaciones funcionales, codificadas en un lenguaje de programación, que ofrece una interfaz bien definida para la `funcionalidad` que se invoca.\n",
    "\n",
    "#### Hace un momento hablamos de una libreria que nos ayudaria a realizar operaciones Matematicas vamos a trabajar un poco con eso..."
   ]
  },
  {
   "cell_type": "code",
   "execution_count": null,
   "metadata": {},
   "outputs": [],
   "source": [
    "import math\n",
    "from math import sin, cos, sqrt, log, ceil, floor"
   ]
  },
  {
   "cell_type": "markdown",
   "metadata": {},
   "source": [
    "## Matematicas"
   ]
  },
  {
   "cell_type": "code",
   "execution_count": null,
   "metadata": {},
   "outputs": [],
   "source": [
    "# Prioridad de las Operaciones\n",
    "valor = 1+5.3*2-3/1.5\n",
    "print(valor)\n",
    "from math import *\n",
    "sin(pi/4)  # Seno\n",
    "cos(2*pi/3)  # Coseno\n",
    "sqrt(81)  # Raiz Cuadrada\n",
    "log(e**2)  # Logaritmo\n",
    "abs(-3.2)  # Valor Absoluto\n",
    "round(3.5789,2)  # Redondeo\n",
    "pow(4,3)  # Potencia"
   ]
  },
  {
   "cell_type": "markdown",
   "metadata": {},
   "source": [
    "## Bucle While\n",
    "\n",
    "#### En Python tiene una palabra reservada llamada `while` que nos permite ejecutar ciclos, o bien secuencias periódicas que nos permiten ejecutar código múltiples veces.\n",
    "\n",
    "El ciclo while nos permite realizar múltiples iteraciones basándonos en el resultado de una expresión lógica que puede tener como resultado un valor True o False.\n",
    "\n",
    "<img src=https://sites.google.com/site/javascriptpracticas/_/rsrc/1472866745954/5---uso-del-bucle-while/while.gif>\n"
   ]
  },
  {
   "cell_type": "code",
   "execution_count": null,
   "metadata": {},
   "outputs": [],
   "source": [
    "'''\n",
    "while condicion_logica:\n",
    "    instrucciones\n",
    "'''\n",
    "\n",
    "# Ejemplo_1\n",
    "i = 1\n",
    "while i <= 5:\n",
    "    i += i\n",
    "print(i)\n",
    "\n",
    "#Ejemplo_2\n",
    "valor = 0\n",
    "contador = 1\n",
    "while contador <= 100:\n",
    "    valor = valor + contador ** 2\n",
    "    if contador == 50:\n",
    "        break\n",
    "    contador +=1\n",
    "print(valor)"
   ]
  },
  {
   "cell_type": "markdown",
   "metadata": {},
   "source": [
    "## Bucle FOR\n",
    "\n",
    "#### En general, un bucle es una `estructura de control` que repite un bloque de instrucciones. Un bucle for es un bucle que repite el bloque de instrucciones un número prederminado de veces. El bloque de instrucciones que se repite se suele llamar `cuerpo` del bucle y cada repetición se suele llamar `iteración`.\n",
    "\n",
    "\n",
    "<img src=https://i.imgur.com/i5vInG7.png width=600 height=500>"
   ]
  },
  {
   "cell_type": "code",
   "execution_count": null,
   "metadata": {},
   "outputs": [],
   "source": [
    "'''\n",
    "for variable in secuencia:\n",
    "    instrucciones\n",
    "'''\n",
    "#Ejemplo_1\n",
    "\n",
    "string = \"una pequeña oracion.\"\n",
    "contador = 0\n",
    "for c in string:\n",
    "    if c == 'e':\n",
    "        contador +=1\n",
    "print(contador)\n",
    "\n",
    "#Ejemplo_2\n",
    "\n",
    "lista = [11,18,9,12,23,4,17]\n",
    "lista_2 = []\n",
    "for indice in range(len(lista)):\n",
    "    valor = lista[indice]\n",
    "    if valor > 15:\n",
    "        print(valor)\n",
    "\n",
    "# Tambien podemos hacer algo como:\n",
    "for indice,valor in enumerate(lista):\n",
    "    if valor > 15:\n",
    "        print(f\"El valor en la posicion {indice} es {valor}\")"
   ]
  },
  {
   "cell_type": "markdown",
   "metadata": {},
   "source": [
    "## Operaciones Genericas en Contenedores"
   ]
  },
  {
   "cell_type": "code",
   "execution_count": null,
   "metadata": {},
   "outputs": [],
   "source": [
    "lista = [1, 3, 5, 4, 2, 7, 9, 8, 6]\n",
    "\n",
    "# Contar la cantidad de elementos\n",
    "len(lista)\n",
    "\n",
    "# El minimo\n",
    "min(lista)\n",
    "\n",
    "# El maximo\n",
    "max(lista)\n",
    "\n",
    "#Sumar los elementos\n",
    "sum(lista)\n",
    "\n",
    "# Copia ordenada\n",
    "sorted(lista)\n",
    "\n",
    "# Comprobar si un valor esta en el contenedor\n",
    "valor in lista \n",
    "\n",
    "# Comprobar si un valor NO esta en el contenedor\n",
    "valor not in lista \n",
    "\n",
    "# Obtener el indice y el Valor en ese indice\n",
    "for indice, val in enumerate(lista):\n",
    "    print(indice,val)\n",
    "\n",
    "# corresponder elementos de una lista con otra\n",
    "variables_atmosfericas = ['Temperatura', 'Humedad', 'Presion', 'Sensacion Termica']\n",
    "valores_atmosfericos = [25, 15, 50, 30]\n",
    "# list(zip(lista, lista_2))\n",
    "\n",
    "# Saber el indice de un valor\n",
    "lista.index(3)\n",
    "\n",
    "#Concatenar contendores\n",
    "nueva_lista = variables_atmosfericas + valores_atmosfericos\n",
    "print(nueva_lista)\n",
    "\n",
    "# Duplicar un contendor\n",
    "nueva_lista *=2\n",
    "print(nueva_lista)\n"
   ]
  },
  {
   "cell_type": "markdown",
   "metadata": {},
   "source": [
    "## Operaciones con Listas"
   ]
  },
  {
   "cell_type": "code",
   "execution_count": null,
   "metadata": {},
   "outputs": [],
   "source": [
    "lista_1 = [1, 2, 3, 4, 6, 7, 8, 9]\n",
    "lista_2 = [11, 12, 13, 14, 15, 16, 17]\n",
    "print(lista_1)\n",
    "\n",
    "# Añadir un Valor\n",
    "lista_1.append(10)\n",
    "print(lista_1)\n",
    "\n",
    "# Añadir una secuencia por el final\n",
    "lista_1.extend(lista_2)\n",
    "print(lista_1)\n",
    "\n",
    "# Insertar un elemento en orden\n",
    "lista_1.insert(4,5)\n",
    "print(lista_1)\n",
    "\n",
    "# Remover un elemento\n",
    "lista_1.remove(17)\n",
    "print(lista_1)\n",
    "\n",
    "# Obtener un valor del contenedor y removerlo\n",
    "print(lista_1.pop(0))\n",
    "print(lista_1)\n",
    "\n",
    "# Ordenar una lista\n",
    "lista_1.sort()\n",
    "\n",
    "# Invertir la Lista\n",
    "lista_1.reverse()\n",
    "print(lista_1)"
   ]
  },
  {
   "cell_type": "markdown",
   "metadata": {},
   "source": [
    "## Operaciones en Diccionarios"
   ]
  },
  {
   "cell_type": "code",
   "execution_count": null,
   "metadata": {},
   "outputs": [],
   "source": [
    "diccionario_1 = {\n",
    "    'Temperatura': 25,\n",
    "    'Humedad': 15,\n",
    "    'Presion': 50,\n",
    "    'Sensacion_Termica':30\n",
    "}\n",
    "\n",
    "diccionario_2 = {\n",
    "    'Viento': 160,\n",
    "    'Precipitacion': 20\n",
    "}\n",
    "# Conocer el valor de un clave\n",
    "diccionario_1['Temperatura']\n",
    "\n",
    "# Conocer las claves\n",
    "diccionario_1.keys()\n",
    "\n",
    "# Conocer los valores\n",
    "diccionario_1.values()\n",
    "\n",
    "# Conocer claves y valores\n",
    "diccionario_1.items()\n",
    "\n",
    "# Agregar un diccionario al final\n",
    "diccionario_1.update(diccionario_2)\n",
    "print(diccionario_1)\n",
    "\n",
    "# Obtener un valor\n",
    "diccionario_1.get('Temperatura')\n",
    "\n",
    "# Obtener un valor y borrar una clave/valor\n",
    "diccionario_1.pop('Temperatura')\n",
    "print(diccionario_1)"
   ]
  },
  {
   "cell_type": "markdown",
   "metadata": {},
   "source": [
    "## Funciones\n",
    "\n",
    "#### Una función es un bloque de código con un nombre asociado, que recibe cero o más argumentos como entrada, sigue una secuencia de sentencias, la cuales ejecuta una operación deseada y devuelve un valor y/o realiza una tarea, este bloque puede ser llamados cuando se necesite.\n",
    "\n",
    "Hacer esto tiene 2 principales Ventajas\n",
    "\n",
    "- MODULARIZACION: \n",
    "    permite separar un programa complejo en una serie de partes o módulos más simples, facilitando así la         programación y el depurado.\n",
    "- REAUTILIZACION: \n",
    "    permite reutilizar una misma función en distintos programas.\n",
    "\n"
   ]
  },
  {
   "cell_type": "code",
   "execution_count": null,
   "metadata": {},
   "outputs": [],
   "source": [
    "# ARMANDO LA FUNCION\n",
    "def suma(valor1,valor2):\n",
    "    \"\"\"documentacion\"\"\"\n",
    "    suma = valor1 + valor2\n",
    "    return suma\n",
    "\n",
    "\n",
    "def resta(valor1,valor2):\n",
    "    \"\"\"documentacion\"\"\"\n",
    "    resta = valor1 - valor2\n",
    "    return resta\n",
    "\n",
    "# LLAMANDO A LA FUNCION\n",
    "suma(5,5)\n",
    "resta(5,2)"
   ]
  },
  {
   "cell_type": "markdown",
   "metadata": {},
   "source": [
    "## Operaciones con Strings (cadena de caracteres)"
   ]
  },
  {
   "cell_type": "code",
   "execution_count": null,
   "metadata": {},
   "outputs": [],
   "source": [
    "string = 'La temperatura en Salta es de: 30°C'\n",
    "\n",
    "# Saber si comienza con una subcadena de carcateres\n",
    "string.startswith('La')\n",
    "string.startswith('La',18,23)\n",
    "string.startswith('Salta',18,23)\n",
    "\n",
    "# Saber si termina con una subcadena de caracteres\n",
    "string.endswith('30°C')\n",
    "string.endswith('30°C',18,23)\n",
    "string.endswith('Salta',18,23)\n",
    "\n",
    "# Contar cuantas veces se encuentra la subcadena\n",
    "string.count('e')\n",
    "\n",
    "# Saber en que indice se encuentra una subcadena\n",
    "string.index('Salta')\n",
    "\n",
    "# Hacerlo Todo minusculas\n",
    "string.lower()\n",
    "\n",
    "# Hacerlo Todo Mayusculas\n",
    "string.upper()\n",
    "\n",
    "# En forma de Titulo\n",
    "string.title()\n",
    "\n",
    "# centrar\n",
    "string.center(100)\n",
    "\n",
    "string = '25/30/15'\n",
    "# separar un string\n",
    "temperatura,sensacion_termica, humedad = string.split('/',2)\n",
    "print(temperatura)\n",
    "print(sensacion_termica)\n",
    "print(humedad)"
   ]
  },
  {
   "cell_type": "markdown",
   "metadata": {},
   "source": [
    "## Archivos\n",
    "\n",
    "Veremos en esta unidad cómo manejar archivos desde nuestros programas.\n",
    "\n",
    "Existen dos formas básicas de acceder a un archivo, una es utilizarlo como un archivo de texto (la que nosotros utilizaremos), que procesaremos línea por línea; la otra es tratarlo como un archivo binario, que procesaremos byte por byte"
   ]
  },
  {
   "cell_type": "code",
   "execution_count": null,
   "metadata": {},
   "outputs": [],
   "source": [
    "# nombre = open('ruta/nombre_del_archivo', 'modo', 'codificacion')\n",
    "file = open(\"archivo_prueba_1.txt\", 'w', encoding='utf-8')  # Abriendo en Modo lectura\n",
    "file.write('Temperatura: 25°C')\n",
    "file.write('\\n')\n",
    "file.write('Presion: 50')\n",
    "file.close()"
   ]
  },
  {
   "cell_type": "markdown",
   "metadata": {},
   "source": [
    "### Vamos a Leer lo que contiene un Archivo existente"
   ]
  },
  {
   "cell_type": "code",
   "execution_count": null,
   "metadata": {},
   "outputs": [],
   "source": [
    "file = open('archivo_prueba_2.txt','r',encoding='utf-8')\n",
    "content = file.read()\n",
    "print(content)\n",
    "file.close()"
   ]
  },
  {
   "cell_type": "markdown",
   "metadata": {},
   "source": [
    "### Vamos a hacer algunas cositas que aprendimos con el archivo"
   ]
  },
  {
   "cell_type": "code",
   "execution_count": null,
   "metadata": {},
   "outputs": [],
   "source": [
    "with open('archivo_prueba_2.txt','r',encoding='utf-8') as fd:\n",
    "    for indice,line in enumerate(fd):\n",
    "        lista = line.split(',',5)\n",
    "        print()\n",
    "        for valor in lista:\n",
    "            print(f\"El dia {indice+1} hubo {valor}\")\n"
   ]
  }
 ],
 "metadata": {
  "kernelspec": {
   "display_name": "Python 3",
   "language": "python",
   "name": "python3"
  },
  "language_info": {
   "codemirror_mode": {
    "name": "ipython",
    "version": 3
   },
   "file_extension": ".py",
   "mimetype": "text/x-python",
   "name": "python",
   "nbconvert_exporter": "python",
   "pygments_lexer": "ipython3",
   "version": "3.7.3"
  },
  "metadata": {
   "interpreter": {
    "hash": "ae8be06729c0a5e7c71ddd220683e823d4031ed0a92b19c6b9c2493d0fd559c1"
   }
  }
 },
 "nbformat": 4,
 "nbformat_minor": 2
}
