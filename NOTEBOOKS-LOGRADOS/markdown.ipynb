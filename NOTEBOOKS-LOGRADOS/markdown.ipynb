{
 "cells": [
  {
   "cell_type": "markdown",
   "id": "infectious-large",
   "metadata": {},
   "source": [
    "Temperatura\n",
    "\n",
    "**Tempertura**\n",
    "\n",
    "listas:\n",
    "\n",
    "- temperatura\n",
    "- presion\n",
    "- humedad\n",
    "  + elemento1\n",
    "* elemento1"
   ]
  },
  {
   "cell_type": "markdown",
   "id": "immune-wesley",
   "metadata": {},
   "source": [
    "Encabezado de primer nivel\n",
    "==\n",
    "\n",
    "Encabezado de segundo nivel\n",
    "--\n",
    "\n",
    "### Encabezado de tercer nivel"
   ]
  },
  {
   "cell_type": "markdown",
   "id": "decent-hollow",
   "metadata": {},
   "source": [
    "Encabezado de primer nivel\n",
    "==\n",
    "\n",
    "Encabezado de segundo nivel\n",
    "--\n",
    "\n",
    "### Encabezado de tercer nivel"
   ]
  },
  {
   "cell_type": "markdown",
   "id": "geological-finding",
   "metadata": {},
   "source": [
    "> Markdown es un lenguaje de marcado ligero creado por John Gruber que\n",
    "trata de conseguir la máxima legibilidad y facilidad de publicación\n",
    "tanto en sus forma de entrada como de salida, inspirándose en\n",
    "muchas convenciones existentes para marcar mensajes de correo\n",
    "electrónico usando texto plano.\n"
   ]
  },
  {
   "cell_type": "markdown",
   "id": "micro-philip",
   "metadata": {},
   "source": [
    "<blockquote><div style=\"background-color:#DCDCDC; color:#000000; font-style: normal; font-family: Georgia;\">\n",
    "Markdown es un lenguaje de marcado ligero creado por John Gruber que\n",
    "trata de conseguir la máxima legibilidad y facilidad de publicación\n",
    "tanto en sus forma de entrada como de salida, inspirándose en\n",
    "muchas convenciones existentes para marcar mensajes de correo\n",
    "electrónico usando texto plano.\n",
    "</div></blockquote>"
   ]
  },
  {
   "cell_type": "markdown",
   "id": "medium-favorite",
   "metadata": {},
   "source": [
    "Algunas de estas palabras son *enfatizadas*.\n",
    "\n",
    "Algunas de estas palabras también son _enfatizadas_.\n",
    "\n",
    "Use dos asteriscos para **énfasis fuerte**.\n",
    "\n",
    "O si lo prefiere dos __guiones bajos__.\n",
    "\n",
    "También se puede ~~tachar~~ palabras"
   ]
  },
  {
   "cell_type": "code",
   "execution_count": null,
   "id": "rural-stranger",
   "metadata": {},
   "outputs": [],
   "source": []
  }
 ],
 "metadata": {
  "kernelspec": {
   "display_name": "Python 3",
   "language": "python",
   "name": "python3"
  },
  "language_info": {
   "codemirror_mode": {
    "name": "ipython",
    "version": 3
   },
   "file_extension": ".py",
   "mimetype": "text/x-python",
   "name": "python",
   "nbconvert_exporter": "python",
   "pygments_lexer": "ipython3",
   "version": "3.7.3"
  }
 },
 "nbformat": 4,
 "nbformat_minor": 5
}
