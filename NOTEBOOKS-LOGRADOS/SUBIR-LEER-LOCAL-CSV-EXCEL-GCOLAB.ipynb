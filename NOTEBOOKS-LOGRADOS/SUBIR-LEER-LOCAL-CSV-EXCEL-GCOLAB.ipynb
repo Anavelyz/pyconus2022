{
 "cells": [
  {
   "cell_type": "markdown",
   "id": "together-israeli",
   "metadata": {},
   "source": [
    "> https://medium.com/@mhd.ali.nasser/how-to-upload-read-a-local-csv-or-excel-using-python-pandas-into-googles-colab-9304a11b870e"
   ]
  },
  {
   "cell_type": "markdown",
   "id": "cultural-military",
   "metadata": {},
   "source": [
    "## How to upload / read a local .csv or excel using python pandas into Google’s Colab?\n",
    "\n",
    "### Mohamad Ali Nasser\n",
    "\n",
    "> Apr 23, 2019·1 min read\n",
    "    We’ve all been there, how to read a local csv or excel file using pandas’ dataframe in python, I suggest you save the below method as you will use it many times over.\n",
    "    \n",
    "    This method is for Google Colab.\n"
   ]
  },
  {
   "cell_type": "code",
   "execution_count": 1,
   "id": "eight-jacksonville",
   "metadata": {},
   "outputs": [
    {
     "ename": "ModuleNotFoundError",
     "evalue": "No module named 'google.colab'",
     "output_type": "error",
     "traceback": [
      "\u001b[0;31m---------------------------------------------------------------------------\u001b[0m",
      "\u001b[0;31mModuleNotFoundError\u001b[0m                       Traceback (most recent call last)",
      "\u001b[0;32m<ipython-input-1-4b4d8cec682a>\u001b[0m in \u001b[0;36m<module>\u001b[0;34m\u001b[0m\n\u001b[1;32m      4\u001b[0m \u001b[0;34m\u001b[0m\u001b[0m\n\u001b[1;32m      5\u001b[0m \u001b[0;31m# Use to import the file into google Colab drive\u001b[0m\u001b[0;34m\u001b[0m\u001b[0;34m\u001b[0m\u001b[0;34m\u001b[0m\u001b[0m\n\u001b[0;32m----> 6\u001b[0;31m \u001b[0;32mfrom\u001b[0m \u001b[0mgoogle\u001b[0m\u001b[0;34m.\u001b[0m\u001b[0mcolab\u001b[0m \u001b[0;32mimport\u001b[0m \u001b[0mfiles\u001b[0m\u001b[0;34m\u001b[0m\u001b[0;34m\u001b[0m\u001b[0m\n\u001b[0m\u001b[1;32m      7\u001b[0m \u001b[0;34m\u001b[0m\u001b[0m\n\u001b[1;32m      8\u001b[0m \u001b[0;31m# Use to import io, which opens the file from the Colab drive\u001b[0m\u001b[0;34m\u001b[0m\u001b[0;34m\u001b[0m\u001b[0;34m\u001b[0m\u001b[0m\n",
      "\u001b[0;31mModuleNotFoundError\u001b[0m: No module named 'google.colab'"
     ]
    }
   ],
   "source": [
    "\n",
    "# 1. First we will start with the imports:\n",
    "# Use to import pandas\n",
    "import pandas as pd\n",
    "\n",
    "# Use to import the file into google Colab drive\n",
    "from google.colab import files \n",
    "\n",
    "# Use to import io, which opens the file from the Colab drive\n",
    "import io"
   ]
  },
  {
   "cell_type": "code",
   "execution_count": 2,
   "id": "fossil-violence",
   "metadata": {},
   "outputs": [
    {
     "ename": "NameError",
     "evalue": "name 'files' is not defined",
     "output_type": "error",
     "traceback": [
      "\u001b[0;31m---------------------------------------------------------------------------\u001b[0m",
      "\u001b[0;31mNameError\u001b[0m                                 Traceback (most recent call last)",
      "\u001b[0;32m<ipython-input-2-8b7eb24b9c1f>\u001b[0m in \u001b[0;36m<module>\u001b[0;34m\u001b[0m\n\u001b[1;32m      2\u001b[0m \u001b[0;31m# This will open a widget when run that will enable you to browse the files on your local storage drive.\u001b[0m\u001b[0;34m\u001b[0m\u001b[0;34m\u001b[0m\u001b[0;34m\u001b[0m\u001b[0m\n\u001b[1;32m      3\u001b[0m \u001b[0;34m\u001b[0m\u001b[0m\n\u001b[0;32m----> 4\u001b[0;31m \u001b[0muploaded\u001b[0m \u001b[0;34m=\u001b[0m \u001b[0mfiles\u001b[0m\u001b[0;34m.\u001b[0m\u001b[0mupload\u001b[0m\u001b[0;34m(\u001b[0m\u001b[0;34m)\u001b[0m\u001b[0;34m\u001b[0m\u001b[0;34m\u001b[0m\u001b[0m\n\u001b[0m",
      "\u001b[0;31mNameError\u001b[0m: name 'files' is not defined"
     ]
    }
   ],
   "source": [
    "# 2. Now it is time for the upload:\n",
    "# This will open a widget when run that will enable you to browse the files on your local storage drive.\n",
    "\n",
    "uploaded = files.upload()"
   ]
  },
  {
   "cell_type": "code",
   "execution_count": 3,
   "id": "corrected-karen",
   "metadata": {},
   "outputs": [
    {
     "ename": "NameError",
     "evalue": "name 'io' is not defined",
     "output_type": "error",
     "traceback": [
      "\u001b[0;31m---------------------------------------------------------------------------\u001b[0m",
      "\u001b[0;31mNameError\u001b[0m                                 Traceback (most recent call last)",
      "\u001b[0;32m<ipython-input-3-f6c89b45ea8f>\u001b[0m in \u001b[0;36m<module>\u001b[0;34m\u001b[0m\n\u001b[1;32m      2\u001b[0m \u001b[0;31m# Now use the below code to read the csv in pandas' dataframe\u001b[0m\u001b[0;34m\u001b[0m\u001b[0;34m\u001b[0m\u001b[0;34m\u001b[0m\u001b[0m\n\u001b[1;32m      3\u001b[0m \u001b[0;34m\u001b[0m\u001b[0m\n\u001b[0;32m----> 4\u001b[0;31m \u001b[0mdf\u001b[0m \u001b[0;34m=\u001b[0m \u001b[0mpd\u001b[0m\u001b[0;34m.\u001b[0m\u001b[0mread_csv\u001b[0m\u001b[0;34m(\u001b[0m\u001b[0mio\u001b[0m\u001b[0;34m.\u001b[0m\u001b[0mStringIO\u001b[0m\u001b[0;34m(\u001b[0m\u001b[0muploaded\u001b[0m\u001b[0;34m[\u001b[0m\u001b[0;34m'NAME OF FILE.CSV'\u001b[0m\u001b[0;34m]\u001b[0m\u001b[0;34m.\u001b[0m\u001b[0mdecode\u001b[0m\u001b[0;34m(\u001b[0m\u001b[0;34m'utf-8'\u001b[0m\u001b[0;34m)\u001b[0m\u001b[0;34m)\u001b[0m\u001b[0;34m)\u001b[0m\u001b[0;34m\u001b[0m\u001b[0;34m\u001b[0m\u001b[0m\n\u001b[0m\u001b[1;32m      5\u001b[0m \u001b[0;34m\u001b[0m\u001b[0m\n\u001b[1;32m      6\u001b[0m \u001b[0;31m# And voilà, now you have a fully working Dataframe.\u001b[0m\u001b[0;34m\u001b[0m\u001b[0;34m\u001b[0m\u001b[0;34m\u001b[0m\u001b[0m\n",
      "\u001b[0;31mNameError\u001b[0m: name 'io' is not defined"
     ]
    }
   ],
   "source": [
    "# 3. Reading the uploaded .csv with Pandas and decoding it so it readable:\n",
    "# Now use the below code to read the csv in pandas' dataframe\n",
    "\n",
    "df = pd.read_csv(io.StringIO(uploaded['NAME OF FILE.CSV'].decode('utf-8')))\n",
    "\n",
    "# And voilà, now you have a fully working Dataframe."
   ]
  },
  {
   "cell_type": "markdown",
   "id": "proper-patent",
   "metadata": {},
   "source": [
    "> I hope this was useful for you. Please comment if you have any questions, and follow here or on twitter for future tutorials.\n",
    "\n",
    "> https://twitter.com/mhd_ali_nasser\n",
    "\n",
    "### Cheers :)"
   ]
  },
  {
   "cell_type": "code",
   "execution_count": null,
   "id": "convenient-subdivision",
   "metadata": {},
   "outputs": [],
   "source": [
    "# https://stackoverflow.com/questions/62500802/how-to-read-json-file-on-colab\n",
    "# How to read Json file on Colab\n",
    "# It sounds like you have several lines in your json file. you probably need to use the lines argument:\n",
    "\n",
    "beauty_df = pd.read_json('All_Beauty.json', lines=True)"
   ]
  }
 ],
 "metadata": {
  "kernelspec": {
   "display_name": "Python 3",
   "language": "python",
   "name": "python3"
  },
  "language_info": {
   "codemirror_mode": {
    "name": "ipython",
    "version": 3
   },
   "file_extension": ".py",
   "mimetype": "text/x-python",
   "name": "python",
   "nbconvert_exporter": "python",
   "pygments_lexer": "ipython3",
   "version": "3.7.3"
  }
 },
 "nbformat": 4,
 "nbformat_minor": 5
}
