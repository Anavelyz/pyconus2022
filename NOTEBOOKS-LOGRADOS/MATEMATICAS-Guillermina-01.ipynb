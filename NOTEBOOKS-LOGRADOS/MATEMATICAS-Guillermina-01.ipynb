{
 "cells": [
  {
   "cell_type": "code",
   "execution_count": 1,
   "id": "macro-distributor",
   "metadata": {},
   "outputs": [
    {
     "data": {
      "text/plain": [
       "1"
      ]
     },
     "execution_count": 1,
     "metadata": {},
     "output_type": "execute_result"
    }
   ],
   "source": [
    "5 % 2"
   ]
  },
  {
   "cell_type": "code",
   "execution_count": 2,
   "id": "built-framing",
   "metadata": {},
   "outputs": [
    {
     "data": {
      "text/plain": [
       "0"
      ]
     },
     "execution_count": 2,
     "metadata": {},
     "output_type": "execute_result"
    }
   ],
   "source": [
    "10 % 2"
   ]
  },
  {
   "cell_type": "code",
   "execution_count": 1,
   "id": "extended-spain",
   "metadata": {},
   "outputs": [
    {
     "name": "stdout",
     "output_type": "stream",
     "text": [
      "ES DIVISIBLE\n"
     ]
    }
   ],
   "source": [
    "if 5 % 2 : print('ES DIVISIBLE')"
   ]
  },
  {
   "cell_type": "code",
   "execution_count": 2,
   "id": "going-breakdown",
   "metadata": {},
   "outputs": [],
   "source": [
    "if (5 % 2) == 0: print('Es DIVISIBLE')"
   ]
  },
  {
   "cell_type": "code",
   "execution_count": 3,
   "id": "sound-prior",
   "metadata": {},
   "outputs": [
    {
     "name": "stdout",
     "output_type": "stream",
     "text": [
      "Es DIVISIBLE\n"
     ]
    }
   ],
   "source": [
    "if (4 % 2) == 0: print('Es DIVISIBLE')"
   ]
  },
  {
   "cell_type": "code",
   "execution_count": 5,
   "id": "bearing-desert",
   "metadata": {},
   "outputs": [
    {
     "name": "stdout",
     "output_type": "stream",
     "text": [
      "2\n",
      "3\n",
      "4\n",
      "5\n",
      "6\n",
      "7\n",
      "8\n",
      "9\n",
      "10\n",
      "11\n",
      "12\n",
      "13\n",
      "14\n",
      "15\n",
      "16\n",
      "17\n",
      "18\n",
      "19\n",
      "20\n",
      "21\n",
      "22\n",
      "23\n",
      "24\n",
      "25\n",
      "26\n",
      "27\n",
      "28\n",
      "29\n",
      "30\n"
     ]
    }
   ],
   "source": [
    "for numero in [2, 3 , 4 , 5, 6, 7, 8, 9, 10, 11, 12, 13, 14, 15, 16, 17, 18, 19, 20, 21, 22, 23, 24, 25, 26, 27, 28, 29, 30]:\n",
    "    print(numero)"
   ]
  },
  {
   "cell_type": "code",
   "execution_count": 8,
   "id": "animated-bruce",
   "metadata": {},
   "outputs": [
    {
     "name": "stdout",
     "output_type": "stream",
     "text": [
      "0\n",
      "1\n",
      "2\n",
      "3\n",
      "4\n",
      "5\n",
      "6\n",
      "7\n",
      "8\n",
      "9\n"
     ]
    }
   ],
   "source": [
    "for numero in range(10):\n",
    "    print(numero)"
   ]
  },
  {
   "cell_type": "code",
   "execution_count": 9,
   "id": "appointed-feedback",
   "metadata": {},
   "outputs": [
    {
     "name": "stdout",
     "output_type": "stream",
     "text": [
      "1\n",
      "2\n",
      "3\n",
      "4\n",
      "5\n",
      "6\n",
      "7\n",
      "8\n",
      "9\n",
      "10\n"
     ]
    }
   ],
   "source": [
    "for numero in range(10):\n",
    "    print(numero + 1)"
   ]
  },
  {
   "cell_type": "code",
   "execution_count": 1,
   "id": "streaming-gospel",
   "metadata": {},
   "outputs": [
    {
     "name": "stdout",
     "output_type": "stream",
     "text": [
      "el numero:  2 Es DIVISIBLE\n"
     ]
    }
   ],
   "source": [
    "numero = 2\n",
    "if (numero % 2) == 0:\n",
    "    print('el numero: ', numero, 'Es DIVISIBLE')\n"
   ]
  },
  {
   "cell_type": "code",
   "execution_count": 4,
   "id": "placed-license",
   "metadata": {},
   "outputs": [
    {
     "name": "stdout",
     "output_type": "stream",
     "text": [
      "El numero:  3 No es Divisible\n"
     ]
    }
   ],
   "source": [
    "numero = 3\n",
    "if (numero % 2) == 0:\n",
    "    print('El numero: ', numero, 'Es DIVISIBLE')\n",
    "else:\n",
    "    print('El numero: ', numero, 'No es Divisible')"
   ]
  },
  {
   "cell_type": "code",
   "execution_count": 2,
   "id": "environmental-wrestling",
   "metadata": {},
   "outputs": [
    {
     "name": "stdout",
     "output_type": "stream",
     "text": [
      "el numero:  2 Es DIVISIBLE\n",
      "el numero:  4 Es DIVISIBLE\n",
      "el numero:  6 Es DIVISIBLE\n",
      "el numero:  8 Es DIVISIBLE\n",
      "el numero:  10 Es DIVISIBLE\n",
      "el numero:  12 Es DIVISIBLE\n",
      "el numero:  14 Es DIVISIBLE\n",
      "el numero:  16 Es DIVISIBLE\n",
      "el numero:  18 Es DIVISIBLE\n",
      "el numero:  20 Es DIVISIBLE\n",
      "el numero:  22 Es DIVISIBLE\n",
      "el numero:  24 Es DIVISIBLE\n",
      "el numero:  26 Es DIVISIBLE\n",
      "el numero:  28 Es DIVISIBLE\n",
      "el numero:  30 Es DIVISIBLE\n"
     ]
    }
   ],
   "source": [
    "for numero in [2, 3 , 4 , 5, 6, 7, 8, 9, 10, 11, 12, 13, 14, 15, 16, 17, 18, 19, 20, 21, 22, 23, 24, 25, 26, 27, 28, 29, 30]:\n",
    "    if (numero % 2) == 0:\n",
    "        print('el numero: ', numero, 'Es DIVISIBLE')"
   ]
  },
  {
   "cell_type": "code",
   "execution_count": 4,
   "id": "acceptable-secret",
   "metadata": {},
   "outputs": [
    {
     "name": "stdout",
     "output_type": "stream",
     "text": [
      "el numero:  2 Es DIVISIBLE\n",
      "el numero:  4 Es DIVISIBLE\n",
      "el numero:  6 Es DIVISIBLE\n",
      "el numero:  8 Es DIVISIBLE\n",
      "el numero:  10 Es DIVISIBLE\n",
      "el numero:  12 Es DIVISIBLE\n",
      "el numero:  14 Es DIVISIBLE\n",
      "el numero:  16 Es DIVISIBLE\n",
      "el numero:  18 Es DIVISIBLE\n",
      "el numero:  20 Es DIVISIBLE\n",
      "el numero:  22 Es DIVISIBLE\n",
      "el numero:  24 Es DIVISIBLE\n",
      "el numero:  26 Es DIVISIBLE\n",
      "el numero:  28 Es DIVISIBLE\n",
      "el numero:  30 Es DIVISIBLE\n",
      "=====================================\n",
      "Cantidad de Divisibles:  15\n"
     ]
    }
   ],
   "source": [
    "contador = 0\n",
    "for numero in [2, 3 , 4 , 5, 6, 7, 8, 9, 10, 11, 12, 13, 14, 15, 16, 17, 18, 19, 20, 21, 22, 23, 24, 25, 26, 27, 28, 29, 30]:\n",
    "    if (numero % 2) == 0:\n",
    "        print('el numero: ', numero, 'Es DIVISIBLE')\n",
    "        contador += 1\n",
    "\n",
    "print('=====================================')\n",
    "print('Cantidad de Divisibles: ',contador)"
   ]
  },
  {
   "cell_type": "code",
   "execution_count": null,
   "id": "iraqi-anaheim",
   "metadata": {},
   "outputs": [],
   "source": [
    "n = input()"
   ]
  },
  {
   "cell_type": "code",
   "execution_count": null,
   "id": "billion-senior",
   "metadata": {},
   "outputs": [],
   "source": []
  }
 ],
 "metadata": {
  "kernelspec": {
   "display_name": "Python 3",
   "language": "python",
   "name": "python3"
  },
  "language_info": {
   "codemirror_mode": {
    "name": "ipython",
    "version": 3
   },
   "file_extension": ".py",
   "mimetype": "text/x-python",
   "name": "python",
   "nbconvert_exporter": "python",
   "pygments_lexer": "ipython3",
   "version": "3.7.3"
  }
 },
 "nbformat": 4,
 "nbformat_minor": 5
}
