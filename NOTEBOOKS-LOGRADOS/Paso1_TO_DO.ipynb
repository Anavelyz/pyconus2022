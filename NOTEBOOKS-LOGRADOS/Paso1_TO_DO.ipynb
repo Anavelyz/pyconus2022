{
 "cells": [
  {
   "cell_type": "markdown",
   "metadata": {},
   "source": [
    "# Paso 1 en Python con Jupyter "
   ]
  },
  {
   "cell_type": "markdown",
   "metadata": {},
   "source": [
    "## Como es costumbre vamos a comenzar importando el ZEN de Python by Tim Peters\n",
    "<img src=https://decodigo.com/m/2020/08/decodigo_zen_python.jpg >"
   ]
  },
  {
   "cell_type": "code",
   "execution_count": null,
   "metadata": {},
   "outputs": [],
   "source": []
  },
  {
   "cell_type": "markdown",
   "metadata": {},
   "source": [
    "## Primer \"Hola Mundo\" en Python\n",
    "#### La instruccion `Print()` nos va a ayudar en muchos casos a la hora de corregir errores, por ahora la utilizaremos para imprimir un mensaje en pantalla a travez de la consola."
   ]
  },
  {
   "cell_type": "code",
   "execution_count": null,
   "metadata": {},
   "outputs": [],
   "source": []
  },
  {
   "cell_type": "markdown",
   "metadata": {},
   "source": [
    "## Tipos de Datos\n",
    "\n",
    "#### Estos tipos de datos que vamos a ver al principio son sencillos de entender ya que tenemos una idea intuitiva de lo que puede llegar a contener cada uno.\n",
    "En python tenemos estos como los **TIPOS DE DATOS DE BASE**:\n",
    "\n",
    "    - ENTEROS\n",
    "    - FLOTANTES\n",
    "    - STRINGS\n",
    "    - BOOLEANOS\n",
    "    - BYTES"
   ]
  },
  {
   "cell_type": "code",
   "execution_count": null,
   "metadata": {},
   "outputs": [],
   "source": []
  },
  {
   "cell_type": "markdown",
   "metadata": {},
   "source": [
    "## Asignacion de Variables\n",
    "\n",
    "#### Para poder almacenar estos tipos de datos en algun lugar vamos a necesitar crear variables y guardar ese valor dentro de la `VARIABLE`, podemos ver a la variable como una cajita donde vamos a guardar nuestros `DATOS`.\n",
    "\n",
    "### Donde utilizaremos la siguiente notacion:  `nombre_de_mi_variable = valor_de_mi_variable`\n",
    "\n",
    "\n",
    "<img src=https://www.aulafacil.com/uploads/cursos/2288/editor/variable.es.jpg width=600 height=300>"
   ]
  },
  {
   "cell_type": "code",
   "execution_count": null,
   "metadata": {},
   "outputs": [],
   "source": []
  },
  {
   "cell_type": "markdown",
   "metadata": {},
   "source": [
    "## Operaciones Aritmeticas en Python\n",
    "\n",
    "#### Como ya nos venimos imaginando, una vez que podamos asignar un valor a nuestras variables desearemos hacer diferentes operaciones con ellas, `Las Operaciones` en la programacion tienen el mismo concepto que ya conocemos, tomar diferentes valores y realizar un calculo para obtener uno nuevo, cabe resaltar que cada tipo de Dato va a tener `Operaciones` diferentes exclusivas `PARA ESE TIPO DE DATO`, por ahora vamos a ver las Operaciones Aritmeticas.\n",
    "Python tiene una libreria llamada `math()` para operaciones mastematicas  que tambien nos ayudara mas tarde !"
   ]
  },
  {
   "cell_type": "code",
   "execution_count": null,
   "metadata": {},
   "outputs": [],
   "source": []
  },
  {
   "cell_type": "markdown",
   "metadata": {},
   "source": [
    "## Tipos de Contenedores en Python\n",
    "\n",
    "En una primera aproximacion vamos a decir que muchas veces necesitamos almacenar mas de un solo valor en la misma variable, y a esto lo conoceremos como Contenedores.\n",
    "\n",
    "En Python, tenemos:\n",
    "\n",
    "# Listas\n",
    "\n",
    "Una lista en Python es una estructura de datos formada por una secuencia ordenada de objetos, estas son:\n",
    "\n",
    "    - heterogéneas:\n",
    "        pueden estar conformadas por elementos de distintos tipo, incluidos otras listas.\n",
    "    - mutables:\n",
    "        sus elementos pueden modificarse.\n",
    "Para crear una lista lo haremos de la siguiente manera:\n",
    "\n",
    "    `nombre_de_mi_lista = [valor1, 'valor2', valor3, valorN]`\n",
    "\n",
    "# Tuplas\n",
    "\n",
    "Son muy similares a las listas y comparten varias de sus funciones y métodos integrados, aunque su principal diferencia es que son `INMUTABLES`. Esta no puede modificarse de ningún modo después de su creación.\n",
    "\n",
    "Para crear una tupla lo haremos de la siguiente manera:\n",
    "\n",
    "    `nombre_de_mi_tuple = (valor1, 'valor2', valor3, valorN)`\n",
    "\n",
    "# Diccionarios\n",
    "\n",
    "El diccionario, define una relación uno a uno entre claves y valores.\n",
    "\n",
    "Los diccionarios pueden ser creados colocando una lista separada por coma de pares \n",
    "\n",
    "`key:value` entre `{}`\n",
    "\n",
    "por ejemplo: `{'clave1': valor1, 'clave2': valor2}` o `{valor1:'clave1', valor2:'clave2'}`"
   ]
  },
  {
   "cell_type": "code",
   "execution_count": null,
   "metadata": {},
   "outputs": [],
   "source": []
  },
  {
   "cell_type": "markdown",
   "metadata": {},
   "source": [
    "## Secuencia de Indexacion en Contenedores\n",
    "\n",
    "#### Para acceder a los elementos denstro de estos contendores vamos a necesitar indexar los elementos que queremos obtener, esto lo haremos haciendo a referencia a a la `POSICION` que ocupa `EL VALOR` que queremos, o `LOS VALORES` que queremos\n",
    "\n",
    "<img src=http://programaenpython.com/wp-content/uploads/2019/02/indexacion_strings.png>"
   ]
  },
  {
   "cell_type": "code",
   "execution_count": null,
   "metadata": {},
   "outputs": [],
   "source": []
  },
  {
   "cell_type": "markdown",
   "metadata": {},
   "source": [
    "# Condicionales y Operadores Logicos\n",
    "\n",
    "#### En programacion un `Condicional` es una `Instruccion` que nos va a ayudar a tomar `DESICIONES`, para ello vamos a plantear una situacion y unas cuantas condiciones, pueded pasar que una condicion sea Verdadera, esto puede ser cierto o no, tambien podemos ver cuales condiciones son verdaderas (es decir mas de una es Verdadera), y por ultimo puded pasar que no se cumpla ninguna de nuestras condiciones.\n",
    "Para ayudarnos en esta toma decisiones tenemos `Operadores Logicos` per vamos a ver todo esto de a poco...\n",
    "\n",
    "## Declarar una condicion\n",
    "\n",
    "<img src=https://controlautomaticoeducacion.com/wp-content/uploads/condicionales-anidados.png width=400 height=700>\n",
    "\n",
    "## Operadores Relacionales\n",
    "\n",
    "<img src=https://programacionpython.files.wordpress.com/2008/07/signos1.jpg>\n",
    "\n",
    "## Operadores Logicos o Booleanos\n",
    "\n",
    "<img src= https://yosoy.dev/wp-content/uploads/2016/12/Tabla-3.2-Operadores-L%C3%B3gicos.png>"
   ]
  },
  {
   "cell_type": "code",
   "execution_count": null,
   "metadata": {},
   "outputs": [],
   "source": []
  },
  {
   "cell_type": "markdown",
   "metadata": {},
   "source": [
    "## Importando Bibliotecas-Librerias\n",
    "\n",
    "### En Programación, una biblioteca o, llamada por vicio del lenguaje librería (del inglés library) es un conjunto de implementaciones funcionales, codificadas en un lenguaje de programación, que ofrece una interfaz bien definida para la `funcionalidad` que se invoca.\n",
    "\n",
    "#### Hace un momento hablamos de una libreria que nos ayudaria a realizar operaciones Matematicas vamos a trabajar un poco con eso..."
   ]
  },
  {
   "cell_type": "code",
   "execution_count": null,
   "metadata": {},
   "outputs": [],
   "source": []
  },
  {
   "cell_type": "markdown",
   "metadata": {},
   "source": [
    "## Matematicas"
   ]
  },
  {
   "cell_type": "code",
   "execution_count": null,
   "metadata": {},
   "outputs": [],
   "source": []
  },
  {
   "cell_type": "markdown",
   "metadata": {},
   "source": [
    "## Bucle While\n",
    "\n",
    "#### En Python tiene una palabra reservada llamada `while` que nos permite ejecutar ciclos, o bien secuencias periódicas que nos permiten ejecutar código múltiples veces.\n",
    "\n",
    "El ciclo while nos permite realizar múltiples iteraciones basándonos en el resultado de una expresión lógica que puede tener como resultado un valor True o False.\n",
    "\n",
    "<img src=https://sites.google.com/site/javascriptpracticas/_/rsrc/1472866745954/5---uso-del-bucle-while/while.gif>\n"
   ]
  },
  {
   "cell_type": "code",
   "execution_count": null,
   "metadata": {},
   "outputs": [],
   "source": []
  },
  {
   "cell_type": "markdown",
   "metadata": {},
   "source": [
    "## Bucle FOR\n",
    "\n",
    "#### En general, un bucle es una `estructura de control` que repite un bloque de instrucciones. Un bucle for es un bucle que repite el bloque de instrucciones un número prederminado de veces. El bloque de instrucciones que se repite se suele llamar `cuerpo` del bucle y cada repetición se suele llamar `iteración`.\n",
    "\n",
    "\n",
    "<img src=https://i.imgur.com/i5vInG7.png width=600 height=500>"
   ]
  },
  {
   "cell_type": "code",
   "execution_count": null,
   "metadata": {},
   "outputs": [],
   "source": []
  },
  {
   "cell_type": "markdown",
   "metadata": {},
   "source": [
    "## Operaciones Genericas en Contenedores"
   ]
  },
  {
   "cell_type": "code",
   "execution_count": null,
   "metadata": {},
   "outputs": [],
   "source": [
    "\n"
   ]
  },
  {
   "cell_type": "markdown",
   "metadata": {},
   "source": [
    "## Operaciones con Listas"
   ]
  },
  {
   "cell_type": "code",
   "execution_count": null,
   "metadata": {},
   "outputs": [],
   "source": []
  },
  {
   "cell_type": "markdown",
   "metadata": {},
   "source": [
    "## Operaciones en Diccionarios"
   ]
  },
  {
   "cell_type": "code",
   "execution_count": null,
   "metadata": {},
   "outputs": [],
   "source": []
  },
  {
   "cell_type": "markdown",
   "metadata": {},
   "source": [
    "## Funciones\n",
    "\n",
    "#### Una función es un bloque de código con un nombre asociado, que recibe cero o más argumentos como entrada, sigue una secuencia de sentencias, la cuales ejecuta una operación deseada y devuelve un valor y/o realiza una tarea, este bloque puede ser llamados cuando se necesite.\n",
    "\n",
    "Hacer esto tiene 2 principales Ventajas\n",
    "\n",
    "- MODULARIZACION: \n",
    "    permite separar un programa complejo en una serie de partes o módulos más simples, facilitando así la         programación y el depurado.\n",
    "- REAUTILIZACION: \n",
    "    permite reutilizar una misma función en distintos programas.\n",
    "\n"
   ]
  },
  {
   "cell_type": "code",
   "execution_count": null,
   "metadata": {},
   "outputs": [],
   "source": []
  },
  {
   "cell_type": "markdown",
   "metadata": {},
   "source": [
    "## Operaciones con Strings (cadena de caracteres)"
   ]
  },
  {
   "cell_type": "code",
   "execution_count": null,
   "metadata": {},
   "outputs": [],
   "source": []
  },
  {
   "cell_type": "markdown",
   "metadata": {},
   "source": [
    "## Archivos\n",
    "\n",
    "Veremos en esta unidad cómo manejar archivos desde nuestros programas.\n",
    "\n",
    "Existen dos formas básicas de acceder a un archivo, una es utilizarlo como un archivo de texto (la que nosotros utilizaremos), que procesaremos línea por línea; la otra es tratarlo como un archivo binario, que procesaremos byte por byte"
   ]
  },
  {
   "cell_type": "code",
   "execution_count": null,
   "metadata": {},
   "outputs": [],
   "source": []
  },
  {
   "cell_type": "markdown",
   "metadata": {},
   "source": [
    "### Vamos a Leer lo que contiene un Archivo existente"
   ]
  },
  {
   "cell_type": "code",
   "execution_count": null,
   "metadata": {},
   "outputs": [],
   "source": []
  },
  {
   "cell_type": "markdown",
   "metadata": {},
   "source": [
    "### Vamos a hacer algunas cositas que aprendimos con el archivo"
   ]
  },
  {
   "cell_type": "code",
   "execution_count": null,
   "metadata": {},
   "outputs": [],
   "source": []
  }
 ],
 "metadata": {
  "kernelspec": {
   "display_name": "Python 3",
   "language": "python",
   "name": "python3"
  },
  "language_info": {
   "codemirror_mode": {
    "name": "ipython",
    "version": 3
   },
   "file_extension": ".py",
   "mimetype": "text/x-python",
   "name": "python",
   "nbconvert_exporter": "python",
   "pygments_lexer": "ipython3",
   "version": "3.7.3"
  },
  "metadata": {
   "interpreter": {
    "hash": "ae8be06729c0a5e7c71ddd220683e823d4031ed0a92b19c6b9c2493d0fd559c1"
   }
  }
 },
 "nbformat": 4,
 "nbformat_minor": 2
}
