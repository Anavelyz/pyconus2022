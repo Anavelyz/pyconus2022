{
 "cells": [
  {
   "cell_type": "markdown",
   "id": "grand-government",
   "metadata": {},
   "source": [
    "## Notebook realizado por Enzo Juarez"
   ]
  },
  {
   "cell_type": "code",
   "execution_count": null,
   "id": "previous-advertiser",
   "metadata": {},
   "outputs": [],
   "source": [
    "## https://globalweather.tamu.edu/\n",
    "## Repositorio de informacion metereologica\n",
    "## Fuente para obtener DATASET en TXT, Datos en TXT\n",
    "## Ejemplo: weatherdata--304-622.csv"
   ]
  },
  {
   "cell_type": "markdown",
   "id": "stainless-valve",
   "metadata": {},
   "source": [
    "# Abrir archivos de Texto tipo CSV TSV TXT"
   ]
  },
  {
   "cell_type": "code",
   "execution_count": 1,
   "id": "talented-river",
   "metadata": {},
   "outputs": [],
   "source": [
    "import pandas as pd"
   ]
  },
  {
   "cell_type": "code",
   "execution_count": 7,
   "id": "contemporary-beach",
   "metadata": {},
   "outputs": [
    {
     "name": "stdout",
     "output_type": "stream",
     "text": [
      "                0           1           2                     3  \\\n",
      "0  Temperatura:21  Presion:10  Humedad:15  Sensacion_Termica:30   \n",
      "1  Temperatura:22  Presion:20  Humedad:15  Sensacion_Termica:31   \n",
      "2  Temperatura:23  Presion:30  Humedad:15  Sensacion_Termica:32   \n",
      "3  Temperatura:24  Presion:40  Humedad:15  Sensacion_Termica:33   \n",
      "4  Temperatura:25  Presion:50  Humedad:15  Sensacion_Termica:34   \n",
      "5  Temperatura:26  Presion:60  Humedad:15  Sensacion_Termica:35   \n",
      "6  Temperatura:27  Presion:70  Humedad:15  Sensacion_Termica:36   \n",
      "7  Temperatura:28  Presion:80  Humedad:15  Sensacion_Termica:37   \n",
      "8  Temperatura:29  Presion:90  Humedad:15  Sensacion_Termica:38   \n",
      "\n",
      "                    4           5  \n",
      "0  Precipitaciones:30  Viento:160  \n",
      "1  Precipitaciones:30  Viento:150  \n",
      "2  Precipitaciones:30  Viento:120  \n",
      "3  Precipitaciones:30  Viento:180  \n",
      "4  Precipitaciones:30  Viento:190  \n",
      "5  Precipitaciones:30  Viento:200  \n",
      "6  Precipitaciones:30  Viento:120  \n",
      "7  Precipitaciones:30  Viento:140  \n",
      "8  Precipitaciones:30  Viento:130  \n"
     ]
    }
   ],
   "source": [
    "dataframe = pd.read_csv('datosmeteorologicos.txt', sep=\",\",header=None)\n",
    "print(dataframe)"
   ]
  },
  {
   "cell_type": "code",
   "execution_count": 3,
   "id": "precious-malawi",
   "metadata": {},
   "outputs": [
    {
     "name": "stdout",
     "output_type": "stream",
     "text": [
      "   Temperatura  Presion  Humedad  Sensacion_Termica  Precipitaciones  Viento\n",
      "0           21       10       15                 30               30     160\n",
      "1           22       20       15                 31               30     150\n",
      "2           23       30       15                 32               30     120\n",
      "3           24       40       15                 33               30     180\n",
      "4           25       50       15                 34               30     190\n",
      "5           26       60       15                 35               30     200\n",
      "6           27       70       15                 36               30     120\n",
      "7           28       80       15                 37               30     140\n",
      "8           29       90       15                 38               30     130\n"
     ]
    }
   ],
   "source": [
    "import pandas as pd\n",
    "dataframe2 = pd.read_csv('datosmeteorologicos2.txt', sep=\" \")\n",
    "print(dataframe2)"
   ]
  },
  {
   "cell_type": "code",
   "execution_count": 5,
   "id": "funky-application",
   "metadata": {},
   "outputs": [],
   "source": [
    "# pd.read_csv('nombre_de_archivo.csv',sep='\\t') Para archivos separados por Tabulador"
   ]
  },
  {
   "cell_type": "code",
   "execution_count": 4,
   "id": "nuclear-concern",
   "metadata": {},
   "outputs": [
    {
     "data": {
      "text/html": [
       "<div>\n",
       "<style scoped>\n",
       "    .dataframe tbody tr th:only-of-type {\n",
       "        vertical-align: middle;\n",
       "    }\n",
       "\n",
       "    .dataframe tbody tr th {\n",
       "        vertical-align: top;\n",
       "    }\n",
       "\n",
       "    .dataframe thead th {\n",
       "        text-align: right;\n",
       "    }\n",
       "</style>\n",
       "<table border=\"1\" class=\"dataframe\">\n",
       "  <thead>\n",
       "    <tr style=\"text-align: right;\">\n",
       "      <th></th>\n",
       "      <th>0M141210.175342</th>\n",
       "      <th>0</th>\n",
       "      <th>0.1</th>\n",
       "    </tr>\n",
       "  </thead>\n",
       "  <tbody>\n",
       "    <tr>\n",
       "      <th>0</th>\n",
       "      <td>4M36 91       0</td>\n",
       "      <td>0</td>\n",
       "      <td>0</td>\n",
       "    </tr>\n",
       "    <tr>\n",
       "      <th>1</th>\n",
       "      <td>5K331810.454795</td>\n",
       "      <td>0</td>\n",
       "      <td>0</td>\n",
       "    </tr>\n",
       "    <tr>\n",
       "      <th>2</th>\n",
       "      <td>5K412510.172603</td>\n",
       "      <td>0</td>\n",
       "      <td>0</td>\n",
       "    </tr>\n",
       "    <tr>\n",
       "      <th>3</th>\n",
       "      <td>6K212610.180822</td>\n",
       "      <td>0</td>\n",
       "      <td>0</td>\n",
       "    </tr>\n",
       "    <tr>\n",
       "      <th>4</th>\n",
       "      <td>9K33 810.542466</td>\n",
       "      <td>0</td>\n",
       "      <td>0</td>\n",
       "    </tr>\n",
       "    <tr>\n",
       "      <th>5</th>\n",
       "      <td>9K43 61       0</td>\n",
       "      <td>0</td>\n",
       "      <td>0</td>\n",
       "    </tr>\n",
       "    <tr>\n",
       "      <th>6</th>\n",
       "      <td>9M44201 0.50411</td>\n",
       "      <td>0</td>\n",
       "      <td>0</td>\n",
       "    </tr>\n",
       "    <tr>\n",
       "      <th>7</th>\n",
       "      <td>10M231610.150685</td>\n",
       "      <td>0</td>\n",
       "      <td>0</td>\n",
       "    </tr>\n",
       "    <tr>\n",
       "      <th>8</th>\n",
       "      <td>10M421710.523288</td>\n",
       "      <td>0</td>\n",
       "      <td>0</td>\n",
       "    </tr>\n",
       "    <tr>\n",
       "      <th>9</th>\n",
       "      <td>10M44212 1.00274</td>\n",
       "      <td>0</td>\n",
       "      <td>0</td>\n",
       "    </tr>\n",
       "  </tbody>\n",
       "</table>\n",
       "</div>"
      ],
      "text/plain": [
       "    0M141210.175342  0  0.1\n",
       "0   4M36 91       0  0    0\n",
       "1   5K331810.454795  0    0\n",
       "2   5K412510.172603  0    0\n",
       "3   6K212610.180822  0    0\n",
       "4   9K33 810.542466  0    0\n",
       "5   9K43 61       0  0    0\n",
       "6   9M44201 0.50411  0    0\n",
       "7  10M231610.150685  0    0\n",
       "8  10M421710.523288  0    0\n",
       "9  10M44212 1.00274  0    0"
      ]
     },
     "execution_count": 4,
     "metadata": {},
     "output_type": "execute_result"
    }
   ],
   "source": [
    "data1 = pd.read_fwf(\"http://staff.math.su.se/esbj/GLMbook/mccase.txt\")\n",
    "data1.head(10)"
   ]
  },
  {
   "cell_type": "code",
   "execution_count": 9,
   "id": "passing-meditation",
   "metadata": {},
   "outputs": [
    {
     "name": "stdout",
     "output_type": "stream",
     "text": [
      "            Date  Longitude   Latitude  Elevation  Max Temperature  \\\n",
      "0       1/1/1979   -62.1875 -30.442301         75           34.968   \n",
      "1       1/2/1979   -62.1875 -30.442301         75           32.055   \n",
      "2       1/3/1979   -62.1875 -30.442301         75           32.643   \n",
      "3       1/4/1979   -62.1875 -30.442301         75           33.438   \n",
      "4       1/5/1979   -62.1875 -30.442301         75           35.729   \n",
      "...          ...        ...        ...        ...              ...   \n",
      "12982  7/27/2014   -62.1875 -30.442301         75           15.938   \n",
      "12983  7/28/2014   -62.1875 -30.442301         75           20.470   \n",
      "12984  7/29/2014   -62.1875 -30.442301         75           22.072   \n",
      "12985  7/30/2014   -62.1875 -30.442301         75           18.200   \n",
      "12986  7/31/2014   -62.1875 -30.442301         75           22.298   \n",
      "\n",
      "       Min Temperature  Precipitation      Wind  Relative Humidity      Solar  \n",
      "0               18.019       0.346756  3.459731           0.539945  32.456311  \n",
      "1               21.653      10.099693  3.182952           0.810696  20.985752  \n",
      "2               19.994       0.000000  3.529763           0.638956  28.406983  \n",
      "3               19.572       0.000000  3.430782           0.480420  30.222842  \n",
      "4               20.306       0.000000  3.149614           0.445070  30.734881  \n",
      "...                ...            ...       ...                ...        ...  \n",
      "12982            5.081       0.000000  2.627763           0.639303  13.388504  \n",
      "12983            6.121       0.000000  3.853856           0.698549  15.112251  \n",
      "12984           12.764       0.209427  2.890072           0.785835   6.979922  \n",
      "12985           15.068       2.204133  2.457414           0.827991   1.954017  \n",
      "12986           15.538       1.692579  1.438762           0.841980   8.233861  \n",
      "\n",
      "[12987 rows x 10 columns]\n"
     ]
    }
   ],
   "source": [
    "## https://globalweather.tamu.edu/\n",
    "## Repositorio de informacion metereologica\n",
    "## Fuente para obtener DATASET en TXT, Datos en TXT\n",
    "## Ejemplo: weatherdata--304-622.csv\n",
    "\n",
    "datos = pd.read_csv('weatherdata--304-622.csv', index_col=False)\n",
    "print(datos)"
   ]
  },
  {
   "cell_type": "code",
   "execution_count": 1,
   "id": "automated-preserve",
   "metadata": {},
   "outputs": [],
   "source": [
    "with open('datosmeteorologicos2.txt', 'r') as filein, open('myfile_practica_20MAYO2021.txt','w') as fileout:\n",
    "    for line in filein:\n",
    "        line = line.replace(' ','-')\n",
    "        fileout.write(line)"
   ]
  },
  {
   "cell_type": "code",
   "execution_count": 2,
   "id": "instant-arena",
   "metadata": {},
   "outputs": [],
   "source": [
    "with open('weatherdata--304-622.csv', 'r') as filein, open('myfile.txt','w') as fileout:\n",
    "    for line in filein:\n",
    "        line = line.replace('\"','')\n",
    "        fileout.write(line)\n"
   ]
  },
  {
   "cell_type": "code",
   "execution_count": 5,
   "id": "eligible-gather",
   "metadata": {},
   "outputs": [],
   "source": [
    "with open('myfile.txt', 'r') as filein, open('myfile00003.txt','w') as fileout:\n",
    "    for line in filein:\n",
    "        line = line.replace(',','\\t')\n",
    "        fileout.write(line)"
   ]
  },
  {
   "cell_type": "code",
   "execution_count": 4,
   "id": "acknowledged-resolution",
   "metadata": {},
   "outputs": [],
   "source": [
    "# pd.read_csv('nombre_de_archivo.csv',sep='\\t') Para datos separados por Tabulador\n",
    "\n",
    "\n",
    "# pd.read_csv('nombre_de_archivo.csv',sep='\\n') Para datos separados por saltos de linea\n"
   ]
  },
  {
   "cell_type": "code",
   "execution_count": 6,
   "id": "neither-backing",
   "metadata": {},
   "outputs": [],
   "source": [
    "with open('myfile.txt', 'r') as filein, open('myfile00004.txt','w') as fileout:\n",
    "    for line in filein:\n",
    "        line = line.replace(',',' ')\n",
    "        fileout.write(line)"
   ]
  },
  {
   "cell_type": "code",
   "execution_count": null,
   "id": "abstract-oxford",
   "metadata": {},
   "outputs": [],
   "source": []
  }
 ],
 "metadata": {
  "kernelspec": {
   "display_name": "Python 3",
   "language": "python",
   "name": "python3"
  },
  "language_info": {
   "codemirror_mode": {
    "name": "ipython",
    "version": 3
   },
   "file_extension": ".py",
   "mimetype": "text/x-python",
   "name": "python",
   "nbconvert_exporter": "python",
   "pygments_lexer": "ipython3",
   "version": "3.7.3"
  }
 },
 "nbformat": 4,
 "nbformat_minor": 5
}
