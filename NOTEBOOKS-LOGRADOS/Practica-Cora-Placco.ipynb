{
 "cells": [
  {
   "cell_type": "markdown",
   "id": "stuck-celtic",
   "metadata": {},
   "source": [
    "## Primera Practica con Cora en el VPS "
   ]
  },
  {
   "cell_type": "markdown",
   "id": "binary-optimum",
   "metadata": {},
   "source": [
    "# Titulo"
   ]
  },
  {
   "cell_type": "markdown",
   "id": "ideal-praise",
   "metadata": {},
   "source": [
    "> Este es un ejemplo de un parrafo donde explico el ejercicio que vamos a realizar con Cora para trabajar en el VPS"
   ]
  },
  {
   "cell_type": "code",
   "execution_count": 2,
   "id": "adult-tiffany",
   "metadata": {},
   "outputs": [],
   "source": [
    "import pandas as pd"
   ]
  },
  {
   "cell_type": "code",
   "execution_count": 3,
   "id": "existing-colonial",
   "metadata": {},
   "outputs": [],
   "source": [
    "datos = pd.read_excel('LAQUIACA-2019-JUNIO.xlsx')"
   ]
  },
  {
   "cell_type": "code",
   "execution_count": 4,
   "id": "massive-terminology",
   "metadata": {},
   "outputs": [
    {
     "name": "stdout",
     "output_type": "stream",
     "text": [
      "['MESA', 'ORDEN', 'ESCUELA', 'TIPO DE EJEMPLAR', 'MATRICULA', 'APELLIDO', 'NOMBRE', 'CLASE', 'GENERO', 'DOMICILIO', 'SECCION', 'CIRCUITO', 'MESA.1', 'ORDEN_MESA', 'ESCUELA.1', 'TX_SECC_NUMERO', 'TX_CIRC_NUMERO']\n"
     ]
    }
   ],
   "source": [
    "print(list(datos.columns.values))"
   ]
  },
  {
   "cell_type": "code",
   "execution_count": 5,
   "id": "static-potter",
   "metadata": {},
   "outputs": [
    {
     "name": "stdout",
     "output_type": "stream",
     "text": [
      "       MESA  ORDEN           ESCUELA TIPO DE EJEMPLAR  MATRICULA APELLIDO  \\\n",
      "0      1620      1               EET           DNI-EA    8000677   PRIETO   \n",
      "1      1620      2               EET              DNI   28314207    ABALO   \n",
      "2      1620      3               EET           DNI-EA   33844704    ABALO   \n",
      "3      1620      4               EET           DNI-EA    8012954    ABALO   \n",
      "4      1620      5               EET           DNI-EB   28727558    ABALO   \n",
      "...     ...    ...               ...              ...        ...      ...   \n",
      "14299  1662    328  ESCUELA FRONTERA           DNI-EA   41401783   ZUTARA   \n",
      "14300  1662    329  ESCUELA FRONTERA           DNI-EA   39401859   ZUTARA   \n",
      "14301  1662    330  ESCUELA FRONTERA           DNI-ED   40765421   ZUTARA   \n",
      "14302  1662    331  ESCUELA FRONTERA           DNI-EC   12231832   ZUTARA   \n",
      "14303  1662    332  ESCUELA FRONTERA           DNI-EC   21319985   ZUTARA   \n",
      "\n",
      "                NOMBRE  CLASE GENERO  \\\n",
      "0          RAUL MANUEL   1948      M   \n",
      "1         BELEN ZULEMA   1980      F   \n",
      "2      BETSABE AMERICA   1988      F   \n",
      "3         LUIS ALBERTO   1950      M   \n",
      "4         LUIS ENRIQUE   1982      M   \n",
      "...                ...    ...    ...   \n",
      "14299    CELESTE NOEMI   1998      F   \n",
      "14300   CRISTIAN ARIEL   1996      M   \n",
      "14301   DANTE SALVADOR   1997      M   \n",
      "14302          DOROTEA   1956      F   \n",
      "14303          HILARIO   1972      M   \n",
      "\n",
      "                                      DOMICILIO    SECCION           CIRCUITO  \\\n",
      "0                              AV. LAMADRID 344  15 - YAVI  118   - LA QUIACA   \n",
      "1                              BELGRANO 797 S/N  15 - YAVI  118   - LA QUIACA   \n",
      "2                                  BELGRANO 797  15 - YAVI  118   - LA QUIACA   \n",
      "3                                  BELGRANO 797  15 - YAVI  118   - LA QUIACA   \n",
      "4      AV. MARIA MAIDANA ESQ. PJE. LIBERTAD S/N  15 - YAVI  118   - LA QUIACA   \n",
      "...                                         ...        ...                ...   \n",
      "14299             SAN CAYETANO-PAT.ARGENTIN 287  15 - YAVI  118   - LA QUIACA   \n",
      "14300                            ARGENTINAS 287  15 - YAVI  118   - LA QUIACA   \n",
      "14301                   MINEROS DEL AGUILAR 561  15 - YAVI  118   - LA QUIACA   \n",
      "14302                 TAMBORCITO DE TACUARI 616  15 - YAVI  118   - LA QUIACA   \n",
      "14303               S.CAYETANO-P.ARGENTINAS 287  15 - YAVI  118   - LA QUIACA   \n",
      "\n",
      "       MESA.1  ORDEN_MESA         ESCUELA.1  TX_SECC_NUMERO  TX_CIRC_NUMERO  \n",
      "0        1620           1               EET              15             118  \n",
      "1        1620           2               EET              15             118  \n",
      "2        1620           3               EET              15             118  \n",
      "3        1620           4               EET              15             118  \n",
      "4        1620           5               EET              15             118  \n",
      "...       ...         ...               ...             ...             ...  \n",
      "14299    1662         328  ESCUELA FRONTERA              15             118  \n",
      "14300    1662         329  ESCUELA FRONTERA              15             118  \n",
      "14301    1662         330  ESCUELA FRONTERA              15             118  \n",
      "14302    1662         331  ESCUELA FRONTERA              15             118  \n",
      "14303    1662         332  ESCUELA FRONTERA              15             118  \n",
      "\n",
      "[14304 rows x 17 columns]\n"
     ]
    }
   ],
   "source": [
    "print (datos)"
   ]
  },
  {
   "cell_type": "code",
   "execution_count": 6,
   "id": "tender-cartridge",
   "metadata": {},
   "outputs": [
    {
     "ename": "NameError",
     "evalue": "name 'plt' is not defined",
     "output_type": "error",
     "traceback": [
      "\u001b[0;31m---------------------------------------------------------------------------\u001b[0m",
      "\u001b[0;31mNameError\u001b[0m                                 Traceback (most recent call last)",
      "\u001b[0;32m<ipython-input-6-7f0fb02394d5>\u001b[0m in \u001b[0;36m<module>\u001b[0;34m\u001b[0m\n\u001b[1;32m      2\u001b[0m plot_torta = datos['ESCUELA'].value_counts().plot(kind='pie', autopct='%.2f', figsize=(8, 8),\n\u001b[1;32m      3\u001b[0m                                             title='PORCENTAJE de VOTANTES por ESCUELAS')\n\u001b[0;32m----> 4\u001b[0;31m \u001b[0mplt\u001b[0m\u001b[0;34m.\u001b[0m\u001b[0mshow\u001b[0m\u001b[0;34m(\u001b[0m\u001b[0;34m)\u001b[0m\u001b[0;34m\u001b[0m\u001b[0;34m\u001b[0m\u001b[0m\n\u001b[0m",
      "\u001b[0;31mNameError\u001b[0m: name 'plt' is not defined"
     ]
    },
    {
     "data": {
      "image/png": "[encoded data removed]",
      "text/plain": [
       "<Figure size 576x576 with 1 Axes>"
      ]
     },
     "metadata": {},
     "output_type": "display_data"
    }
   ],
   "source": [
    "#### GRAFICA MODO TORTA o PIE...\n",
    "plot_torta = datos['ESCUELA'].value_counts().plot(kind='pie', autopct='%.2f', figsize=(8, 8),\n",
    "                                            title='PORCENTAJE de VOTANTES por ESCUELAS')\n",
    "plt.show()"
   ]
  },
  {
   "cell_type": "code",
   "execution_count": null,
   "id": "received-republic",
   "metadata": {},
   "outputs": [],
   "source": []
  }
 ],
 "metadata": {
  "kernelspec": {
   "display_name": "Python 3",
   "language": "python",
   "name": "python3"
  },
  "language_info": {
   "codemirror_mode": {
    "name": "ipython",
    "version": 3
   },
   "file_extension": ".py",
   "mimetype": "text/x-python",
   "name": "python",
   "nbconvert_exporter": "python",
   "pygments_lexer": "ipython3",
   "version": "3.7.3"
  }
 },
 "nbformat": 4,
 "nbformat_minor": 5
}
