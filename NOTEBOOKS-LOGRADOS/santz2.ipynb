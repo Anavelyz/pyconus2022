{
 "cells": [
  {
   "cell_type": "markdown",
   "id": "renewable-specialist",
   "metadata": {
    "slideshow": {
     "slide_type": "slide"
    }
   },
   "source": [
    "# PRACTICA 2 "
   ]
  },
  {
   "cell_type": "markdown",
   "id": "ambient-uganda",
   "metadata": {
    "slideshow": {
     "slide_type": "slide"
    }
   },
   "source": [
    "# paso1"
   ]
  },
  {
   "cell_type": "code",
   "execution_count": 2,
   "id": "retained-jumping",
   "metadata": {
    "slideshow": {
     "slide_type": "slide"
    }
   },
   "outputs": [],
   "source": [
    "import pandas as pd\n",
    "from matplotlib import pyplot as plt"
   ]
  },
  {
   "cell_type": "markdown",
   "id": "norwegian-webster",
   "metadata": {
    "slideshow": {
     "slide_type": "slide"
    }
   },
   "source": [
    "# paso 2"
   ]
  },
  {
   "cell_type": "code",
   "execution_count": 3,
   "id": "certain-giving",
   "metadata": {
    "slideshow": {
     "slide_type": "slide"
    }
   },
   "outputs": [],
   "source": [
    "datos = pd.read_excel('LAQUIACA-2019-JUNIO.xlsx')\n"
   ]
  },
  {
   "cell_type": "code",
   "execution_count": 4,
   "id": "catholic-spencer",
   "metadata": {
    "slideshow": {
     "slide_type": "slide"
    }
   },
   "outputs": [
    {
     "name": "stdout",
     "output_type": "stream",
     "text": [
      "       MESA  ORDEN           ESCUELA TIPO DE EJEMPLAR  MATRICULA APELLIDO  \\\n",
      "0      1620      1               EET           DNI-EA    8000677   PRIETO   \n",
      "1      1620      2               EET              DNI   28314207    ABALO   \n",
      "2      1620      3               EET           DNI-EA   33844704    ABALO   \n",
      "3      1620      4               EET           DNI-EA    8012954    ABALO   \n",
      "4      1620      5               EET           DNI-EB   28727558    ABALO   \n",
      "...     ...    ...               ...              ...        ...      ...   \n",
      "14299  1662    328  ESCUELA FRONTERA           DNI-EA   41401783   ZUTARA   \n",
      "14300  1662    329  ESCUELA FRONTERA           DNI-EA   39401859   ZUTARA   \n",
      "14301  1662    330  ESCUELA FRONTERA           DNI-ED   40765421   ZUTARA   \n",
      "14302  1662    331  ESCUELA FRONTERA           DNI-EC   12231832   ZUTARA   \n",
      "14303  1662    332  ESCUELA FRONTERA           DNI-EC   21319985   ZUTARA   \n",
      "\n",
      "                NOMBRE  CLASE GENERO  \\\n",
      "0          RAUL MANUEL   1948      M   \n",
      "1         BELEN ZULEMA   1980      F   \n",
      "2      BETSABE AMERICA   1988      F   \n",
      "3         LUIS ALBERTO   1950      M   \n",
      "4         LUIS ENRIQUE   1982      M   \n",
      "...                ...    ...    ...   \n",
      "14299    CELESTE NOEMI   1998      F   \n",
      "14300   CRISTIAN ARIEL   1996      M   \n",
      "14301   DANTE SALVADOR   1997      M   \n",
      "14302          DOROTEA   1956      F   \n",
      "14303          HILARIO   1972      M   \n",
      "\n",
      "                                      DOMICILIO    SECCION           CIRCUITO  \\\n",
      "0                              AV. LAMADRID 344  15 - YAVI  118   - LA QUIACA   \n",
      "1                              BELGRANO 797 S/N  15 - YAVI  118   - LA QUIACA   \n",
      "2                                  BELGRANO 797  15 - YAVI  118   - LA QUIACA   \n",
      "3                                  BELGRANO 797  15 - YAVI  118   - LA QUIACA   \n",
      "4      AV. MARIA MAIDANA ESQ. PJE. LIBERTAD S/N  15 - YAVI  118   - LA QUIACA   \n",
      "...                                         ...        ...                ...   \n",
      "14299             SAN CAYETANO-PAT.ARGENTIN 287  15 - YAVI  118   - LA QUIACA   \n",
      "14300                            ARGENTINAS 287  15 - YAVI  118   - LA QUIACA   \n",
      "14301                   MINEROS DEL AGUILAR 561  15 - YAVI  118   - LA QUIACA   \n",
      "14302                 TAMBORCITO DE TACUARI 616  15 - YAVI  118   - LA QUIACA   \n",
      "14303               S.CAYETANO-P.ARGENTINAS 287  15 - YAVI  118   - LA QUIACA   \n",
      "\n",
      "       MESA.1  ORDEN_MESA         ESCUELA.1  TX_SECC_NUMERO  TX_CIRC_NUMERO  \n",
      "0        1620           1               EET              15             118  \n",
      "1        1620           2               EET              15             118  \n",
      "2        1620           3               EET              15             118  \n",
      "3        1620           4               EET              15             118  \n",
      "4        1620           5               EET              15             118  \n",
      "...       ...         ...               ...             ...             ...  \n",
      "14299    1662         328  ESCUELA FRONTERA              15             118  \n",
      "14300    1662         329  ESCUELA FRONTERA              15             118  \n",
      "14301    1662         330  ESCUELA FRONTERA              15             118  \n",
      "14302    1662         331  ESCUELA FRONTERA              15             118  \n",
      "14303    1662         332  ESCUELA FRONTERA              15             118  \n",
      "\n",
      "[14304 rows x 17 columns]\n"
     ]
    }
   ],
   "source": [
    "print (datos)"
   ]
  },
  {
   "cell_type": "code",
   "execution_count": 5,
   "id": "attached-tourism",
   "metadata": {
    "slideshow": {
     "slide_type": "slide"
    }
   },
   "outputs": [
    {
     "name": "stdout",
     "output_type": "stream",
     "text": [
      "['MESA', 'ORDEN', 'ESCUELA', 'TIPO DE EJEMPLAR', 'MATRICULA', 'APELLIDO', 'NOMBRE', 'CLASE', 'GENERO', 'DOMICILIO', 'SECCION', 'CIRCUITO', 'MESA.1', 'ORDEN_MESA', 'ESCUELA.1', 'TX_SECC_NUMERO', 'TX_CIRC_NUMERO']\n"
     ]
    }
   ],
   "source": [
    "print(list(datos.columns.values))\n"
   ]
  },
  {
   "cell_type": "code",
   "execution_count": 6,
   "id": "accepting-actor",
   "metadata": {
    "slideshow": {
     "slide_type": "slide"
    }
   },
   "outputs": [],
   "source": [
    "CONSULTA = pd.value_counts(datos['ESCUELA'])\n"
   ]
  },
  {
   "cell_type": "code",
   "execution_count": 9,
   "id": "transsexual-bloom",
   "metadata": {
    "slideshow": {
     "slide_type": "slide"
    }
   },
   "outputs": [
    {
     "name": "stdout",
     "output_type": "stream",
     "text": [
      "Registros (Filas) :  14304\n"
     ]
    }
   ],
   "source": [
    "print (\"Registros (Filas) : \", len(datos))\n"
   ]
  },
  {
   "cell_type": "code",
   "execution_count": 12,
   "id": "bored-basic",
   "metadata": {
    "slideshow": {
     "slide_type": "slide"
    }
   },
   "outputs": [
    {
     "data": {
      "image/png": "[encoded data removed]",
      "text/plain": [
       "<Figure size 432x288 with 1 Axes>"
      ]
     },
     "metadata": {
      "needs_background": "light"
     },
     "output_type": "display_data"
    }
   ],
   "source": [
    "plot_barras = datos['ESCUELA'].value_counts().plot(kind='barh', title='MESAS CANTIDAD de VOTANTES')\n",
    "plt.show()\n"
   ]
  },
  {
   "cell_type": "code",
   "execution_count": 13,
   "id": "beneficial-edition",
   "metadata": {
    "slideshow": {
     "slide_type": "slide"
    }
   },
   "outputs": [
    {
     "data": {
      "image/png": "[encoded data removed]",
      "text/plain": [
       "<Figure size 576x576 with 1 Axes>"
      ]
     },
     "metadata": {},
     "output_type": "display_data"
    }
   ],
   "source": [
    "plot_torta = datos['ESCUELA'].value_counts().plot(\n",
    "    kind='pie', autopct='%.2f', figsize=(8, 8),title='PORCENTAJE de VOTANTES por ESCUELAS')\n",
    "plt.show()\n"
   ]
  },
  {
   "cell_type": "code",
   "execution_count": null,
   "id": "loved-talent",
   "metadata": {},
   "outputs": [],
   "source": []
  }
 ],
 "metadata": {
  "celltoolbar": "Slideshow",
  "kernelspec": {
   "display_name": "Python 3",
   "language": "python",
   "name": "python3"
  },
  "language_info": {
   "codemirror_mode": {
    "name": "ipython",
    "version": 3
   },
   "file_extension": ".py",
   "mimetype": "text/x-python",
   "name": "python",
   "nbconvert_exporter": "python",
   "pygments_lexer": "ipython3",
   "version": "3.7.3"
  }
 },
 "nbformat": 4,
 "nbformat_minor": 5
}
