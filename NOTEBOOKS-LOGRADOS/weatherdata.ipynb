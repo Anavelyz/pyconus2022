{
 "cells": [
  {
   "cell_type": "markdown",
   "id": "worse-trainer",
   "metadata": {},
   "source": [
    "### WEATHERDATA"
   ]
  },
  {
   "cell_type": "code",
   "execution_count": 1,
   "id": "necessary-philosophy",
   "metadata": {},
   "outputs": [],
   "source": [
    "import pandas as pd"
   ]
  },
  {
   "cell_type": "code",
   "execution_count": 2,
   "id": "superior-warehouse",
   "metadata": {},
   "outputs": [
    {
     "name": "stdout",
     "output_type": "stream",
     "text": [
      "   Country      Capital  Population\n",
      "0  Belgica     Bruzelas    11190846\n",
      "1    India  Nueva Delhi  1303171035\n",
      "2   Brazil     Brasilia   207847528\n"
     ]
    }
   ],
   "source": [
    "data = {'Country': ['Belgica', 'India', 'Brazil'],\n",
    "       'Capital': ['Bruzelas', 'Nueva Delhi', 'Brasilia'],\n",
    "       'Population': [11190846, 1303171035, 207847528]}\n",
    "\n",
    "# Indicamos a Pandas que tome los datos del diccionario y use las columnas mencionadas\n",
    "\n",
    "dataframe = pd.DataFrame(data,\n",
    "                        columns=['Country', 'Capital', 'Population'])\n",
    "\n",
    "print(dataframe)\n"
   ]
  },
  {
   "cell_type": "code",
   "execution_count": 3,
   "id": "knowing-bullet",
   "metadata": {},
   "outputs": [
    {
     "name": "stdout",
     "output_type": "stream",
     "text": [
      "              Date  Longitude  Latitude  Elevation  Max Temperature  \\\n",
      "1/1/1979  -62.1875 -30.442301        75     34.968           18.019   \n",
      "1/2/1979  -62.1875 -30.442301        75     32.055           21.653   \n",
      "1/3/1979  -62.1875 -30.442301        75     32.643           19.994   \n",
      "1/4/1979  -62.1875 -30.442301        75     33.438           19.572   \n",
      "1/5/1979  -62.1875 -30.442301        75     35.729           20.306   \n",
      "...            ...        ...       ...        ...              ...   \n",
      "7/27/2014 -62.1875 -30.442301        75     15.938            5.081   \n",
      "7/28/2014 -62.1875 -30.442301        75     20.470            6.121   \n",
      "7/29/2014 -62.1875 -30.442301        75     22.072           12.764   \n",
      "7/30/2014 -62.1875 -30.442301        75     18.200           15.068   \n",
      "7/31/2014 -62.1875 -30.442301        75     22.298           15.538   \n",
      "\n",
      "           Min Temperature  Precipitation      Wind  Relative Humidity  Solar  \n",
      "1/1/1979          0.346756       3.459731  0.539945          32.456311    NaN  \n",
      "1/2/1979         10.099693       3.182952  0.810696          20.985752    NaN  \n",
      "1/3/1979          0.000000       3.529763  0.638956          28.406983    NaN  \n",
      "1/4/1979          0.000000       3.430782  0.480420          30.222842    NaN  \n",
      "1/5/1979          0.000000       3.149614  0.445070          30.734881    NaN  \n",
      "...                    ...            ...       ...                ...    ...  \n",
      "7/27/2014         0.000000       2.627763  0.639303          13.388504    NaN  \n",
      "7/28/2014         0.000000       3.853856  0.698549          15.112251    NaN  \n",
      "7/29/2014         0.209427       2.890072  0.785835           6.979922    NaN  \n",
      "7/30/2014         2.204133       2.457414  0.827991           1.954017    NaN  \n",
      "7/31/2014         1.692579       1.438762  0.841980           8.233861    NaN  \n",
      "\n",
      "[12987 rows x 10 columns]\n"
     ]
    }
   ],
   "source": [
    "datos = pd.read_csv('weatherdata--304-622.csv')\n",
    "print(datos)\n"
   ]
  },
  {
   "cell_type": "code",
   "execution_count": 6,
   "id": "announced-above",
   "metadata": {},
   "outputs": [
    {
     "name": "stdout",
     "output_type": "stream",
     "text": [
      "Cantidad de Filas y Columnas\n",
      "(12987, 10)\n",
      "\n"
     ]
    }
   ],
   "source": [
    "# Cantidad de Filas y Columnas\n",
    "print('Cantidad de Filas y Columnas')\n",
    "print(datos.shape)\n",
    "print()\n"
   ]
  },
  {
   "cell_type": "code",
   "execution_count": 7,
   "id": "small-survivor",
   "metadata": {},
   "outputs": [
    {
     "name": "stdout",
     "output_type": "stream",
     "text": [
      "Descripcion del Indice\n",
      "Index(['1/1/1979', '1/2/1979', '1/3/1979', '1/4/1979', '1/5/1979', '1/6/1979',\n",
      "       '1/7/1979', '1/8/1979', '1/9/1979', '1/10/1979',\n",
      "       ...\n",
      "       '7/22/2014', '7/23/2014', '7/24/2014', '7/25/2014', '7/26/2014',\n",
      "       '7/27/2014', '7/28/2014', '7/29/2014', '7/30/2014', '7/31/2014'],\n",
      "      dtype='object', length=12987)\n",
      "\n"
     ]
    }
   ],
   "source": [
    "# Descripcion del Indice\n",
    "print('Descripcion del Indice')\n",
    "print(datos.index)\n",
    "print()\n"
   ]
  },
  {
   "cell_type": "code",
   "execution_count": 8,
   "id": "protected-pharmacology",
   "metadata": {},
   "outputs": [
    {
     "name": "stdout",
     "output_type": "stream",
     "text": [
      "Descripcion de Columnas\n",
      "Index(['Date', 'Longitude', 'Latitude', 'Elevation', 'Max Temperature',\n",
      "       'Min Temperature', 'Precipitation', 'Wind', 'Relative Humidity',\n",
      "       'Solar'],\n",
      "      dtype='object')\n",
      "\n"
     ]
    }
   ],
   "source": [
    "# Descripcion de Columnas\n",
    "print('Descripcion de Columnas')\n",
    "print(datos.columns)\n",
    "print()\n"
   ]
  },
  {
   "cell_type": "code",
   "execution_count": 9,
   "id": "angry-reliance",
   "metadata": {},
   "outputs": [
    {
     "name": "stdout",
     "output_type": "stream",
     "text": [
      "Informacion del Dataframe\n",
      "<class 'pandas.core.frame.DataFrame'>\n",
      "Index: 12987 entries, 1/1/1979 to 7/31/2014\n",
      "Data columns (total 10 columns):\n",
      " #   Column             Non-Null Count  Dtype  \n",
      "---  ------             --------------  -----  \n",
      " 0   Date               12987 non-null  float64\n",
      " 1   Longitude          12987 non-null  float64\n",
      " 2   Latitude           12987 non-null  int64  \n",
      " 3   Elevation          12987 non-null  float64\n",
      " 4   Max Temperature    12987 non-null  float64\n",
      " 5   Min Temperature    12987 non-null  float64\n",
      " 6   Precipitation      12987 non-null  float64\n",
      " 7   Wind               12987 non-null  float64\n",
      " 8   Relative Humidity  12987 non-null  float64\n",
      " 9   Solar              0 non-null      float64\n",
      "dtypes: float64(9), int64(1)\n",
      "memory usage: 1.1+ MB\n",
      "None\n",
      "\n"
     ]
    }
   ],
   "source": [
    "# Informacion del Dataframe\n",
    "print('Informacion del Dataframe')\n",
    "print(datos.info())\n",
    "print()\n"
   ]
  },
  {
   "cell_type": "code",
   "execution_count": 10,
   "id": "numeric-medication",
   "metadata": {},
   "outputs": [
    {
     "name": "stdout",
     "output_type": "stream",
     "text": [
      "Cantidad de Valores\n",
      "Date                 12987\n",
      "Longitude            12987\n",
      "Latitude             12987\n",
      "Elevation            12987\n",
      "Max Temperature      12987\n",
      "Min Temperature      12987\n",
      "Precipitation        12987\n",
      "Wind                 12987\n",
      "Relative Humidity    12987\n",
      "Solar                    0\n",
      "dtype: int64\n"
     ]
    }
   ],
   "source": [
    "# Cantidad de Valores\n",
    "print('Cantidad de Valores')\n",
    "print(datos.count())\n"
   ]
  },
  {
   "cell_type": "code",
   "execution_count": 11,
   "id": "color-chest",
   "metadata": {},
   "outputs": [
    {
     "name": "stdout",
     "output_type": "stream",
     "text": [
      "Date                -807629.062500\n",
      "Longitude           -395354.160444\n",
      "Latitude             974025.000000\n",
      "Elevation            357970.152000\n",
      "Max Temperature      198481.494000\n",
      "Min Temperature       29334.736915\n",
      "Precipitation         47304.384603\n",
      "Wind                   6922.330207\n",
      "Relative Humidity    235731.977213\n",
      "Solar                     0.000000\n",
      "dtype: float64\n"
     ]
    }
   ],
   "source": [
    "# Suma de los Valores\n",
    "print(datos.sum())\n"
   ]
  },
  {
   "cell_type": "code",
   "execution_count": 12,
   "id": "worse-bridges",
   "metadata": {},
   "outputs": [
    {
     "name": "stdout",
     "output_type": "stream",
     "text": [
      "Minimos\n",
      "Date                -62.187500\n",
      "Longitude           -30.442301\n",
      "Latitude             75.000000\n",
      "Elevation             4.606000\n",
      "Max Temperature      -2.482000\n",
      "Min Temperature       0.000000\n",
      "Precipitation         0.858535\n",
      "Wind                  0.109720\n",
      "Relative Humidity     0.000000\n",
      "Solar                      NaN\n",
      "dtype: float64\n",
      "\n",
      "Maximos\n",
      "Date                 -62.187500\n",
      "Longitude            -30.442301\n",
      "Latitude              75.000000\n",
      "Elevation             47.861000\n",
      "Max Temperature       34.182000\n",
      "Min Temperature      318.140021\n",
      "Precipitation          9.081450\n",
      "Wind                   0.973206\n",
      "Relative Humidity     35.575971\n",
      "Solar                       NaN\n",
      "dtype: float64\n",
      "\n"
     ]
    }
   ],
   "source": [
    "# Valores Maximos y Minimos\n",
    "print('Minimos')\n",
    "print(datos.min())\n",
    "print()\n",
    "\n",
    "print('Maximos')\n",
    "print(datos.max())\n",
    "print()\n"
   ]
  },
  {
   "cell_type": "code",
   "execution_count": 13,
   "id": "christian-remains",
   "metadata": {},
   "outputs": [
    {
     "name": "stdout",
     "output_type": "stream",
     "text": [
      "Date                -62.187500\n",
      "Longitude           -30.442301\n",
      "Latitude             75.000000\n",
      "Elevation            27.563729\n",
      "Max Temperature      15.283090\n",
      "Min Temperature       2.258777\n",
      "Precipitation         3.642441\n",
      "Wind                  0.533020\n",
      "Relative Humidity    18.151380\n",
      "Solar                      NaN\n",
      "dtype: float64\n"
     ]
    }
   ],
   "source": [
    "# Media de los Valores\n",
    "print(datos.mean())\n"
   ]
  },
  {
   "cell_type": "code",
   "execution_count": 14,
   "id": "liberal-disposition",
   "metadata": {},
   "outputs": [
    {
     "name": "stdout",
     "output_type": "stream",
     "text": [
      "Date                -62.187500\n",
      "Longitude           -30.442301\n",
      "Latitude             75.000000\n",
      "Elevation            27.673000\n",
      "Max Temperature      15.605000\n",
      "Min Temperature       0.000000\n",
      "Precipitation         3.497378\n",
      "Wind                  0.516270\n",
      "Relative Humidity    17.501740\n",
      "Solar                      NaN\n",
      "dtype: float64\n"
     ]
    }
   ],
   "source": [
    "# Mediana de los Valores\n",
    "print(datos.median())\n"
   ]
  },
  {
   "cell_type": "markdown",
   "id": "neither-keyboard",
   "metadata": {},
   "source": [
    "### Graficando"
   ]
  },
  {
   "cell_type": "code",
   "execution_count": 15,
   "id": "passive-freeware",
   "metadata": {},
   "outputs": [],
   "source": [
    "import matplotlib.pyplot as plt\n",
    "%matplotlib inline\n"
   ]
  },
  {
   "cell_type": "code",
   "execution_count": 16,
   "id": "chief-decision",
   "metadata": {},
   "outputs": [
    {
     "data": {
      "image/png": "[encoded data removed]",
      "text/plain": [
       "<Figure size 432x288 with 1 Axes>"
      ]
     },
     "metadata": {
      "needs_background": "light"
     },
     "output_type": "display_data"
    }
   ],
   "source": [
    "ax = datos.plot()\n"
   ]
  },
  {
   "cell_type": "markdown",
   "id": "progressive-toilet",
   "metadata": {},
   "source": [
    "##### vamos a graficar una sola variable en funcion de la fecha"
   ]
  },
  {
   "cell_type": "code",
   "execution_count": 17,
   "id": "vulnerable-click",
   "metadata": {},
   "outputs": [
    {
     "data": {
      "image/png": "[encoded data removed]",
      "text/plain": [
       "<Figure size 432x288 with 1 Axes>"
      ]
     },
     "metadata": {
      "needs_background": "light"
     },
     "output_type": "display_data"
    }
   ],
   "source": [
    "plt.plot(datos['Max Temperature'])\n",
    "plt.axis([10000, 10007, 0, 35])\n",
    "plt.show()\n"
   ]
  },
  {
   "cell_type": "markdown",
   "id": "million-merchandise",
   "metadata": {},
   "source": [
    "##### vamos a graficar todas las variables a lo largo de una semana"
   ]
  },
  {
   "cell_type": "code",
   "execution_count": 18,
   "id": "falling-conclusion",
   "metadata": {},
   "outputs": [
    {
     "data": {
      "image/png": "[encoded data removed]",
      "text/plain": [
       "<Figure size 432x288 with 1 Axes>"
      ]
     },
     "metadata": {
      "needs_background": "light"
     },
     "output_type": "display_data"
    }
   ],
   "source": [
    "plt.plot(datos['Max Temperature'])\n",
    "plt.plot(datos['Min Temperature'])\n",
    "plt.plot(datos['Precipitation'])\n",
    "plt.plot(datos['Wind'])\n",
    "plt.plot(datos['Relative Humidity'])\n",
    "plt.axis([10000, 10007, 0, 30])\n",
    "plt.show()\n"
   ]
  },
  {
   "cell_type": "code",
   "execution_count": null,
   "id": "precious-nancy",
   "metadata": {},
   "outputs": [],
   "source": []
  }
 ],
 "metadata": {
  "kernelspec": {
   "display_name": "Python 3",
   "language": "python",
   "name": "python3"
  },
  "language_info": {
   "codemirror_mode": {
    "name": "ipython",
    "version": 3
   },
   "file_extension": ".py",
   "mimetype": "text/x-python",
   "name": "python",
   "nbconvert_exporter": "python",
   "pygments_lexer": "ipython3",
   "version": "3.7.3"
  }
 },
 "nbformat": 4,
 "nbformat_minor": 5
}
