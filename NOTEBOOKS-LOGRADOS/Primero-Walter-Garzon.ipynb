{
 "cells": [
  {
   "cell_type": "markdown",
   "id": "rapid-times",
   "metadata": {},
   "source": [
    "# Titulo Grande"
   ]
  },
  {
   "cell_type": "markdown",
   "id": "usual-drill",
   "metadata": {},
   "source": [
    "## Titulo mas chico"
   ]
  },
  {
   "cell_type": "markdown",
   "id": "indian-paint",
   "metadata": {},
   "source": [
    "### Titulo mas chico todavia"
   ]
  },
  {
   "cell_type": "markdown",
   "id": "overhead-bahrain",
   "metadata": {},
   "source": [
    "> Una sección de **\"Colaboradores\"** en un sitio destacado de la `documentación` del repositorio del proyecto que incluye una lista de todos los colaboradores del proyecto\n",
    "\n",
    "    El objetivo debe ser utilizar el sitio más destacado de la documentación del proyecto cuando sea posible. En muchos casos, este es el archivo 'README' del proyecto\n",
    "    Considere el uso de un archivo CONTRIBUTING en el nivel superior del repositorio cuando el número de colaboradores del proyecto supere un nivel en el que es posible usar el archivo README para reconocer las contribuciones. En este caso, un enlace destacado al archivo CONTRIBUTING debe incluirse en la página README bajo el encabezado \"Colaboradores\"\n"
   ]
  },
  {
   "cell_type": "code",
   "execution_count": 3,
   "id": "present-remove",
   "metadata": {},
   "outputs": [],
   "source": [
    "# Aqui cargo las librerias o modulos de graficas y calculo numerico\n",
    "\n",
    "import matplotlib.pyplot as grafica\n",
    "import numpy as np"
   ]
  },
  {
   "cell_type": "code",
   "execution_count": 25,
   "id": "expired-times",
   "metadata": {},
   "outputs": [],
   "source": [
    "#Definimos el DOMINIO de una FUNCION\n",
    "\n",
    "X = np.linspace(-2, 2, 105)\n",
    "\n",
    "# -2 limite inferior, 2 limite superior, 35 cantidad de puntos a generar"
   ]
  },
  {
   "cell_type": "code",
   "execution_count": 26,
   "id": "written-prerequisite",
   "metadata": {},
   "outputs": [
    {
     "data": {
      "text/plain": [
       "array([-2.        , -1.96153846, -1.92307692, -1.88461538, -1.84615385,\n",
       "       -1.80769231, -1.76923077, -1.73076923, -1.69230769, -1.65384615,\n",
       "       -1.61538462, -1.57692308, -1.53846154, -1.5       , -1.46153846,\n",
       "       -1.42307692, -1.38461538, -1.34615385, -1.30769231, -1.26923077,\n",
       "       -1.23076923, -1.19230769, -1.15384615, -1.11538462, -1.07692308,\n",
       "       -1.03846154, -1.        , -0.96153846, -0.92307692, -0.88461538,\n",
       "       -0.84615385, -0.80769231, -0.76923077, -0.73076923, -0.69230769,\n",
       "       -0.65384615, -0.61538462, -0.57692308, -0.53846154, -0.5       ,\n",
       "       -0.46153846, -0.42307692, -0.38461538, -0.34615385, -0.30769231,\n",
       "       -0.26923077, -0.23076923, -0.19230769, -0.15384615, -0.11538462,\n",
       "       -0.07692308, -0.03846154,  0.        ,  0.03846154,  0.07692308,\n",
       "        0.11538462,  0.15384615,  0.19230769,  0.23076923,  0.26923077,\n",
       "        0.30769231,  0.34615385,  0.38461538,  0.42307692,  0.46153846,\n",
       "        0.5       ,  0.53846154,  0.57692308,  0.61538462,  0.65384615,\n",
       "        0.69230769,  0.73076923,  0.76923077,  0.80769231,  0.84615385,\n",
       "        0.88461538,  0.92307692,  0.96153846,  1.        ,  1.03846154,\n",
       "        1.07692308,  1.11538462,  1.15384615,  1.19230769,  1.23076923,\n",
       "        1.26923077,  1.30769231,  1.34615385,  1.38461538,  1.42307692,\n",
       "        1.46153846,  1.5       ,  1.53846154,  1.57692308,  1.61538462,\n",
       "        1.65384615,  1.69230769,  1.73076923,  1.76923077,  1.80769231,\n",
       "        1.84615385,  1.88461538,  1.92307692,  1.96153846,  2.        ])"
      ]
     },
     "execution_count": 26,
     "metadata": {},
     "output_type": "execute_result"
    }
   ],
   "source": [
    "X"
   ]
  },
  {
   "cell_type": "code",
   "execution_count": 27,
   "id": "anticipated-brazilian",
   "metadata": {},
   "outputs": [
    {
     "name": "stdout",
     "output_type": "stream",
     "text": [
      "[-2.         -1.96153846 -1.92307692 -1.88461538 -1.84615385 -1.80769231\n",
      " -1.76923077 -1.73076923 -1.69230769 -1.65384615 -1.61538462 -1.57692308\n",
      " -1.53846154 -1.5        -1.46153846 -1.42307692 -1.38461538 -1.34615385\n",
      " -1.30769231 -1.26923077 -1.23076923 -1.19230769 -1.15384615 -1.11538462\n",
      " -1.07692308 -1.03846154 -1.         -0.96153846 -0.92307692 -0.88461538\n",
      " -0.84615385 -0.80769231 -0.76923077 -0.73076923 -0.69230769 -0.65384615\n",
      " -0.61538462 -0.57692308 -0.53846154 -0.5        -0.46153846 -0.42307692\n",
      " -0.38461538 -0.34615385 -0.30769231 -0.26923077 -0.23076923 -0.19230769\n",
      " -0.15384615 -0.11538462 -0.07692308 -0.03846154  0.          0.03846154\n",
      "  0.07692308  0.11538462  0.15384615  0.19230769  0.23076923  0.26923077\n",
      "  0.30769231  0.34615385  0.38461538  0.42307692  0.46153846  0.5\n",
      "  0.53846154  0.57692308  0.61538462  0.65384615  0.69230769  0.73076923\n",
      "  0.76923077  0.80769231  0.84615385  0.88461538  0.92307692  0.96153846\n",
      "  1.          1.03846154  1.07692308  1.11538462  1.15384615  1.19230769\n",
      "  1.23076923  1.26923077  1.30769231  1.34615385  1.38461538  1.42307692\n",
      "  1.46153846  1.5         1.53846154  1.57692308  1.61538462  1.65384615\n",
      "  1.69230769  1.73076923  1.76923077  1.80769231  1.84615385  1.88461538\n",
      "  1.92307692  1.96153846  2.        ]\n"
     ]
    }
   ],
   "source": [
    "print(X)"
   ]
  },
  {
   "cell_type": "code",
   "execution_count": 28,
   "id": "infectious-billy",
   "metadata": {},
   "outputs": [
    {
     "name": "stdout",
     "output_type": "stream",
     "text": [
      "105\n"
     ]
    }
   ],
   "source": [
    "print(len(X))"
   ]
  },
  {
   "cell_type": "code",
   "execution_count": 29,
   "id": "local-oriental",
   "metadata": {},
   "outputs": [],
   "source": [
    "# Aqui defino una funcion y obtengo el Co-Dominio de X...\n",
    "\n",
    "Y = X ** 2"
   ]
  },
  {
   "cell_type": "code",
   "execution_count": 30,
   "id": "changing-construction",
   "metadata": {},
   "outputs": [
    {
     "data": {
      "text/plain": [
       "array([4.00000000e+00, 3.84763314e+00, 3.69822485e+00, 3.55177515e+00,\n",
       "       3.40828402e+00, 3.26775148e+00, 3.13017751e+00, 2.99556213e+00,\n",
       "       2.86390533e+00, 2.73520710e+00, 2.60946746e+00, 2.48668639e+00,\n",
       "       2.36686391e+00, 2.25000000e+00, 2.13609467e+00, 2.02514793e+00,\n",
       "       1.91715976e+00, 1.81213018e+00, 1.71005917e+00, 1.61094675e+00,\n",
       "       1.51479290e+00, 1.42159763e+00, 1.33136095e+00, 1.24408284e+00,\n",
       "       1.15976331e+00, 1.07840237e+00, 1.00000000e+00, 9.24556213e-01,\n",
       "       8.52071006e-01, 7.82544379e-01, 7.15976331e-01, 6.52366864e-01,\n",
       "       5.91715976e-01, 5.34023669e-01, 4.79289941e-01, 4.27514793e-01,\n",
       "       3.78698225e-01, 3.32840237e-01, 2.89940828e-01, 2.50000000e-01,\n",
       "       2.13017751e-01, 1.78994083e-01, 1.47928994e-01, 1.19822485e-01,\n",
       "       9.46745562e-02, 7.24852071e-02, 5.32544379e-02, 3.69822485e-02,\n",
       "       2.36686391e-02, 1.33136095e-02, 5.91715976e-03, 1.47928994e-03,\n",
       "       0.00000000e+00, 1.47928994e-03, 5.91715976e-03, 1.33136095e-02,\n",
       "       2.36686391e-02, 3.69822485e-02, 5.32544379e-02, 7.24852071e-02,\n",
       "       9.46745562e-02, 1.19822485e-01, 1.47928994e-01, 1.78994083e-01,\n",
       "       2.13017751e-01, 2.50000000e-01, 2.89940828e-01, 3.32840237e-01,\n",
       "       3.78698225e-01, 4.27514793e-01, 4.79289941e-01, 5.34023669e-01,\n",
       "       5.91715976e-01, 6.52366864e-01, 7.15976331e-01, 7.82544379e-01,\n",
       "       8.52071006e-01, 9.24556213e-01, 1.00000000e+00, 1.07840237e+00,\n",
       "       1.15976331e+00, 1.24408284e+00, 1.33136095e+00, 1.42159763e+00,\n",
       "       1.51479290e+00, 1.61094675e+00, 1.71005917e+00, 1.81213018e+00,\n",
       "       1.91715976e+00, 2.02514793e+00, 2.13609467e+00, 2.25000000e+00,\n",
       "       2.36686391e+00, 2.48668639e+00, 2.60946746e+00, 2.73520710e+00,\n",
       "       2.86390533e+00, 2.99556213e+00, 3.13017751e+00, 3.26775148e+00,\n",
       "       3.40828402e+00, 3.55177515e+00, 3.69822485e+00, 3.84763314e+00,\n",
       "       4.00000000e+00])"
      ]
     },
     "execution_count": 30,
     "metadata": {},
     "output_type": "execute_result"
    }
   ],
   "source": [
    "Y"
   ]
  },
  {
   "cell_type": "code",
   "execution_count": 31,
   "id": "encouraging-sharing",
   "metadata": {},
   "outputs": [
    {
     "data": {
      "text/plain": [
       "105"
      ]
     },
     "execution_count": 31,
     "metadata": {},
     "output_type": "execute_result"
    }
   ],
   "source": [
    "len(Y)"
   ]
  },
  {
   "cell_type": "code",
   "execution_count": 32,
   "id": "corrected-decade",
   "metadata": {},
   "outputs": [
    {
     "data": {
      "text/plain": [
       "[<matplotlib.lines.Line2D at 0x7f010e69f8d0>]"
      ]
     },
     "execution_count": 32,
     "metadata": {},
     "output_type": "execute_result"
    },
    {
     "data": {
      "image/png": "[encoded data removed]",
      "text/plain": [
       "<Figure size 432x288 with 1 Axes>"
      ]
     },
     "metadata": {
      "needs_background": "light"
     },
     "output_type": "display_data"
    }
   ],
   "source": [
    "## Graficamos los valores de X e Y con circulos \"o\" de color ROJO (red = r)\n",
    "## Usamos en metod PLOT (Dibujar)\n",
    "\n",
    "grafica.grid(True)\n",
    "grafica.plot(X, Y, 'ro')"
   ]
  },
  {
   "cell_type": "code",
   "execution_count": null,
   "id": "owned-queensland",
   "metadata": {},
   "outputs": [],
   "source": []
  }
 ],
 "metadata": {
  "kernelspec": {
   "display_name": "Python 3",
   "language": "python",
   "name": "python3"
  },
  "language_info": {
   "codemirror_mode": {
    "name": "ipython",
    "version": 3
   },
   "file_extension": ".py",
   "mimetype": "text/x-python",
   "name": "python",
   "nbconvert_exporter": "python",
   "pygments_lexer": "ipython3",
   "version": "3.7.3"
  }
 },
 "nbformat": 4,
 "nbformat_minor": 5
}
