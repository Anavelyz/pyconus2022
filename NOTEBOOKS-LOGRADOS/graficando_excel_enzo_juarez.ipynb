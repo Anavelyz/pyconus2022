{
 "cells": [
  {
   "cell_type": "markdown",
   "metadata": {},
   "source": [
    "## Notebook armado por ENZO JUAREZ"
   ]
  },
  {
   "cell_type": "markdown",
   "metadata": {
    "id": "iaw-h236y2wF"
   },
   "source": [
    "# GRAFICANDO DATOS DE EXCEL\n",
    "---"
   ]
  },
  {
   "cell_type": "markdown",
   "metadata": {
    "id": "GsK2MoLKy2wX"
   },
   "source": [
    "### Tenemos un archivo `.xls` de excel donde almacenamos datos a cerca de los votantes por mesa de las elecciones del año 2019 en un distrito de la Quiaca. Vamos a intentar analizar la informacion dentro de este y hacer algunas cosas como:\n",
    "\n",
    "* Obtener tablas\n",
    "* Obtener columnas \n",
    "* Indexar elementos\n",
    "* Obtener informacion de los datos \n",
    " \n",
    " para terminar obteniendo diferentes **Graficos** de este archivo"
   ]
  },
  {
   "cell_type": "markdown",
   "metadata": {
    "id": "hcekZ9Xfy2wZ"
   },
   "source": [
    "## Importando las librerias \n",
    "---\n",
    "\n",
    "Estas librerias pueden ser instaladas utilizando el gestor de paquetes `Pip` usando:\n",
    "- `pip install pandas`\n",
    "- `pip install matplotlib`"
   ]
  },
  {
   "cell_type": "code",
   "execution_count": 1,
   "metadata": {
    "executionInfo": {
     "elapsed": 1717,
     "status": "ok",
     "timestamp": 1620927383621,
     "user": {
      "displayName": "Enzo Juarez",
      "photoUrl": "",
      "userId": "11140754866147209575"
     },
     "user_tz": 180
    },
    "id": "QQ0VaDaJy2wa"
   },
   "outputs": [],
   "source": [
    "import pandas as pd\n",
    "from matplotlib import pyplot as plt"
   ]
  },
  {
   "cell_type": "markdown",
   "metadata": {
    "id": "6s41GLZgy2wb"
   },
   "source": [
    "## Lectura de los Datos\n",
    "___\n",
    "\n",
    "#### Vamos a utilizar el metodo `pd.read_*` que viene incorporado en la libreria de `Pandas` para poder leer archivos que contengas datos, en nuestro caso al abrir un archivo de tipo excel este debe ser abierto modificando el metodo y utilizando como `pd.read_excel()` donde este metodo como argumentos debe recibir la ruta del archivo para poder abrirlo algo asi como : `pd.read_excel('{path/file_name}.xlsx')`\n",
    "\n",
    "Quizas necesitemos instalar una libreria de la siguiente manera:\n",
    "- `pip install openpyxl`\n",
    "\n",
    "Esta nos ayudara a abrir archivos de este tipo\n"
   ]
  },
  {
   "cell_type": "code",
   "execution_count": 3,
   "metadata": {
    "colab": {
     "base_uri": "https://localhost:8080/"
    },
    "executionInfo": {
     "elapsed": 75073,
     "status": "ok",
     "timestamp": 1620927576547,
     "user": {
      "displayName": "Enzo Juarez",
      "photoUrl": "",
      "userId": "11140754866147209575"
     },
     "user_tz": 180
    },
    "id": "haHpMz9Lzrx7",
    "outputId": "bf5580ce-e1c9-477b-99b8-5ee199f44696"
   },
   "outputs": [
    {
     "name": "stdout",
     "output_type": "stream",
     "text": [
      "Mounted at /content/drive\n"
     ]
    }
   ],
   "source": [
    "from google.colab import drive\n",
    "drive.mount('/content/drive')"
   ]
  },
  {
   "cell_type": "code",
   "execution_count": 4,
   "metadata": {
    "executionInfo": {
     "elapsed": 4281,
     "status": "ok",
     "timestamp": 1620927583136,
     "user": {
      "displayName": "Enzo Juarez",
      "photoUrl": "",
      "userId": "11140754866147209575"
     },
     "user_tz": 180
    },
    "id": "yUfftLPNy2wc"
   },
   "outputs": [],
   "source": [
    "datos = pd.read_excel('/content/drive/MyDrive/FISICA-AMBIENTAL-UNSA/LAQUIACA-2019-JUNIO.xlsx')"
   ]
  },
  {
   "cell_type": "markdown",
   "metadata": {
    "id": "Y3HD8gS_y2wd"
   },
   "source": [
    "### Mostrando que obtuvimos\n",
    "---"
   ]
  },
  {
   "cell_type": "markdown",
   "metadata": {
    "id": "I5EN8jKOy2we"
   },
   "source": [
    "#### Lista de los valores de las columnas del Dataset :"
   ]
  },
  {
   "cell_type": "code",
   "execution_count": 5,
   "metadata": {
    "colab": {
     "base_uri": "https://localhost:8080/"
    },
    "executionInfo": {
     "elapsed": 671,
     "status": "ok",
     "timestamp": 1620927587330,
     "user": {
      "displayName": "Enzo Juarez",
      "photoUrl": "",
      "userId": "11140754866147209575"
     },
     "user_tz": 180
    },
    "id": "UlpIGVkBy2we",
    "outputId": "98a48c6d-b14b-425d-b3ac-8450b96b85e3"
   },
   "outputs": [
    {
     "name": "stdout",
     "output_type": "stream",
     "text": [
      "['MESA', 'ORDEN', 'ESCUELA', 'TIPO DE EJEMPLAR', 'MATRICULA', 'APELLIDO', 'NOMBRE', 'CLASE', 'GENERO', 'DOMICILIO', 'SECCION', 'CIRCUITO', 'MESA.1', 'ORDEN_MESA', 'ESCUELA.1', 'TX_SECC_NUMERO', 'TX_CIRC_NUMERO']\n"
     ]
    }
   ],
   "source": [
    "print(list(datos.columns.values))"
   ]
  },
  {
   "cell_type": "markdown",
   "metadata": {
    "id": "RxHGP7BTy2wf"
   },
   "source": [
    "#### Dataset Completo : \n",
    "* si es demasiado grande muestra una parte del principio y el final"
   ]
  },
  {
   "cell_type": "code",
   "execution_count": null,
   "metadata": {
    "id": "RyoaU0K9y2wg"
   },
   "outputs": [],
   "source": [
    "print(datos)"
   ]
  },
  {
   "cell_type": "markdown",
   "metadata": {
    "id": "napMxFyky2wh"
   },
   "source": [
    "## Categorizando\n",
    "---\n",
    "Cuento las veces que un valor se repite en una columna, en este caso queremos saber lo de las Columna `ESCUELA.1`\n",
    "\n",
    "Entonces vamos a utilizar el metodo `value_counts()`\n",
    "\n",
    "Esto se podria repetir con otra columna haciendo : ``"
   ]
  },
  {
   "cell_type": "code",
   "execution_count": null,
   "metadata": {
    "id": "uMOa2lwcy2wi"
   },
   "outputs": [],
   "source": [
    "CONSULTA = pd.value_counts(datos['ESCUELA']) "
   ]
  },
  {
   "cell_type": "markdown",
   "metadata": {
    "id": "DAAI2PkWy2wi"
   },
   "source": [
    "### Mostramos el valor de CONSULTA"
   ]
  },
  {
   "cell_type": "code",
   "execution_count": null,
   "metadata": {
    "id": "KzovtoqUy2wj"
   },
   "outputs": [],
   "source": [
    "print (CONSULTA)"
   ]
  },
  {
   "cell_type": "markdown",
   "metadata": {
    "id": "8khi0GyCy2wj"
   },
   "source": [
    "### Vamos a conocer ahora cuantas Filas tiene Consulta"
   ]
  },
  {
   "cell_type": "code",
   "execution_count": null,
   "metadata": {
    "id": "UT3txll9y2wk"
   },
   "outputs": [],
   "source": [
    "print (\"Registros (Filas) : \", len(CONSULTA))"
   ]
  },
  {
   "cell_type": "markdown",
   "metadata": {
    "id": "Q29A4QnUy2wl"
   },
   "source": [
    "### Sabiendo esto podemos saber cuantas filas tiene nuestro Dataset"
   ]
  },
  {
   "cell_type": "code",
   "execution_count": null,
   "metadata": {
    "id": "PJlREkB0y2wm"
   },
   "outputs": [],
   "source": [
    "print (\"Registros (Filas) del Dataset: \", len(datos))"
   ]
  },
  {
   "cell_type": "markdown",
   "metadata": {
    "id": "8pcu7oCoy2wm"
   },
   "source": [
    "## GRAFICANDO\n",
    "----\n",
    "\n",
    "Para hacer las graficas vamos a utilizar el metodo `.plot()` de la libreria `Matplotlib` este nos va a ayudar a \"Configurar\" nuestro grafico, pasando diferentes parametros, entre las configuraciones estan el tamaño de una linea, el titulos de la grafica, el tipo de grafico,  etc.\n",
    "\n",
    "Luego el metodo `.show()` nos va  ayudar a mostrar uns instantanea de nuestra GRAFICA"
   ]
  },
  {
   "cell_type": "markdown",
   "metadata": {
    "id": "75DSelpxy2wn"
   },
   "source": [
    "### GRAFICA MODO BARRAS HORIZONTALES \n",
    "* por eso utilizamos: `'barh'` como valor en el parametro `kind`"
   ]
  },
  {
   "cell_type": "code",
   "execution_count": null,
   "metadata": {
    "id": "XwRqNCety2wn"
   },
   "outputs": [],
   "source": [
    "plot_barras = datos['ESCUELA'].value_counts().plot(kind='barh', title='MESAS CANTIDAD de VOTANTES')\n",
    "plt.show()"
   ]
  },
  {
   "cell_type": "markdown",
   "metadata": {
    "id": "PsGqWveUy2wo"
   },
   "source": [
    "### GRAFICA MODO BARRAS VERTICALES\n",
    " * por eso utilizamos: `'bar'` como valor en el parametro `kind`"
   ]
  },
  {
   "cell_type": "code",
   "execution_count": null,
   "metadata": {
    "id": "W-NWDp7-y2wo"
   },
   "outputs": [],
   "source": [
    "plot_barras = datos['ESCUELA'].value_counts().plot(kind='bar', title='MESAS CANTIDAD de VOTANTES')\n",
    "plt.show()"
   ]
  },
  {
   "cell_type": "markdown",
   "metadata": {
    "id": "x4BQbOGZy2wp"
   },
   "source": [
    "### GRAFICANDO MODO TORTA o PIE\n",
    "* por eso utilizamos: `'pie'` como valor en el parametro `kind`\n",
    "* `figsize` nos va a dar el tamaño de nuestra grafica\n",
    "* `autopct` permite mostrar el valor porcentual utilizando el formato de cadena de Python."
   ]
  },
  {
   "cell_type": "code",
   "execution_count": null,
   "metadata": {
    "id": "1lLpTeL_y2wp"
   },
   "outputs": [],
   "source": [
    "\n",
    "plot_torta = datos['ESCUELA'].value_counts().plot(\n",
    "    kind='pie', autopct='%.2f', figsize=(8, 8),title='PORCENTAJE de VOTANTES por ESCUELAS')\n",
    "plt.show()"
   ]
  },
  {
   "cell_type": "markdown",
   "metadata": {
    "id": "MnWe8r-Cy2wq"
   },
   "source": [
    "##---------------------------------------------------------------\n",
    "## SITIOS WEB DE AYUDA:\n",
    "\n",
    "## https://dfrieds.com/data-visualizations/bar-plot-python-pandas.html\n",
    "\n",
    "## https://mode.com/python-tutorial/counting-and-plotting-in-python/\n",
    "\n",
    "##-------------------------------------------------------------------\n"
   ]
  }
 ],
 "metadata": {
  "colab": {
   "name": "graficando_excel.ipynb",
   "provenance": []
  },
  "kernelspec": {
   "display_name": "Python 3",
   "language": "python",
   "name": "python3"
  },
  "language_info": {
   "codemirror_mode": {
    "name": "ipython",
    "version": 3
   },
   "file_extension": ".py",
   "mimetype": "text/x-python",
   "name": "python",
   "nbconvert_exporter": "python",
   "pygments_lexer": "ipython3",
   "version": "3.7.3"
  }
 },
 "nbformat": 4,
 "nbformat_minor": 1
}
