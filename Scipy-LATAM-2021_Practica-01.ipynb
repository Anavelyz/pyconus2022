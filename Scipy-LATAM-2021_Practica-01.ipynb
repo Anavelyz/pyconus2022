{
 "cells": [
  {
   "cell_type": "markdown",
   "metadata": {
    "id": "Cyws9ywWVmM4"
   },
   "source": [
    "# Taller: Análizando de datos desde un VPS \n",
    "📅12/12/2021\n",
    "\n",
    "\n",
    "*   Ariel Silvio Norberto Ramos : Mail: asnramos@gmail.com\n",
    "*   Nico Quiroz: Twitter: @pythonnorte\n",
    "*   Participante: Nombre y Apellido, Datos de Contacto"
   ]
  },
  {
   "cell_type": "markdown",
   "metadata": {},
   "source": [
    "# Videos para quienes inician en usar JUPYTER HUB/Notebook en un VPS\n",
    "\n",
    "https://github.com/PythonNorte/scipyLA2021-TallerVPS-Videos"
   ]
  },
  {
   "cell_type": "code",
   "execution_count": null,
   "metadata": {},
   "outputs": [],
   "source": []
  },
  {
   "cell_type": "markdown",
   "metadata": {
    "id": "vh5GUpmTVDGG"
   },
   "source": [
    "<table>\n",
    "  <tr>\n",
    "      <td><img src=\"https://www.scipy.lat/es/_images/scipy.png\" alt=\"logo Scipy LA\" width=\"320\" height=\"320\"></td>\n",
    "      <td><img src=\"http://python-norte.esy.es/assets/images/logo-python-norte.jpg\" alt=\"logo pythonNorte\" width=\"160\" height=\"160\"></td>\n",
    "  </tr>\n",
    "</table>"
   ]
  },
  {
   "cell_type": "markdown",
   "metadata": {
    "id": "tuXoJelOYnFZ"
   },
   "source": [
    "\n",
    "Temario \n",
    "\n",
    "\n",
    "1.   Introducción VPS \n",
    "2.   Obtener los datos desde Weather ☀⛅🌦🌧\n",
    "3.   Abrir archivos con Pandas 🐼 📄**.csv**\n",
    "4.   Algo de matplotlib 📈\n",
    "5.   Algo de plotly📊🎈\n",
    "6.   Herramientas (Lux-API) y ejemplos para prácticar 🏠\n",
    "\n",
    "\n",
    "\n",
    "\n",
    "\n"
   ]
  },
  {
   "cell_type": "markdown",
   "metadata": {
    "id": "1fhn5sNBZbL2"
   },
   "source": [
    " ## VPS  Servidor Privado Virtual 🖥💻☁ ¿Qué es VPS y para que sirve?.¿Por que nos decidimos a utilizar el un VPS?👩‍⚕️👨‍⚕️\n",
    "\n",
    " - Buscamos en internet la informacion sobre un VPS\n",
    "\n"
   ]
  },
  {
   "cell_type": "code",
   "execution_count": null,
   "metadata": {
    "id": "V9tgPyA6Mnyu"
   },
   "outputs": [],
   "source": [
    "#  paquetes se han instalado\n",
    "!pip list"
   ]
  },
  {
   "cell_type": "markdown",
   "metadata": {
    "id": "Zwp_I_elZr-5"
   },
   "source": [
    "## Obtener datos Global Weather Data for SWAT (repositorio de informacion meteorológica) 📩\n",
    "[Global Weather Data for SWAT](https://globalweather.tamu.edu/)\n",
    "\n",
    "\n",
    "<img src=\"https://tricolor-scilla-68c.notion.site/image/https%3A%2F%2Fs3-us-west-2.amazonaws.com%2Fsecure.notion-static.com%2Ff83f0d8e-b911-4e20-b7d2-07732acd305a%2FUntitled.png?table=block&id=500edae4-0d33-4373-8a8e-9f293a7b9f1e&spaceId=62aa27de-48fd-4703-8a40-2de64b627b11&width=1750&userId=&cache=v2\" width=\"500\" alt=\"Global Weather Data\">\n",
    "\n"
   ]
  },
  {
   "cell_type": "markdown",
   "metadata": {
    "id": "s8Uo2eNdQA00"
   },
   "source": [
    "### [Pandas](https://pandas.pydata.org/)\n",
    "\n",
    "<img src=\"https://tricolor-scilla-68c.notion.site/image/https%3A%2F%2Fs3-us-west-2.amazonaws.com%2Fsecure.notion-static.com%2Fdc0dd082-a3da-4d41-a435-3c36877fd4f6%2FUntitled.png?table=block&id=74c62c2e-c4c7-4cd5-831a-7ca72f759e5e&spaceId=62aa27de-48fd-4703-8a40-2de64b627b11&width=640&userId=&cache=v2\" width=\"500\" alt=\"Global Weather Data\">\n",
    "\n",
    "\n"
   ]
  },
  {
   "cell_type": "markdown",
   "metadata": {
    "id": "NSbd1D-VNNqW"
   },
   "source": [
    "Marc Garcia 🛩@datapythonista (telegram)"
   ]
  },
  {
   "cell_type": "code",
   "execution_count": 3,
   "metadata": {
    "id": "7fk8L4gUZajk"
   },
   "outputs": [],
   "source": [
    "import pandas as pd"
   ]
  },
  {
   "cell_type": "code",
   "execution_count": null,
   "metadata": {
    "id": "Ho_l4WtTS79K"
   },
   "outputs": [],
   "source": [
    "ruta = \"https://raw.githubusercontent.com/cocodibuja/scipyla2021/main/weatherdata--304-622.csv\"\n",
    "df_weather = pd.read_csv(ruta)\n",
    "print(df_weather)"
   ]
  },
  {
   "cell_type": "code",
   "execution_count": null,
   "metadata": {
    "id": "ZEzI2K-fWEXg"
   },
   "outputs": [],
   "source": [
    "# dimensiones / forma\n",
    "df_weather.shape"
   ]
  },
  {
   "cell_type": "code",
   "execution_count": null,
   "metadata": {
    "id": "qhA5FjV1TQWN"
   },
   "outputs": [],
   "source": [
    "#primeros valores\n",
    "df_weather.head(10)"
   ]
  },
  {
   "cell_type": "code",
   "execution_count": null,
   "metadata": {
    "id": "KXBPQsC1T7xu"
   },
   "outputs": [],
   "source": [
    "#últimos valores\n",
    "df_weather.tail(5)"
   ]
  },
  {
   "cell_type": "code",
   "execution_count": null,
   "metadata": {
    "id": "DLuZhqQ7Vo4w"
   },
   "outputs": [],
   "source": [
    "# nombres de las columnas\n",
    "print(df_weather.columns.values)"
   ]
  },
  {
   "cell_type": "code",
   "execution_count": 9,
   "metadata": {
    "id": "ZQ26jOlyZKnK"
   },
   "outputs": [],
   "source": [
    "#borramos una columna en particular\n",
    "del df_weather['Unnamed: 10']"
   ]
  },
  {
   "cell_type": "code",
   "execution_count": null,
   "metadata": {
    "id": "s4RTLMVsZgGr"
   },
   "outputs": [],
   "source": [
    "df_weather"
   ]
  },
  {
   "cell_type": "code",
   "execution_count": 11,
   "metadata": {
    "id": "4eLezeb7aT0Z"
   },
   "outputs": [],
   "source": [
    "### Veamos Longitude,Latitude,Elevation"
   ]
  },
  {
   "cell_type": "code",
   "execution_count": null,
   "metadata": {
    "id": "8SiV0TEdZpVZ"
   },
   "outputs": [],
   "source": [
    "df_weather['Longitude'].plot()\n"
   ]
  },
  {
   "cell_type": "code",
   "execution_count": null,
   "metadata": {
    "id": "w2DIIe5JareG"
   },
   "outputs": [],
   "source": [
    "df_weather['Longitude'].unique()"
   ]
  },
  {
   "cell_type": "code",
   "execution_count": null,
   "metadata": {
    "id": "EC3Zn5Eea1_6"
   },
   "outputs": [],
   "source": [
    "print(df_weather['Latitude'].unique())\n",
    "df_weather['Latitude'].plot()"
   ]
  },
  {
   "cell_type": "code",
   "execution_count": null,
   "metadata": {
    "id": "8GhrTUfLa_EI"
   },
   "outputs": [],
   "source": [
    "print(df_weather['Elevation'].unique())\n",
    "df_weather['Elevation'].plot()"
   ]
  },
  {
   "cell_type": "markdown",
   "metadata": {
    "id": "ETjexYLEbMZa"
   },
   "source": [
    "\n",
    "**Longitude** -30.442301  **Latitude** 75  **Elevation** 34.968"
   ]
  },
  {
   "cell_type": "code",
   "execution_count": 16,
   "metadata": {
    "id": "w5jM_G7obcyG"
   },
   "outputs": [],
   "source": [
    "#borramos varias columnas Longitude, Latitude, Elevation\n",
    "       \n",
    "df_weather = df_weather.drop(['Longitude', 'Latitude', 'Elevation'], axis =1)\n",
    "\n",
    "# en caso de tener muchas columnas que borrar... => solo nos quedamos con \n",
    "# aquellas columnas de nuestro interés\n",
    "\n",
    "df_opcion_2 = df_weather[['Date', 'Max Temperature',\n",
    "       'Min Temperature', 'Precipitation', 'Wind', 'Relative Humidity',\n",
    "       'Solar']]"
   ]
  },
  {
   "cell_type": "code",
   "execution_count": null,
   "metadata": {
    "id": "CFgNalGUdVyI"
   },
   "outputs": [],
   "source": [
    "df_weather.head()"
   ]
  },
  {
   "cell_type": "code",
   "execution_count": null,
   "metadata": {
    "id": "fMhp18UldNfi"
   },
   "outputs": [],
   "source": [
    "df_weather['Max Temperature'].max()"
   ]
  },
  {
   "cell_type": "code",
   "execution_count": null,
   "metadata": {
    "id": "VVh2lvM8d-X1"
   },
   "outputs": [],
   "source": [
    "df_weather['Max Temperature'].min()"
   ]
  },
  {
   "cell_type": "code",
   "execution_count": null,
   "metadata": {
    "id": "erYO2WlZed73"
   },
   "outputs": [],
   "source": [
    "df_weather['Min Temperature'].max()"
   ]
  },
  {
   "cell_type": "code",
   "execution_count": null,
   "metadata": {
    "id": "O_TgUmhuel9I"
   },
   "outputs": [],
   "source": [
    "df_weather['Min Temperature'].min()"
   ]
  },
  {
   "cell_type": "markdown",
   "metadata": {
    "id": "gSrOodvEffyX"
   },
   "source": [
    "### Queremos saber cuando (que fecha) fue la temperatura más elevada de 'Max Temperatura'. 🌡📆"
   ]
  },
  {
   "cell_type": "code",
   "execution_count": 22,
   "metadata": {
    "id": "Qt4EuSq4eqi5"
   },
   "outputs": [],
   "source": [
    "max_temperature_max = df_weather['Max Temperature'].max()"
   ]
  },
  {
   "cell_type": "code",
   "execution_count": null,
   "metadata": {
    "id": "uSP7brkQfO7M"
   },
   "outputs": [],
   "source": [
    "df_weather[df_weather['Max Temperature']==max_temperature_max]"
   ]
  },
  {
   "cell_type": "code",
   "execution_count": null,
   "metadata": {
    "id": "Z0sq4xOzifM9"
   },
   "outputs": [],
   "source": [
    "df_weather['Max Temperature'].plot();\n",
    "df_weather['Min Temperature'].plot();\n"
   ]
  },
  {
   "cell_type": "code",
   "execution_count": null,
   "metadata": {
    "id": "_wDhm8z51A8a"
   },
   "outputs": [],
   "source": [
    "df_weather.sort_values('Max Temperature')#,ascending=False)"
   ]
  },
  {
   "cell_type": "markdown",
   "metadata": {
    "id": "7MMN1H9nfz-8"
   },
   "source": [
    "### ¿Max Temp >= Min Temp? "
   ]
  },
  {
   "cell_type": "code",
   "execution_count": null,
   "metadata": {
    "id": "nUJzze5zgDUI"
   },
   "outputs": [],
   "source": [
    "sum(df_weather['Max Temperature']>=df_weather['Min Temperature'])"
   ]
  },
  {
   "cell_type": "markdown",
   "metadata": {
    "id": "Fs9zh5hmgYX8"
   },
   "source": [
    "### ¿hubo muchas precipitaciones?  ==> 🌧>0"
   ]
  },
  {
   "cell_type": "code",
   "execution_count": 27,
   "metadata": {
    "id": "87Z6C9VNg2h-"
   },
   "outputs": [],
   "source": [
    "dias_lluvia = sum(df_weather['Precipitation']>0)"
   ]
  },
  {
   "cell_type": "code",
   "execution_count": null,
   "metadata": {
    "id": "O3BxWemZhHs1"
   },
   "outputs": [],
   "source": [
    "total_dias = df_weather.shape[0]\n",
    "porcentaje = dias_lluvia/total_dias*100\n",
    "porcentaje"
   ]
  },
  {
   "cell_type": "markdown",
   "metadata": {
    "id": "JSVQW6Yrhm1e"
   },
   "source": [
    "### Trabajemos con Días ¿ Cuántos años hay registrados?"
   ]
  },
  {
   "cell_type": "code",
   "execution_count": null,
   "metadata": {
    "id": "O2FMFd1Jhfud"
   },
   "outputs": [],
   "source": [
    "int(total_dias/365)"
   ]
  },
  {
   "cell_type": "code",
   "execution_count": null,
   "metadata": {
    "id": "QLrnR68piIEU"
   },
   "outputs": [],
   "source": [
    "# ¿la última fecha?\n",
    "df_weather['Date'].max()"
   ]
  },
  {
   "cell_type": "code",
   "execution_count": null,
   "metadata": {
    "id": "PO7f6cCiiRgI"
   },
   "outputs": [],
   "source": [
    "df_weather['Date'].tail(5)"
   ]
  },
  {
   "cell_type": "code",
   "execution_count": 32,
   "metadata": {
    "id": "UaQDCzEWiXRU"
   },
   "outputs": [],
   "source": [
    "# solucionemos el Date\n",
    "df_weather['Date'] = pd.to_datetime(df_weather['Date'])#.dt.date"
   ]
  },
  {
   "cell_type": "code",
   "execution_count": 33,
   "metadata": {
    "colab": {
     "base_uri": "https://localhost:8080/"
    },
    "id": "7ahBSfkejJ1s",
    "outputId": "f0ab75f3-7b0d-4d0f-f9cd-accf5ef2605d"
   },
   "outputs": [
    {
     "data": {
      "text/plain": [
       "Timestamp('2014-07-31 00:00:00')"
      ]
     },
     "execution_count": 33,
     "metadata": {},
     "output_type": "execute_result"
    }
   ],
   "source": [
    "df_weather['Date'].max()"
   ]
  },
  {
   "cell_type": "code",
   "execution_count": null,
   "metadata": {
    "id": "NxbhbkWlnS5n"
   },
   "outputs": [],
   "source": [
    "!pip install funpymodeling #Pablo Casas\n",
    "from funpymodeling.exploratory import status\n",
    "# https://pypi.org/project/funpymodeling/"
   ]
  },
  {
   "cell_type": "code",
   "execution_count": null,
   "metadata": {
    "id": "0bu-_El7n4Ma"
   },
   "outputs": [],
   "source": [
    "status(df_weather)"
   ]
  },
  {
   "cell_type": "markdown",
   "metadata": {
    "id": "CmSLK7wVzt55"
   },
   "source": [
    "## Estaciones ☀⛅🌦🌧"
   ]
  },
  {
   "cell_type": "markdown",
   "metadata": {
    "id": "HSnvqtBv2aue"
   },
   "source": [
    "https://es.stackoverflow.com/"
   ]
  },
  {
   "cell_type": "code",
   "execution_count": 36,
   "metadata": {
    "id": "MdEPvXXprmaO"
   },
   "outputs": [],
   "source": [
    "\n",
    "# https://es.stackoverflow.com/questions/412121/convertir-fechas-a-estaciones\n",
    "from datetime import date, datetime\n",
    "\n",
    "\n",
    "def get_season(fecha):\n",
    "  '''ingresa una fecha y devuelve la estación del año'''\n",
    "  Y = fecha.year\n",
    "  estaciones = [('invierno', datetime(Y,  1,  1),  datetime(Y,  3, 20)),\n",
    "              ('primavera', datetime(Y,  3, 21),  datetime(Y,  6, 20)),\n",
    "              ('verano', datetime(Y,  6, 21),  datetime(Y,  9, 22)),\n",
    "              ('otoño', datetime(Y,  9, 23),  datetime(Y, 12, 20)),\n",
    "              ('invierno', datetime(Y, 12, 21),  datetime(Y, 12, 31))]\n",
    "\n",
    "  for estacion, inicio, fin in estaciones:\n",
    "    if inicio <= fecha <= fin:\n",
    "      return estacion"
   ]
  },
  {
   "cell_type": "code",
   "execution_count": 37,
   "metadata": {
    "id": "iKAvdxlzyEM9"
   },
   "outputs": [],
   "source": [
    "df_weather['Seasons'] = df_weather['Date'].apply(get_season)"
   ]
  },
  {
   "cell_type": "code",
   "execution_count": null,
   "metadata": {
    "id": "gBL3iMED0lgU"
   },
   "outputs": [],
   "source": [
    "df_weather"
   ]
  },
  {
   "cell_type": "code",
   "execution_count": null,
   "metadata": {
    "id": "ploLWn3Y7PT4"
   },
   "outputs": [],
   "source": [
    "df_weather_1979 = df_weather[df_weather['Date'].dt.strftime('%Y') == '1979']\n",
    "df_weather_1979"
   ]
  },
  {
   "cell_type": "code",
   "execution_count": null,
   "metadata": {
    "id": "HRfYlK74IYeT"
   },
   "outputs": [],
   "source": [
    "sum(df_weather_1979['Precipitation'][df_weather_1979['Seasons'] == 'otoño']>0)"
   ]
  },
  {
   "cell_type": "code",
   "execution_count": null,
   "metadata": {
    "id": "1wsY5XvD82Ee"
   },
   "outputs": [],
   "source": [
    "sum(df_weather_1979['Precipitation'][df_weather_1979['Seasons'] == 'otoño']>0)/sum(df_weather_1979['Seasons'] == 'otoño')"
   ]
  },
  {
   "cell_type": "code",
   "execution_count": 42,
   "metadata": {
    "id": "-MI0o7zFEGPL"
   },
   "outputs": [],
   "source": [
    "def porcentaje_precipitaciones(df,estacion):\n",
    "  '''ingresa el df y devuelve el porcentaje \n",
    "  de precipitación(>0) de la estación ingresada'''\n",
    "  total_dias = sum(df_weather_1979['Seasons']==estacion)\n",
    "  total_lluvia = sum(df_weather_1979['Precipitation'][df_weather_1979['Seasons'] == estacion]>0)\n",
    "  total_sin_lluvia = total_dias - total_lluvia\n",
    "  p_lluvia = int(total_lluvia/total_dias*100)\n",
    "  return[p_lluvia,100-p_lluvia]\n"
   ]
  },
  {
   "cell_type": "code",
   "execution_count": null,
   "metadata": {
    "id": "6DvK0mqaFTZC"
   },
   "outputs": [],
   "source": [
    "porcentaje_precipitaciones(df_weather_1979,'invierno')"
   ]
  },
  {
   "cell_type": "markdown",
   "metadata": {
    "id": "kYe2QIPJS7-8"
   },
   "source": [
    "![](https://www.notion.so/image/https%3A%2F%2Fs3-us-west-2.amazonaws.com%2Fsecure.notion-static.com%2F17d6223b-b555-4abe-9b70-45c3cc77e20e%2FUntitled.png?table=block&id=5ac8cd71-ea26-4f9a-b719-7eac6264096d&spaceId=62aa27de-48fd-4703-8a40-2de64b627b11&width=1420&userId=&cache=v2)"
   ]
  },
  {
   "cell_type": "code",
   "execution_count": null,
   "metadata": {
    "id": "wRCwrk9Z9PPo"
   },
   "outputs": [],
   "source": [
    "import matplotlib.pyplot as plt\n",
    "\n",
    "# Pie chart, where the slices will be ordered and plotted counter-clockwise:\n",
    "labels = 'Lluvia', 'No lluvia'\n",
    "sizes = porcentaje_precipitaciones(df_weather_1979,'invierno')\n",
    "explode = (0.1, 0)  # only \"explode\" \n",
    "\n",
    "fig1, ax1 = plt.subplots()\n",
    "ax1.pie(sizes, explode=explode, labels=labels, autopct='%1.1f%%',\n",
    "        shadow=True, startangle=90)\n",
    "ax1.axis('equal')  # Equal aspect ratio ensures that pie is drawn as a circle.\n",
    "plt.title(\"Invierno 1979\", bbox={'facecolor':'0.9', 'pad':1})\n",
    "plt.show()"
   ]
  },
  {
   "cell_type": "code",
   "execution_count": null,
   "metadata": {
    "id": "RhdkxJMWGbpu"
   },
   "outputs": [],
   "source": [
    "# https://coderedirect.com/questions/364195/how-to-make-mxn-piechart-plots-with-one-legend-and-removed-y-axis-titles-in-matp\n",
    "\n",
    "estaciones = ['invierno','primavera','verano','otoño']\n",
    "\n",
    "fig, axes = plt.subplots(1,4, figsize=(20,5))\n",
    "for ax, estacion in zip(axes, estaciones):\n",
    "    ax.pie(porcentaje_precipitaciones(df_weather_1979,estacion), labels=['Lluvia', 'No lluvia'], autopct='%.2f')\n",
    "    ax.set(ylabel='', title=estacion, aspect='equal')\n",
    "\n",
    "axes[0].legend(bbox_to_anchor=(0, 0.5))\n",
    "\n",
    "\n",
    "plt.show()"
   ]
  },
  {
   "cell_type": "code",
   "execution_count": null,
   "metadata": {
    "id": "JGWBSS3rHcRK"
   },
   "outputs": [],
   "source": [
    "fig, ax = plt.subplots()\n",
    "ax.plot(df_weather_1979['Date'], df_weather_1979['Precipitation'])\n",
    "plt.show()"
   ]
  },
  {
   "cell_type": "markdown",
   "metadata": {
    "id": "W_Ro76FDy_mv"
   },
   "source": [
    "\n",
    "\n",
    "![](https://www.notion.so/image/https%3A%2F%2Fs3-us-west-2.amazonaws.com%2Fsecure.notion-static.com%2Ffa3748de-b07b-4cef-a636-3c1063aa134f%2FUntitled.png?table=block&id=2c462201-ceb3-4c52-aaa4-214cf334dee5&spaceId=62aa27de-48fd-4703-8a40-2de64b627b11&width=330&userId=&cache=v2)\n",
    "\n",
    "[plotly](https://plotly.com/python/)"
   ]
  },
  {
   "cell_type": "code",
   "execution_count": 47,
   "metadata": {
    "id": "VXWZWNYYjLMl"
   },
   "outputs": [],
   "source": [
    "import plotly.express as px"
   ]
  },
  {
   "cell_type": "code",
   "execution_count": null,
   "metadata": {
    "id": "0vOreglalyFf"
   },
   "outputs": [],
   "source": [
    "fig = px.line(df_weather, x='Date', y=\"Precipitation\")\n",
    "fig.show()"
   ]
  },
  {
   "cell_type": "code",
   "execution_count": null,
   "metadata": {
    "id": "cGuDcAfoT8LY"
   },
   "outputs": [],
   "source": [
    "fig = px.line(df_weather_1979, x='Date', y=\"Precipitation\")\n",
    "fig.show()"
   ]
  },
  {
   "cell_type": "markdown",
   "metadata": {
    "id": "Nas38piy-Vt0"
   },
   "source": [
    "## Levantando un EXCEL"
   ]
  },
  {
   "cell_type": "code",
   "execution_count": 1,
   "metadata": {
    "id": "YioZUrHf-ZSL"
   },
   "outputs": [
    {
     "data": {
      "text/html": [
       "<div>\n",
       "<style scoped>\n",
       "    .dataframe tbody tr th:only-of-type {\n",
       "        vertical-align: middle;\n",
       "    }\n",
       "\n",
       "    .dataframe tbody tr th {\n",
       "        vertical-align: top;\n",
       "    }\n",
       "\n",
       "    .dataframe thead th {\n",
       "        text-align: right;\n",
       "    }\n",
       "</style>\n",
       "<table border=\"1\" class=\"dataframe\">\n",
       "  <thead>\n",
       "    <tr style=\"text-align: right;\">\n",
       "      <th></th>\n",
       "      <th>MESA</th>\n",
       "      <th>ORDEN</th>\n",
       "      <th>ESCUELA</th>\n",
       "      <th>TIPO DE EJEMPLAR</th>\n",
       "      <th>MATRICULA</th>\n",
       "      <th>APELLIDO</th>\n",
       "      <th>NOMBRE</th>\n",
       "      <th>CLASE</th>\n",
       "      <th>GENERO</th>\n",
       "      <th>DOMICILIO</th>\n",
       "      <th>SECCION</th>\n",
       "      <th>CIRCUITO</th>\n",
       "      <th>MESA.1</th>\n",
       "      <th>ORDEN_MESA</th>\n",
       "      <th>ESCUELA.1</th>\n",
       "      <th>TX_SECC_NUMERO</th>\n",
       "      <th>TX_CIRC_NUMERO</th>\n",
       "    </tr>\n",
       "  </thead>\n",
       "  <tbody>\n",
       "    <tr>\n",
       "      <th>0</th>\n",
       "      <td>1620</td>\n",
       "      <td>1</td>\n",
       "      <td>EET</td>\n",
       "      <td>DNI-EA</td>\n",
       "      <td>8000677</td>\n",
       "      <td>PRIETO</td>\n",
       "      <td>RAUL MANUEL</td>\n",
       "      <td>1948</td>\n",
       "      <td>M</td>\n",
       "      <td>AV. LAMADRID 344</td>\n",
       "      <td>15 - YAVI</td>\n",
       "      <td>118   - LA QUIACA</td>\n",
       "      <td>1620</td>\n",
       "      <td>1</td>\n",
       "      <td>EET</td>\n",
       "      <td>15</td>\n",
       "      <td>118</td>\n",
       "    </tr>\n",
       "    <tr>\n",
       "      <th>1</th>\n",
       "      <td>1620</td>\n",
       "      <td>2</td>\n",
       "      <td>EET</td>\n",
       "      <td>DNI</td>\n",
       "      <td>28314207</td>\n",
       "      <td>ABALO</td>\n",
       "      <td>BELEN ZULEMA</td>\n",
       "      <td>1980</td>\n",
       "      <td>F</td>\n",
       "      <td>BELGRANO 797 S/N</td>\n",
       "      <td>15 - YAVI</td>\n",
       "      <td>118   - LA QUIACA</td>\n",
       "      <td>1620</td>\n",
       "      <td>2</td>\n",
       "      <td>EET</td>\n",
       "      <td>15</td>\n",
       "      <td>118</td>\n",
       "    </tr>\n",
       "    <tr>\n",
       "      <th>2</th>\n",
       "      <td>1620</td>\n",
       "      <td>3</td>\n",
       "      <td>EET</td>\n",
       "      <td>DNI-EA</td>\n",
       "      <td>33844704</td>\n",
       "      <td>ABALO</td>\n",
       "      <td>BETSABE AMERICA</td>\n",
       "      <td>1988</td>\n",
       "      <td>F</td>\n",
       "      <td>BELGRANO 797</td>\n",
       "      <td>15 - YAVI</td>\n",
       "      <td>118   - LA QUIACA</td>\n",
       "      <td>1620</td>\n",
       "      <td>3</td>\n",
       "      <td>EET</td>\n",
       "      <td>15</td>\n",
       "      <td>118</td>\n",
       "    </tr>\n",
       "    <tr>\n",
       "      <th>3</th>\n",
       "      <td>1620</td>\n",
       "      <td>4</td>\n",
       "      <td>EET</td>\n",
       "      <td>DNI-EA</td>\n",
       "      <td>8012954</td>\n",
       "      <td>ABALO</td>\n",
       "      <td>LUIS ALBERTO</td>\n",
       "      <td>1950</td>\n",
       "      <td>M</td>\n",
       "      <td>BELGRANO 797</td>\n",
       "      <td>15 - YAVI</td>\n",
       "      <td>118   - LA QUIACA</td>\n",
       "      <td>1620</td>\n",
       "      <td>4</td>\n",
       "      <td>EET</td>\n",
       "      <td>15</td>\n",
       "      <td>118</td>\n",
       "    </tr>\n",
       "    <tr>\n",
       "      <th>4</th>\n",
       "      <td>1620</td>\n",
       "      <td>5</td>\n",
       "      <td>EET</td>\n",
       "      <td>DNI-EB</td>\n",
       "      <td>28727558</td>\n",
       "      <td>ABALO</td>\n",
       "      <td>LUIS ENRIQUE</td>\n",
       "      <td>1982</td>\n",
       "      <td>M</td>\n",
       "      <td>AV. MARIA MAIDANA ESQ. PJE. LIBERTAD S/N</td>\n",
       "      <td>15 - YAVI</td>\n",
       "      <td>118   - LA QUIACA</td>\n",
       "      <td>1620</td>\n",
       "      <td>5</td>\n",
       "      <td>EET</td>\n",
       "      <td>15</td>\n",
       "      <td>118</td>\n",
       "    </tr>\n",
       "    <tr>\n",
       "      <th>...</th>\n",
       "      <td>...</td>\n",
       "      <td>...</td>\n",
       "      <td>...</td>\n",
       "      <td>...</td>\n",
       "      <td>...</td>\n",
       "      <td>...</td>\n",
       "      <td>...</td>\n",
       "      <td>...</td>\n",
       "      <td>...</td>\n",
       "      <td>...</td>\n",
       "      <td>...</td>\n",
       "      <td>...</td>\n",
       "      <td>...</td>\n",
       "      <td>...</td>\n",
       "      <td>...</td>\n",
       "      <td>...</td>\n",
       "      <td>...</td>\n",
       "    </tr>\n",
       "    <tr>\n",
       "      <th>14299</th>\n",
       "      <td>1662</td>\n",
       "      <td>328</td>\n",
       "      <td>ESCUELA FRONTERA</td>\n",
       "      <td>DNI-EA</td>\n",
       "      <td>41401783</td>\n",
       "      <td>ZUTARA</td>\n",
       "      <td>CELESTE NOEMI</td>\n",
       "      <td>1998</td>\n",
       "      <td>F</td>\n",
       "      <td>SAN CAYETANO-PAT.ARGENTIN 287</td>\n",
       "      <td>15 - YAVI</td>\n",
       "      <td>118   - LA QUIACA</td>\n",
       "      <td>1662</td>\n",
       "      <td>328</td>\n",
       "      <td>ESCUELA FRONTERA</td>\n",
       "      <td>15</td>\n",
       "      <td>118</td>\n",
       "    </tr>\n",
       "    <tr>\n",
       "      <th>14300</th>\n",
       "      <td>1662</td>\n",
       "      <td>329</td>\n",
       "      <td>ESCUELA FRONTERA</td>\n",
       "      <td>DNI-EA</td>\n",
       "      <td>39401859</td>\n",
       "      <td>ZUTARA</td>\n",
       "      <td>CRISTIAN ARIEL</td>\n",
       "      <td>1996</td>\n",
       "      <td>M</td>\n",
       "      <td>ARGENTINAS 287</td>\n",
       "      <td>15 - YAVI</td>\n",
       "      <td>118   - LA QUIACA</td>\n",
       "      <td>1662</td>\n",
       "      <td>329</td>\n",
       "      <td>ESCUELA FRONTERA</td>\n",
       "      <td>15</td>\n",
       "      <td>118</td>\n",
       "    </tr>\n",
       "    <tr>\n",
       "      <th>14301</th>\n",
       "      <td>1662</td>\n",
       "      <td>330</td>\n",
       "      <td>ESCUELA FRONTERA</td>\n",
       "      <td>DNI-ED</td>\n",
       "      <td>40765421</td>\n",
       "      <td>ZUTARA</td>\n",
       "      <td>DANTE SALVADOR</td>\n",
       "      <td>1997</td>\n",
       "      <td>M</td>\n",
       "      <td>MINEROS DEL AGUILAR 561</td>\n",
       "      <td>15 - YAVI</td>\n",
       "      <td>118   - LA QUIACA</td>\n",
       "      <td>1662</td>\n",
       "      <td>330</td>\n",
       "      <td>ESCUELA FRONTERA</td>\n",
       "      <td>15</td>\n",
       "      <td>118</td>\n",
       "    </tr>\n",
       "    <tr>\n",
       "      <th>14302</th>\n",
       "      <td>1662</td>\n",
       "      <td>331</td>\n",
       "      <td>ESCUELA FRONTERA</td>\n",
       "      <td>DNI-EC</td>\n",
       "      <td>12231832</td>\n",
       "      <td>ZUTARA</td>\n",
       "      <td>DOROTEA</td>\n",
       "      <td>1956</td>\n",
       "      <td>F</td>\n",
       "      <td>TAMBORCITO DE TACUARI 616</td>\n",
       "      <td>15 - YAVI</td>\n",
       "      <td>118   - LA QUIACA</td>\n",
       "      <td>1662</td>\n",
       "      <td>331</td>\n",
       "      <td>ESCUELA FRONTERA</td>\n",
       "      <td>15</td>\n",
       "      <td>118</td>\n",
       "    </tr>\n",
       "    <tr>\n",
       "      <th>14303</th>\n",
       "      <td>1662</td>\n",
       "      <td>332</td>\n",
       "      <td>ESCUELA FRONTERA</td>\n",
       "      <td>DNI-EC</td>\n",
       "      <td>21319985</td>\n",
       "      <td>ZUTARA</td>\n",
       "      <td>HILARIO</td>\n",
       "      <td>1972</td>\n",
       "      <td>M</td>\n",
       "      <td>S.CAYETANO-P.ARGENTINAS 287</td>\n",
       "      <td>15 - YAVI</td>\n",
       "      <td>118   - LA QUIACA</td>\n",
       "      <td>1662</td>\n",
       "      <td>332</td>\n",
       "      <td>ESCUELA FRONTERA</td>\n",
       "      <td>15</td>\n",
       "      <td>118</td>\n",
       "    </tr>\n",
       "  </tbody>\n",
       "</table>\n",
       "<p>14304 rows × 17 columns</p>\n",
       "</div>"
      ],
      "text/plain": [
       "       MESA  ORDEN           ESCUELA TIPO DE EJEMPLAR  MATRICULA APELLIDO  \\\n",
       "0      1620      1               EET           DNI-EA    8000677   PRIETO   \n",
       "1      1620      2               EET              DNI   28314207    ABALO   \n",
       "2      1620      3               EET           DNI-EA   33844704    ABALO   \n",
       "3      1620      4               EET           DNI-EA    8012954    ABALO   \n",
       "4      1620      5               EET           DNI-EB   28727558    ABALO   \n",
       "...     ...    ...               ...              ...        ...      ...   \n",
       "14299  1662    328  ESCUELA FRONTERA           DNI-EA   41401783   ZUTARA   \n",
       "14300  1662    329  ESCUELA FRONTERA           DNI-EA   39401859   ZUTARA   \n",
       "14301  1662    330  ESCUELA FRONTERA           DNI-ED   40765421   ZUTARA   \n",
       "14302  1662    331  ESCUELA FRONTERA           DNI-EC   12231832   ZUTARA   \n",
       "14303  1662    332  ESCUELA FRONTERA           DNI-EC   21319985   ZUTARA   \n",
       "\n",
       "                NOMBRE  CLASE GENERO  \\\n",
       "0          RAUL MANUEL   1948      M   \n",
       "1         BELEN ZULEMA   1980      F   \n",
       "2      BETSABE AMERICA   1988      F   \n",
       "3         LUIS ALBERTO   1950      M   \n",
       "4         LUIS ENRIQUE   1982      M   \n",
       "...                ...    ...    ...   \n",
       "14299    CELESTE NOEMI   1998      F   \n",
       "14300   CRISTIAN ARIEL   1996      M   \n",
       "14301   DANTE SALVADOR   1997      M   \n",
       "14302          DOROTEA   1956      F   \n",
       "14303          HILARIO   1972      M   \n",
       "\n",
       "                                      DOMICILIO    SECCION           CIRCUITO  \\\n",
       "0                              AV. LAMADRID 344  15 - YAVI  118   - LA QUIACA   \n",
       "1                              BELGRANO 797 S/N  15 - YAVI  118   - LA QUIACA   \n",
       "2                                  BELGRANO 797  15 - YAVI  118   - LA QUIACA   \n",
       "3                                  BELGRANO 797  15 - YAVI  118   - LA QUIACA   \n",
       "4      AV. MARIA MAIDANA ESQ. PJE. LIBERTAD S/N  15 - YAVI  118   - LA QUIACA   \n",
       "...                                         ...        ...                ...   \n",
       "14299             SAN CAYETANO-PAT.ARGENTIN 287  15 - YAVI  118   - LA QUIACA   \n",
       "14300                            ARGENTINAS 287  15 - YAVI  118   - LA QUIACA   \n",
       "14301                   MINEROS DEL AGUILAR 561  15 - YAVI  118   - LA QUIACA   \n",
       "14302                 TAMBORCITO DE TACUARI 616  15 - YAVI  118   - LA QUIACA   \n",
       "14303               S.CAYETANO-P.ARGENTINAS 287  15 - YAVI  118   - LA QUIACA   \n",
       "\n",
       "       MESA.1  ORDEN_MESA         ESCUELA.1  TX_SECC_NUMERO  TX_CIRC_NUMERO  \n",
       "0        1620           1               EET              15             118  \n",
       "1        1620           2               EET              15             118  \n",
       "2        1620           3               EET              15             118  \n",
       "3        1620           4               EET              15             118  \n",
       "4        1620           5               EET              15             118  \n",
       "...       ...         ...               ...             ...             ...  \n",
       "14299    1662         328  ESCUELA FRONTERA              15             118  \n",
       "14300    1662         329  ESCUELA FRONTERA              15             118  \n",
       "14301    1662         330  ESCUELA FRONTERA              15             118  \n",
       "14302    1662         331  ESCUELA FRONTERA              15             118  \n",
       "14303    1662         332  ESCUELA FRONTERA              15             118  \n",
       "\n",
       "[14304 rows x 17 columns]"
      ]
     },
     "execution_count": 1,
     "metadata": {},
     "output_type": "execute_result"
    }
   ],
   "source": [
    "import pandas as pd\n",
    "datos = pd.read_excel('data/LAQUIACA-2019-JUNIO.xlsx')\n",
    "datos"
   ]
  },
  {
   "cell_type": "markdown",
   "metadata": {
    "id": "QDEnAQaZ-NAD"
   },
   "source": [
    "## Más herramientas para aprender\n",
    "\n",
    "<img src=\"https://github.com/lux-org/lux-resources/raw/master/logo/logo.png?raw=true\" width=\"500\" alt=\"lux-widget-logo\">\n",
    "\n",
    "\n",
    "[lux-widget](https://github.com/lux-org/lux-widget)\n"
   ]
  },
  {
   "cell_type": "code",
   "execution_count": 50,
   "metadata": {
    "id": "HQM69Xa9-ih3"
   },
   "outputs": [],
   "source": [
    "#!jupyter nbextension install --py luxwidget"
   ]
  },
  {
   "cell_type": "code",
   "execution_count": 51,
   "metadata": {
    "id": "oOyCytWY-j8J"
   },
   "outputs": [],
   "source": [
    "#!jupyter nbextension enable --py luxwidget"
   ]
  },
  {
   "cell_type": "code",
   "execution_count": 52,
   "metadata": {
    "id": "gqnCboAt-SXj"
   },
   "outputs": [],
   "source": [
    "df = pd.read_csv(\"https://raw.githubusercontent.com/lux-org/lux-datasets/master/data/college.csv\")"
   ]
  },
  {
   "cell_type": "code",
   "execution_count": null,
   "metadata": {
    "id": "3jkRWN0F-peu"
   },
   "outputs": [],
   "source": [
    "df"
   ]
  }
 ],
 "metadata": {
  "colab": {
   "collapsed_sections": [],
   "name": "Scipyla2021-Participantes",
   "provenance": []
  },
  "kernelspec": {
   "display_name": "Python 3 (ipykernel)",
   "language": "python",
   "name": "python3"
  },
  "language_info": {
   "codemirror_mode": {
    "name": "ipython",
    "version": 3
   },
   "file_extension": ".py",
   "mimetype": "text/x-python",
   "name": "python",
   "nbconvert_exporter": "python",
   "pygments_lexer": "ipython3",
   "version": "3.8.10"
  }
 },
 "nbformat": 4,
 "nbformat_minor": 1
}
