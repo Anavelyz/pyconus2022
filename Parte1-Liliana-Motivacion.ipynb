{
 "cells": [
  {
   "cell_type": "markdown",
   "metadata": {
    "slideshow": {
     "slide_type": "slide"
    }
   },
   "source": [
    "![banner](images/banner.png)\n",
    "\n",
    "### Programar y Reprogramar Recursos para Docentes\n",
    "#### Fecha: 29 Octubre 2021, 13:00 a 15:00\n",
    "####  Sofía Martin, Ariel Ramos, Liliana Hurtado, Sebastián Flores"
   ]
  },
  {
   "cell_type": "markdown",
   "metadata": {
    "slideshow": {
     "slide_type": "slide"
    }
   },
   "source": [
    "# Organización interdesciplinaria\n",
    "\n",
    "+ Pandemia global del COVID 19\n",
    "+ un equipo de trabajo innovador de enseñanza y aprendizaje en entornos virtuales. \n",
    "\n",
    "## Objetivo: \n",
    "\n",
    "El uso de herramientas open source que favorecen la inclusión en procesos de innovación educativa de los establecimientos dedicados a la enseñanza, públicos y privados en todos los niveles educativos y la implementación de Python en un VPS con Jupyter HUB/Notebook en diferentes campos disciplinares\n",
    "\n",
    "\n"
   ]
  },
  {
   "cell_type": "markdown",
   "metadata": {},
   "source": [
    "Somos informáticos y sabemos que páginas, respoitorios con  guías técnicas disponibles en Internet con este tema, entonces:\n",
    "* ¿cuál es el problema?\n",
    "* ¿por qué no las utilizan los docentes en las escuelas?\n",
    "\n"
   ]
  },
  {
   "cell_type": "markdown",
   "metadata": {
    "slideshow": {
     "slide_type": "slide"
    }
   },
   "source": [
    "**Liliana Hurtado**  que trabaja en el campo pedagógico de la Universidad de Salta se unió al equipo para poder resovler estas cuestiones:\n",
    "* ¿cómo adaptamos estos contenidos para que los docentes lo comprendan?\n",
    "* ¿qué contenidos del área propia de la amtemática son mas desafiantes para enseñar o comprender por los estudiantes?"
   ]
  },
  {
   "cell_type": "markdown",
   "metadata": {
    "slideshow": {
     "slide_type": "slide"
    }
   },
   "source": [
    "## Aporte:\n",
    "* Visibilizar los aportes de la propuesta en sus diferentes maneras de interpelar las concepciones tradicionales\n",
    "    * de enseñanza y aprendizaje, \n",
    "    * de relaciones entre enseñante y aprendiente, \n",
    "    * de lenguajes comunicacionales, de evaluación y autonomía. "
   ]
  },
  {
   "cell_type": "code",
   "execution_count": 8,
   "metadata": {},
   "outputs": [
    {
     "name": "stdout",
     "output_type": "stream",
     "text": [
      "Jelou 🌎\n"
     ]
    }
   ],
   "source": [
    "# Este es código en python\n",
    "print(u\"Jelou \\U0001F30E\")"
   ]
  }
 ],
 "metadata": {
  "celltoolbar": "Slideshow",
  "kernelspec": {
   "display_name": "Python 3 (ipykernel)",
   "language": "python",
   "name": "python3"
  },
  "language_info": {
   "codemirror_mode": {
    "name": "ipython",
    "version": 3
   },
   "file_extension": ".py",
   "mimetype": "text/x-python",
   "name": "python",
   "nbconvert_exporter": "python",
   "pygments_lexer": "ipython3",
   "version": "3.8.10"
  },
  "rise": {
   "autolaunch": false,
   "enable_chalkboard": false,
   "theme": "simple",
   "transition": "slide"
  }
 },
 "nbformat": 4,
 "nbformat_minor": 4
}
