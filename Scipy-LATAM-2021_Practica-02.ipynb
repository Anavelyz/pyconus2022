{
 "cells": [
  {
   "cell_type": "markdown",
   "metadata": {
    "id": "Cyws9ywWVmM4"
   },
   "source": [
    "# Taller: Análizando de datos desde un VPS \n",
    "📅12/12/2021\n",
    "\n",
    "\n",
    "*   Ariel Silvio Norberto Ramos asnramos@gmail.com\n",
    "*   Nico Quiroz pythonnorte@gmail.com **cocodibuja** twitter\n",
    "\n"
   ]
  },
  {
   "cell_type": "markdown",
   "metadata": {
    "id": "vh5GUpmTVDGG"
   },
   "source": [
    "<img src=\"http://python-norte.esy.es/assets/images/logo-python-norte.jpg\" alt=\"logo pythonNorte\" width=\"160\" height=\"160\">"
   ]
  },
  {
   "cell_type": "markdown",
   "metadata": {
    "id": "tuXoJelOYnFZ"
   },
   "source": [
    "\n",
    "Temario \n",
    "\n",
    "\n",
    "1.   Introducción VPS \n",
    "2.   Obtener los datos desde Weather ☀⛅🌦🌧\n",
    "3.   Abrir archivos con Pandas 🐼 📄**.csv**\n",
    "4.   Algo de matplotlib 📈\n",
    "5.   Algo de plotly📊🎈\n",
    "6.   Herramientas (Lux-API) y ejemplos para prácticar 🏠\n",
    "\n",
    "\n",
    "\n",
    "\n",
    "\n"
   ]
  },
  {
   "cell_type": "markdown",
   "metadata": {
    "id": "1fhn5sNBZbL2"
   },
   "source": [
    " ## VPS  Servidor Privado Virtual 🖥💻☁ ¿Qué es VPS y para que sirve?.¿Por que nos decidimos a utilizar el un VPS?👩‍⚕️👨‍⚕️\n",
    "\n",
    "<img src=\"https://tricolor-scilla-68c.notion.site/image/https%3A%2F%2Fs3-us-west-2.amazonaws.com%2Fsecure.notion-static.com%2F41a77e84-97a2-42a0-b0ed-f5d6d1ef88d2%2FUntitled.png?table=block&id=92db9c6b-2ace-4f67-853e-495ef70bd90e&spaceId=62aa27de-48fd-4703-8a40-2de64b627b11&width=1760&userId=&cache=v2\" width=\"500\" alt=\"VPS digitalexa.unsa\">\n",
    "\n"
   ]
  },
  {
   "cell_type": "markdown",
   "metadata": {},
   "source": [
    "# Videos de ayuda para quienes inician en usar JUPYTER HUB/Notebook en un VPS\n",
    "<img src=\"https://camo.githubusercontent.com/2457eb8c7a42484359f68e16f3dcfc361a92c8a951e9fd995b9ba560c6cfd52e/687474703a2f2f696d672e796f75747562652e636f6d2f76692f4334426b777170416166452f302e6a7067\" width=\"500\" alt=\"TallerVPS-Videos\">"
   ]
  },
  {
   "cell_type": "code",
   "execution_count": null,
   "metadata": {},
   "outputs": [],
   "source": [
    "## ScipyLA2021-TallerVPS-Videos\n",
    "# https://github.com/PythonNorte/scipyLA2021-TallerVPS-Videos"
   ]
  },
  {
   "cell_type": "code",
   "execution_count": 1,
   "metadata": {
    "id": "V9tgPyA6Mnyu"
   },
   "outputs": [
    {
     "name": "stdout",
     "output_type": "stream",
     "text": [
      "Package                           Version  \r\n",
      "--------------------------------- ---------\r\n",
      "alembic                           1.5.8    \r\n",
      "altair                            4.1.0    \r\n",
      "anyio                             2.2.0    \r\n",
      "argon2-cffi                       20.1.0   \r\n",
      "asn1crypto                        0.24.0   \r\n",
      "async-generator                   1.10     \r\n",
      "attrs                             20.3.0   \r\n",
      "autopep8                          1.6.0    \r\n",
      "Babel                             2.9.0    \r\n",
      "backcall                          0.2.0    \r\n",
      "beautifulsoup4                    4.9.3    \r\n",
      "bleach                            3.3.0    \r\n",
      "bqplot                            0.12.26  \r\n",
      "branca                            0.4.2    \r\n",
      "cachetools                        4.2.2    \r\n",
      "certifi                           2020.12.5\r\n",
      "certipy                           0.1.3    \r\n",
      "cffi                              1.12.3   \r\n",
      "chardet                           3.0.4    \r\n",
      "click                             7.1.2    \r\n",
      "colour                            0.1.5    \r\n",
      "conda                             4.8.1    \r\n",
      "conda-package-handling            1.3.11   \r\n",
      "cryptography                      2.7      \r\n",
      "cycler                            0.10.0   \r\n",
      "decorator                         4.4.2    \r\n",
      "defusedxml                        0.7.1    \r\n",
      "dill                              0.3.3    \r\n",
      "earthengine-api                   0.1.263  \r\n",
      "entrypoints                       0.3      \r\n",
      "et-xmlfile                        1.0.1    \r\n",
      "ffmpeg-python                     0.2.0    \r\n",
      "folium                            0.12.1   \r\n",
      "funpymodeling                     0.1.7    \r\n",
      "future                            0.18.2   \r\n",
      "geeadd                            0.5.4    \r\n",
      "geemap                            0.8.15   \r\n",
      "geocoder                          1.38.1   \r\n",
      "gif                               3.0.0    \r\n",
      "google-api-core                   1.26.3   \r\n",
      "google-api-python-client          1.12.8   \r\n",
      "google-auth                       1.30.0   \r\n",
      "google-auth-httplib2              0.1.0    \r\n",
      "google-cloud-core                 1.6.0    \r\n",
      "google-cloud-storage              1.38.0   \r\n",
      "google-crc32c                     1.1.2    \r\n",
      "google-resumable-media            1.2.0    \r\n",
      "googleapis-common-protos          1.53.0   \r\n",
      "googledrivedownloader             0.4      \r\n",
      "greenlet                          1.0.0    \r\n",
      "httplib2                          0.19.1   \r\n",
      "httplib2shim                      0.0.3    \r\n",
      "idna                              2.8      \r\n",
      "importlib-metadata                3.10.0   \r\n",
      "ipyevents                         0.8.2    \r\n",
      "ipyfilechooser                    0.4.3    \r\n",
      "ipykernel                         5.5.3    \r\n",
      "ipyleaflet                        0.13.3   \r\n",
      "ipynb-py-convert                  0.4.6    \r\n",
      "ipython                           7.22.0   \r\n",
      "ipython-genutils                  0.2.0    \r\n",
      "ipytree                           0.2.1    \r\n",
      "ipywidgets                        7.6.3    \r\n",
      "iso3166                           2.0.2    \r\n",
      "jedi                              0.18.0   \r\n",
      "Jinja2                            2.11.3   \r\n",
      "joblib                            1.0.1    \r\n",
      "json5                             0.9.5    \r\n",
      "jsonschema                        3.2.0    \r\n",
      "jupyter                           1.0.0    \r\n",
      "jupyter-client                    6.1.12   \r\n",
      "jupyter-console                   6.4.0    \r\n",
      "jupyter-contrib-core              0.3.3    \r\n",
      "jupyter-contrib-nbextensions      0.5.1    \r\n",
      "jupyter-core                      4.7.1    \r\n",
      "jupyter-highlight-selected-word   0.2.0    \r\n",
      "jupyter-latex-envs                1.4.6    \r\n",
      "jupyter-nbextensions-configurator 0.4.1    \r\n",
      "jupyter-packaging                 0.7.12   \r\n",
      "jupyter-resource-usage            0.5.1    \r\n",
      "jupyter-server                    1.5.1    \r\n",
      "jupyter-telemetry                 0.1.0    \r\n",
      "jupyterhub                        1.2.2    \r\n",
      "jupyterlab                        3.0.12   \r\n",
      "jupyterlab-pygments               0.1.2    \r\n",
      "jupyterlab-server                 2.4.0    \r\n",
      "jupyterlab-widgets                1.0.0    \r\n",
      "kiwisolver                        1.3.1    \r\n",
      "libarchive-c                      2.8      \r\n",
      "lml                               0.1.0    \r\n",
      "logzero                           1.7.0    \r\n",
      "lux-api                           0.4.0    \r\n",
      "lux-widget                        0.1.10   \r\n",
      "lxml                              4.6.3    \r\n",
      "Mako                              1.1.4    \r\n",
      "MarkupSafe                        1.1.1    \r\n",
      "matplotlib                        3.4.1    \r\n",
      "matplotlib-venn                   0.11.6   \r\n",
      "mistune                           0.8.4    \r\n",
      "mpmath                            1.2.1    \r\n",
      "mss                               6.1.0    \r\n",
      "nbclassic                         0.2.6    \r\n",
      "nbclient                          0.5.3    \r\n",
      "nbconvert                         6.0.7    \r\n",
      "nbformat                          5.1.2    \r\n",
      "nbgitpuller                       0.9.0    \r\n",
      "nest-asyncio                      1.5.1    \r\n",
      "notebook                          6.1.5    \r\n",
      "nteract-on-jupyter                2.1.3    \r\n",
      "numpy                             1.20.2   \r\n",
      "oauthlib                          3.1.0    \r\n",
      "openpyxl                          3.0.7    \r\n",
      "packaging                         20.9     \r\n",
      "pamela                            1.0.0    \r\n",
      "pandas                            1.2.3    \r\n",
      "pandocfilters                     1.4.3    \r\n",
      "parso                             0.8.2    \r\n",
      "pexpect                           4.8.0    \r\n",
      "pickleshare                       0.7.5    \r\n",
      "Pillow                            8.2.0    \r\n",
      "pip                               19.1.1   \r\n",
      "plotly                            5.1.0    \r\n",
      "prometheus-client                 0.9.0    \r\n",
      "prompt-toolkit                    3.0.18   \r\n",
      "protobuf                          3.15.8   \r\n",
      "psutil                            5.8.0    \r\n",
      "ptyprocess                        0.7.0    \r\n",
      "pyasn1                            0.4.8    \r\n",
      "pyasn1-modules                    0.2.8    \r\n",
      "pycodestyle                       2.8.0    \r\n",
      "pycosat                           0.6.3    \r\n",
      "pycparser                         2.19     \r\n",
      "PyCRS                             1.0.2    \r\n",
      "pydecor                           2.0.1    \r\n",
      "pyexcel                           0.6.6    \r\n",
      "pyexcel-io                        0.6.4    \r\n",
      "pygal                             2.4.0    \r\n",
      "pygame                            2.0.1    \r\n",
      "pyghdl                            1.0.dev0 \r\n",
      "Pygments                          2.8.1    \r\n",
      "pyOpenSSL                         19.0.0   \r\n",
      "pyparsing                         2.4.7    \r\n",
      "pyrsistent                        0.17.3   \r\n",
      "pyshp                             2.1.3    \r\n",
      "PySocks                           1.7.0    \r\n",
      "python-box                        5.3.0    \r\n",
      "python-dateutil                   2.8.1    \r\n",
      "python-editor                     1.0.4    \r\n",
      "python-json-logger                2.0.1    \r\n",
      "pytz                              2021.1   \r\n",
      "pyVHDLModel                       0.8.0    \r\n",
      "PyYAML                            5.4.1    \r\n",
      "pyzmq                             22.0.3   \r\n",
      "qtconsole                         5.1.0    \r\n",
      "QtPy                              1.9.0    \r\n",
      "ratelim                           0.1.6    \r\n",
      "requests                          2.22.0   \r\n",
      "rise                              5.7.1    \r\n",
      "rsa                               4.7.2    \r\n",
      "ruamel-yaml                       0.15.46  \r\n",
      "ruamel.yaml                       0.17.2   \r\n",
      "ruamel.yaml.clib                  0.2.2    \r\n",
      "scikit-learn                      0.24.2   \r\n",
      "scipy                             1.6.3    \r\n",
      "seaborn                           0.10.1   \r\n",
      "Send2Trash                        1.5.0    \r\n",
      "setuptools                        41.0.1   \r\n",
      "simpy                             4.0.1    \r\n",
      "six                               1.12.0   \r\n",
      "sklearn                           0.0      \r\n",
      "sniffio                           1.2.0    \r\n",
      "soupsieve                         2.2.1    \r\n",
      "SQLAlchemy                        1.4.4    \r\n",
      "sympy                             1.8      \r\n",
      "tenacity                          8.0.1    \r\n",
      "terminado                         0.9.4    \r\n",
      "testpath                          0.4.4    \r\n",
      "texttable                         1.6.3    \r\n",
      "threadpoolctl                     2.1.0    \r\n",
      "toml                              0.10.2   \r\n",
      "toolz                             0.11.1   \r\n",
      "tornado                           6.1      \r\n",
      "tqdm                              4.32.1   \r\n",
      "traitlets                         5.0.5    \r\n",
      "traittypes                        0.2.1    \r\n",
      "typing-extensions                 3.7.4.3  \r\n",
      "uritemplate                       3.0.1    \r\n",
      "urllib3                           1.24.2   \r\n",
      "vega                              3.4.0    \r\n",
      "vincent                           0.4.4    \r\n",
      "voila                             0.2.9    \r\n",
      "wcwidth                           0.2.5    \r\n",
      "webencodings                      0.5.1    \r\n",
      "wheel                             0.33.4   \r\n",
      "whitebox                          1.4.1    \r\n",
      "whiteboxgui                       0.1.9    \r\n",
      "widgetsnbextension                3.5.1    \r\n",
      "xlrd                              2.0.1    \r\n",
      "xlutils                           2.0.0    \r\n",
      "xlwt                              1.3.0    \r\n",
      "zipp                              3.4.1    \r\n"
     ]
    }
   ],
   "source": [
    "#  paquetes se han instalado\n",
    "!pip list"
   ]
  },
  {
   "cell_type": "markdown",
   "metadata": {
    "id": "Zwp_I_elZr-5"
   },
   "source": [
    "## Obtener datos Global Weather Data for SWAT (repositorio de informacion meteorológica) 📩\n",
    "[Global Weather Data for SWAT](https://globalweather.tamu.edu/)\n",
    "\n",
    "\n",
    "<img src=\"https://tricolor-scilla-68c.notion.site/image/https%3A%2F%2Fs3-us-west-2.amazonaws.com%2Fsecure.notion-static.com%2Ff83f0d8e-b911-4e20-b7d2-07732acd305a%2FUntitled.png?table=block&id=500edae4-0d33-4373-8a8e-9f293a7b9f1e&spaceId=62aa27de-48fd-4703-8a40-2de64b627b11&width=1750&userId=&cache=v2\" width=\"500\" alt=\"Global Weather Data\">\n",
    "\n"
   ]
  },
  {
   "cell_type": "markdown",
   "metadata": {
    "id": "s8Uo2eNdQA00"
   },
   "source": [
    "### [Pandas](https://pandas.pydata.org/)\n",
    "\n",
    "<img src=\"https://tricolor-scilla-68c.notion.site/image/https%3A%2F%2Fs3-us-west-2.amazonaws.com%2Fsecure.notion-static.com%2Fdc0dd082-a3da-4d41-a435-3c36877fd4f6%2FUntitled.png?table=block&id=74c62c2e-c4c7-4cd5-831a-7ca72f759e5e&spaceId=62aa27de-48fd-4703-8a40-2de64b627b11&width=640&userId=&cache=v2\" width=\"500\" alt=\"Global Weather Data\">\n",
    "\n",
    "\n"
   ]
  },
  {
   "cell_type": "markdown",
   "metadata": {
    "id": "NSbd1D-VNNqW"
   },
   "source": [
    "Marc Garcia 🛩@datapythonista (telegram)"
   ]
  },
  {
   "cell_type": "code",
   "execution_count": 1,
   "metadata": {
    "id": "7fk8L4gUZajk"
   },
   "outputs": [],
   "source": [
    "import pandas as pd"
   ]
  },
  {
   "cell_type": "code",
   "execution_count": 2,
   "metadata": {
    "id": "Ho_l4WtTS79K"
   },
   "outputs": [
    {
     "name": "stdout",
     "output_type": "stream",
     "text": [
      "                                             Name PredominantDegree  \\\n",
      "0                        Alabama A & M University        Bachelor's   \n",
      "1             University of Alabama at Birmingham        Bachelor's   \n",
      "2             University of Alabama in Huntsville        Bachelor's   \n",
      "3                        Alabama State University        Bachelor's   \n",
      "4                       The University of Alabama        Bachelor's   \n",
      "...                                           ...               ...   \n",
      "1289        University of Connecticut-Avery Point        Bachelor's   \n",
      "1290           University of Connecticut-Stamford        Bachelor's   \n",
      "1291  California State University-Channel Islands        Bachelor's   \n",
      "1292              DigiPen Institute of Technology        Bachelor's   \n",
      "1293                           Neumont University        Bachelor's   \n",
      "\n",
      "     HighestDegree        FundingModel           Region        Geography  \\\n",
      "0         Graduate              Public        Southeast    Mid-size City   \n",
      "1         Graduate              Public        Southeast    Mid-size City   \n",
      "2         Graduate              Public        Southeast    Mid-size City   \n",
      "3         Graduate              Public        Southeast    Mid-size City   \n",
      "4         Graduate              Public        Southeast       Small City   \n",
      "...            ...                 ...              ...              ...   \n",
      "1289      Graduate              Public      New England  Mid-size Suburb   \n",
      "1290      Graduate              Public      New England    Mid-size City   \n",
      "1291      Graduate              Public         Far West  Mid-size Suburb   \n",
      "1292      Graduate  Private For-Profit         Far West       Small City   \n",
      "1293    Bachelor's  Private For-Profit  Rocky Mountains    Mid-size City   \n",
      "\n",
      "      AdmissionRate  ACTMedian  SATAverage  AverageCost  Expenditure  \\\n",
      "0            0.8989         17         823        18888         7459   \n",
      "1            0.8673         25        1146        19990        17208   \n",
      "2            0.8062         26        1180        20306         9352   \n",
      "3            0.5125         17         830        17400         7393   \n",
      "4            0.5655         26        1171        26717         9817   \n",
      "...             ...        ...         ...          ...          ...   \n",
      "1289         0.5940         24        1020        12946        11730   \n",
      "1290         0.4107         21        1017        13028         4958   \n",
      "1291         0.6443         20         954        22570        12026   \n",
      "1292         0.6635         28        1225        37848         5998   \n",
      "1293         0.7997         25        1104        37379         3298   \n",
      "\n",
      "      AverageFacultySalary  MedianDebt  AverageAgeofEntry  MedianFamilyIncome  \\\n",
      "0                     7079     19500.0          20.629999             29039.0   \n",
      "1                    10170     16250.0          22.670000             34909.0   \n",
      "2                     9341     16500.0          23.190001             39766.0   \n",
      "3                     6557     15854.5          20.889999             24029.5   \n",
      "4                     9605     17750.0          20.770000             58976.0   \n",
      "...                    ...         ...                ...                 ...   \n",
      "1289                 14803     18983.0          20.120001             86510.0   \n",
      "1290                 14803     18983.0          20.120001             86510.0   \n",
      "1291                  8434     12500.0          24.850000             32103.0   \n",
      "1292                  7659     19000.0          21.209999             68233.0   \n",
      "1293                  6991     22313.0          24.750000             39241.0   \n",
      "\n",
      "      MedianEarnings  \n",
      "0              27000  \n",
      "1              37200  \n",
      "2              41500  \n",
      "3              22400  \n",
      "4              39200  \n",
      "...              ...  \n",
      "1289           49700  \n",
      "1290           49700  \n",
      "1291           35800  \n",
      "1292           72800  \n",
      "1293           37300  \n",
      "\n",
      "[1294 rows x 16 columns]\n"
     ]
    }
   ],
   "source": [
    "#ruta = \"data/weatherdata--304-622.csv\"\n",
    "ruta = \"data/college.csv\"\n",
    "df_weather = pd.read_csv(ruta)\n",
    "print(df_weather)"
   ]
  },
  {
   "cell_type": "code",
   "execution_count": 44,
   "metadata": {
    "id": "ZEzI2K-fWEXg"
   },
   "outputs": [
    {
     "data": {
      "text/plain": [
       "(1294, 16)"
      ]
     },
     "execution_count": 44,
     "metadata": {},
     "output_type": "execute_result"
    }
   ],
   "source": [
    "# dimensiones / forma\n",
    "df_weather.shape"
   ]
  },
  {
   "cell_type": "code",
   "execution_count": 43,
   "metadata": {
    "id": "qhA5FjV1TQWN"
   },
   "outputs": [
    {
     "data": {
      "text/html": [
       "<div>\n",
       "<style scoped>\n",
       "    .dataframe tbody tr th:only-of-type {\n",
       "        vertical-align: middle;\n",
       "    }\n",
       "\n",
       "    .dataframe tbody tr th {\n",
       "        vertical-align: top;\n",
       "    }\n",
       "\n",
       "    .dataframe thead th {\n",
       "        text-align: right;\n",
       "    }\n",
       "</style>\n",
       "<table border=\"1\" class=\"dataframe\">\n",
       "  <thead>\n",
       "    <tr style=\"text-align: right;\">\n",
       "      <th></th>\n",
       "      <th>Name</th>\n",
       "      <th>PredominantDegree</th>\n",
       "      <th>HighestDegree</th>\n",
       "      <th>FundingModel</th>\n",
       "      <th>Region</th>\n",
       "      <th>Geography</th>\n",
       "      <th>AdmissionRate</th>\n",
       "      <th>ACTMedian</th>\n",
       "      <th>SATAverage</th>\n",
       "      <th>AverageCost</th>\n",
       "      <th>Expenditure</th>\n",
       "      <th>AverageFacultySalary</th>\n",
       "      <th>MedianDebt</th>\n",
       "      <th>AverageAgeofEntry</th>\n",
       "      <th>MedianFamilyIncome</th>\n",
       "      <th>MedianEarnings</th>\n",
       "    </tr>\n",
       "  </thead>\n",
       "  <tbody>\n",
       "    <tr>\n",
       "      <th>0</th>\n",
       "      <td>Alabama A &amp; M University</td>\n",
       "      <td>Bachelor's</td>\n",
       "      <td>Graduate</td>\n",
       "      <td>Public</td>\n",
       "      <td>Southeast</td>\n",
       "      <td>Mid-size City</td>\n",
       "      <td>0.8989</td>\n",
       "      <td>17</td>\n",
       "      <td>823</td>\n",
       "      <td>18888</td>\n",
       "      <td>7459</td>\n",
       "      <td>7079</td>\n",
       "      <td>19500.0</td>\n",
       "      <td>20.629999</td>\n",
       "      <td>29039.0</td>\n",
       "      <td>27000</td>\n",
       "    </tr>\n",
       "    <tr>\n",
       "      <th>1</th>\n",
       "      <td>University of Alabama at Birmingham</td>\n",
       "      <td>Bachelor's</td>\n",
       "      <td>Graduate</td>\n",
       "      <td>Public</td>\n",
       "      <td>Southeast</td>\n",
       "      <td>Mid-size City</td>\n",
       "      <td>0.8673</td>\n",
       "      <td>25</td>\n",
       "      <td>1146</td>\n",
       "      <td>19990</td>\n",
       "      <td>17208</td>\n",
       "      <td>10170</td>\n",
       "      <td>16250.0</td>\n",
       "      <td>22.670000</td>\n",
       "      <td>34909.0</td>\n",
       "      <td>37200</td>\n",
       "    </tr>\n",
       "    <tr>\n",
       "      <th>2</th>\n",
       "      <td>University of Alabama in Huntsville</td>\n",
       "      <td>Bachelor's</td>\n",
       "      <td>Graduate</td>\n",
       "      <td>Public</td>\n",
       "      <td>Southeast</td>\n",
       "      <td>Mid-size City</td>\n",
       "      <td>0.8062</td>\n",
       "      <td>26</td>\n",
       "      <td>1180</td>\n",
       "      <td>20306</td>\n",
       "      <td>9352</td>\n",
       "      <td>9341</td>\n",
       "      <td>16500.0</td>\n",
       "      <td>23.190001</td>\n",
       "      <td>39766.0</td>\n",
       "      <td>41500</td>\n",
       "    </tr>\n",
       "    <tr>\n",
       "      <th>3</th>\n",
       "      <td>Alabama State University</td>\n",
       "      <td>Bachelor's</td>\n",
       "      <td>Graduate</td>\n",
       "      <td>Public</td>\n",
       "      <td>Southeast</td>\n",
       "      <td>Mid-size City</td>\n",
       "      <td>0.5125</td>\n",
       "      <td>17</td>\n",
       "      <td>830</td>\n",
       "      <td>17400</td>\n",
       "      <td>7393</td>\n",
       "      <td>6557</td>\n",
       "      <td>15854.5</td>\n",
       "      <td>20.889999</td>\n",
       "      <td>24029.5</td>\n",
       "      <td>22400</td>\n",
       "    </tr>\n",
       "    <tr>\n",
       "      <th>4</th>\n",
       "      <td>The University of Alabama</td>\n",
       "      <td>Bachelor's</td>\n",
       "      <td>Graduate</td>\n",
       "      <td>Public</td>\n",
       "      <td>Southeast</td>\n",
       "      <td>Small City</td>\n",
       "      <td>0.5655</td>\n",
       "      <td>26</td>\n",
       "      <td>1171</td>\n",
       "      <td>26717</td>\n",
       "      <td>9817</td>\n",
       "      <td>9605</td>\n",
       "      <td>17750.0</td>\n",
       "      <td>20.770000</td>\n",
       "      <td>58976.0</td>\n",
       "      <td>39200</td>\n",
       "    </tr>\n",
       "    <tr>\n",
       "      <th>5</th>\n",
       "      <td>Auburn University at Montgomery</td>\n",
       "      <td>Bachelor's</td>\n",
       "      <td>Graduate</td>\n",
       "      <td>Public</td>\n",
       "      <td>Southeast</td>\n",
       "      <td>Mid-size City</td>\n",
       "      <td>0.8371</td>\n",
       "      <td>21</td>\n",
       "      <td>970</td>\n",
       "      <td>16556</td>\n",
       "      <td>6817</td>\n",
       "      <td>7173</td>\n",
       "      <td>10750.0</td>\n",
       "      <td>23.430000</td>\n",
       "      <td>27378.0</td>\n",
       "      <td>32400</td>\n",
       "    </tr>\n",
       "    <tr>\n",
       "      <th>6</th>\n",
       "      <td>Auburn University</td>\n",
       "      <td>Bachelor's</td>\n",
       "      <td>Graduate</td>\n",
       "      <td>Public</td>\n",
       "      <td>Southeast</td>\n",
       "      <td>Small City</td>\n",
       "      <td>0.8274</td>\n",
       "      <td>27</td>\n",
       "      <td>1215</td>\n",
       "      <td>23788</td>\n",
       "      <td>11324</td>\n",
       "      <td>9429</td>\n",
       "      <td>18250.0</td>\n",
       "      <td>20.330000</td>\n",
       "      <td>71775.5</td>\n",
       "      <td>41800</td>\n",
       "    </tr>\n",
       "    <tr>\n",
       "      <th>7</th>\n",
       "      <td>Birmingham Southern College</td>\n",
       "      <td>Bachelor's</td>\n",
       "      <td>Bachelor's</td>\n",
       "      <td>Private</td>\n",
       "      <td>Southeast</td>\n",
       "      <td>Mid-size City</td>\n",
       "      <td>0.6422</td>\n",
       "      <td>26</td>\n",
       "      <td>1177</td>\n",
       "      <td>44512</td>\n",
       "      <td>9990</td>\n",
       "      <td>7513</td>\n",
       "      <td>21500.0</td>\n",
       "      <td>19.620001</td>\n",
       "      <td>89942.5</td>\n",
       "      <td>38200</td>\n",
       "    </tr>\n",
       "    <tr>\n",
       "      <th>8</th>\n",
       "      <td>Huntingdon College</td>\n",
       "      <td>Bachelor's</td>\n",
       "      <td>Bachelor's</td>\n",
       "      <td>Private</td>\n",
       "      <td>Southeast</td>\n",
       "      <td>Mid-size City</td>\n",
       "      <td>0.6279</td>\n",
       "      <td>22</td>\n",
       "      <td>999</td>\n",
       "      <td>31433</td>\n",
       "      <td>6571</td>\n",
       "      <td>6027</td>\n",
       "      <td>16850.0</td>\n",
       "      <td>22.910000</td>\n",
       "      <td>54275.5</td>\n",
       "      <td>33000</td>\n",
       "    </tr>\n",
       "    <tr>\n",
       "      <th>9</th>\n",
       "      <td>Jacksonville State University</td>\n",
       "      <td>Bachelor's</td>\n",
       "      <td>Graduate</td>\n",
       "      <td>Public</td>\n",
       "      <td>Southeast</td>\n",
       "      <td>Small City</td>\n",
       "      <td>0.8326</td>\n",
       "      <td>23</td>\n",
       "      <td>1036</td>\n",
       "      <td>19202</td>\n",
       "      <td>6949</td>\n",
       "      <td>6857</td>\n",
       "      <td>16500.0</td>\n",
       "      <td>22.820000</td>\n",
       "      <td>35158.0</td>\n",
       "      <td>31300</td>\n",
       "    </tr>\n",
       "  </tbody>\n",
       "</table>\n",
       "</div>"
      ],
      "text/plain": [
       "                                  Name PredominantDegree HighestDegree  \\\n",
       "0             Alabama A & M University        Bachelor's      Graduate   \n",
       "1  University of Alabama at Birmingham        Bachelor's      Graduate   \n",
       "2  University of Alabama in Huntsville        Bachelor's      Graduate   \n",
       "3             Alabama State University        Bachelor's      Graduate   \n",
       "4            The University of Alabama        Bachelor's      Graduate   \n",
       "5      Auburn University at Montgomery        Bachelor's      Graduate   \n",
       "6                    Auburn University        Bachelor's      Graduate   \n",
       "7          Birmingham Southern College        Bachelor's    Bachelor's   \n",
       "8                   Huntingdon College        Bachelor's    Bachelor's   \n",
       "9        Jacksonville State University        Bachelor's      Graduate   \n",
       "\n",
       "  FundingModel     Region      Geography  AdmissionRate  ACTMedian  \\\n",
       "0       Public  Southeast  Mid-size City         0.8989         17   \n",
       "1       Public  Southeast  Mid-size City         0.8673         25   \n",
       "2       Public  Southeast  Mid-size City         0.8062         26   \n",
       "3       Public  Southeast  Mid-size City         0.5125         17   \n",
       "4       Public  Southeast     Small City         0.5655         26   \n",
       "5       Public  Southeast  Mid-size City         0.8371         21   \n",
       "6       Public  Southeast     Small City         0.8274         27   \n",
       "7      Private  Southeast  Mid-size City         0.6422         26   \n",
       "8      Private  Southeast  Mid-size City         0.6279         22   \n",
       "9       Public  Southeast     Small City         0.8326         23   \n",
       "\n",
       "   SATAverage  AverageCost  Expenditure  AverageFacultySalary  MedianDebt  \\\n",
       "0         823        18888         7459                  7079     19500.0   \n",
       "1        1146        19990        17208                 10170     16250.0   \n",
       "2        1180        20306         9352                  9341     16500.0   \n",
       "3         830        17400         7393                  6557     15854.5   \n",
       "4        1171        26717         9817                  9605     17750.0   \n",
       "5         970        16556         6817                  7173     10750.0   \n",
       "6        1215        23788        11324                  9429     18250.0   \n",
       "7        1177        44512         9990                  7513     21500.0   \n",
       "8         999        31433         6571                  6027     16850.0   \n",
       "9        1036        19202         6949                  6857     16500.0   \n",
       "\n",
       "   AverageAgeofEntry  MedianFamilyIncome  MedianEarnings  \n",
       "0          20.629999             29039.0           27000  \n",
       "1          22.670000             34909.0           37200  \n",
       "2          23.190001             39766.0           41500  \n",
       "3          20.889999             24029.5           22400  \n",
       "4          20.770000             58976.0           39200  \n",
       "5          23.430000             27378.0           32400  \n",
       "6          20.330000             71775.5           41800  \n",
       "7          19.620001             89942.5           38200  \n",
       "8          22.910000             54275.5           33000  \n",
       "9          22.820000             35158.0           31300  "
      ]
     },
     "execution_count": 43,
     "metadata": {},
     "output_type": "execute_result"
    }
   ],
   "source": [
    "#primeros valores\n",
    "df_weather.head(10)"
   ]
  },
  {
   "cell_type": "code",
   "execution_count": 7,
   "metadata": {
    "id": "KXBPQsC1T7xu"
   },
   "outputs": [
    {
     "data": {
      "text/html": [
       "<div>\n",
       "<style scoped>\n",
       "    .dataframe tbody tr th:only-of-type {\n",
       "        vertical-align: middle;\n",
       "    }\n",
       "\n",
       "    .dataframe tbody tr th {\n",
       "        vertical-align: top;\n",
       "    }\n",
       "\n",
       "    .dataframe thead th {\n",
       "        text-align: right;\n",
       "    }\n",
       "</style>\n",
       "<table border=\"1\" class=\"dataframe\">\n",
       "  <thead>\n",
       "    <tr style=\"text-align: right;\">\n",
       "      <th></th>\n",
       "      <th>Date</th>\n",
       "      <th>Longitude</th>\n",
       "      <th>Latitude</th>\n",
       "      <th>Elevation</th>\n",
       "      <th>Max Temperature</th>\n",
       "      <th>Min Temperature</th>\n",
       "      <th>Precipitation</th>\n",
       "      <th>Wind</th>\n",
       "      <th>Relative Humidity</th>\n",
       "      <th>Solar</th>\n",
       "      <th>Unnamed: 10</th>\n",
       "    </tr>\n",
       "  </thead>\n",
       "  <tbody>\n",
       "    <tr>\n",
       "      <th>12982</th>\n",
       "      <td>7/27/2014</td>\n",
       "      <td>-62.1875</td>\n",
       "      <td>-30.442301</td>\n",
       "      <td>75</td>\n",
       "      <td>15.938</td>\n",
       "      <td>5.081</td>\n",
       "      <td>0.000000</td>\n",
       "      <td>2.627763</td>\n",
       "      <td>0.639303</td>\n",
       "      <td>13.388504</td>\n",
       "      <td>NaN</td>\n",
       "    </tr>\n",
       "    <tr>\n",
       "      <th>12983</th>\n",
       "      <td>7/28/2014</td>\n",
       "      <td>-62.1875</td>\n",
       "      <td>-30.442301</td>\n",
       "      <td>75</td>\n",
       "      <td>20.470</td>\n",
       "      <td>6.121</td>\n",
       "      <td>0.000000</td>\n",
       "      <td>3.853856</td>\n",
       "      <td>0.698549</td>\n",
       "      <td>15.112251</td>\n",
       "      <td>NaN</td>\n",
       "    </tr>\n",
       "    <tr>\n",
       "      <th>12984</th>\n",
       "      <td>7/29/2014</td>\n",
       "      <td>-62.1875</td>\n",
       "      <td>-30.442301</td>\n",
       "      <td>75</td>\n",
       "      <td>22.072</td>\n",
       "      <td>12.764</td>\n",
       "      <td>0.209427</td>\n",
       "      <td>2.890072</td>\n",
       "      <td>0.785835</td>\n",
       "      <td>6.979922</td>\n",
       "      <td>NaN</td>\n",
       "    </tr>\n",
       "    <tr>\n",
       "      <th>12985</th>\n",
       "      <td>7/30/2014</td>\n",
       "      <td>-62.1875</td>\n",
       "      <td>-30.442301</td>\n",
       "      <td>75</td>\n",
       "      <td>18.200</td>\n",
       "      <td>15.068</td>\n",
       "      <td>2.204133</td>\n",
       "      <td>2.457414</td>\n",
       "      <td>0.827991</td>\n",
       "      <td>1.954017</td>\n",
       "      <td>NaN</td>\n",
       "    </tr>\n",
       "    <tr>\n",
       "      <th>12986</th>\n",
       "      <td>7/31/2014</td>\n",
       "      <td>-62.1875</td>\n",
       "      <td>-30.442301</td>\n",
       "      <td>75</td>\n",
       "      <td>22.298</td>\n",
       "      <td>15.538</td>\n",
       "      <td>1.692579</td>\n",
       "      <td>1.438762</td>\n",
       "      <td>0.841980</td>\n",
       "      <td>8.233861</td>\n",
       "      <td>NaN</td>\n",
       "    </tr>\n",
       "  </tbody>\n",
       "</table>\n",
       "</div>"
      ],
      "text/plain": [
       "            Date  Longitude   Latitude  Elevation  Max Temperature  \\\n",
       "12982  7/27/2014   -62.1875 -30.442301         75           15.938   \n",
       "12983  7/28/2014   -62.1875 -30.442301         75           20.470   \n",
       "12984  7/29/2014   -62.1875 -30.442301         75           22.072   \n",
       "12985  7/30/2014   -62.1875 -30.442301         75           18.200   \n",
       "12986  7/31/2014   -62.1875 -30.442301         75           22.298   \n",
       "\n",
       "       Min Temperature  Precipitation      Wind  Relative Humidity      Solar  \\\n",
       "12982            5.081       0.000000  2.627763           0.639303  13.388504   \n",
       "12983            6.121       0.000000  3.853856           0.698549  15.112251   \n",
       "12984           12.764       0.209427  2.890072           0.785835   6.979922   \n",
       "12985           15.068       2.204133  2.457414           0.827991   1.954017   \n",
       "12986           15.538       1.692579  1.438762           0.841980   8.233861   \n",
       "\n",
       "       Unnamed: 10  \n",
       "12982          NaN  \n",
       "12983          NaN  \n",
       "12984          NaN  \n",
       "12985          NaN  \n",
       "12986          NaN  "
      ]
     },
     "execution_count": 7,
     "metadata": {},
     "output_type": "execute_result"
    }
   ],
   "source": [
    "#últimos valores\n",
    "df_weather.tail(5)"
   ]
  },
  {
   "cell_type": "code",
   "execution_count": 45,
   "metadata": {
    "id": "DLuZhqQ7Vo4w"
   },
   "outputs": [
    {
     "name": "stdout",
     "output_type": "stream",
     "text": [
      "['Name' 'PredominantDegree' 'HighestDegree' 'FundingModel' 'Region'\n",
      " 'Geography' 'AdmissionRate' 'ACTMedian' 'SATAverage' 'AverageCost'\n",
      " 'Expenditure' 'AverageFacultySalary' 'MedianDebt' 'AverageAgeofEntry'\n",
      " 'MedianFamilyIncome' 'MedianEarnings']\n"
     ]
    }
   ],
   "source": [
    "# nombres de las columnas\n",
    "print(df_weather.columns.values)"
   ]
  },
  {
   "cell_type": "code",
   "execution_count": 9,
   "metadata": {
    "id": "ZQ26jOlyZKnK"
   },
   "outputs": [],
   "source": [
    "#borramos una columna en particular\n",
    "del df_weather['Unnamed: 10']"
   ]
  },
  {
   "cell_type": "code",
   "execution_count": 10,
   "metadata": {
    "id": "s4RTLMVsZgGr"
   },
   "outputs": [
    {
     "data": {
      "text/html": [
       "<div>\n",
       "<style scoped>\n",
       "    .dataframe tbody tr th:only-of-type {\n",
       "        vertical-align: middle;\n",
       "    }\n",
       "\n",
       "    .dataframe tbody tr th {\n",
       "        vertical-align: top;\n",
       "    }\n",
       "\n",
       "    .dataframe thead th {\n",
       "        text-align: right;\n",
       "    }\n",
       "</style>\n",
       "<table border=\"1\" class=\"dataframe\">\n",
       "  <thead>\n",
       "    <tr style=\"text-align: right;\">\n",
       "      <th></th>\n",
       "      <th>Date</th>\n",
       "      <th>Longitude</th>\n",
       "      <th>Latitude</th>\n",
       "      <th>Elevation</th>\n",
       "      <th>Max Temperature</th>\n",
       "      <th>Min Temperature</th>\n",
       "      <th>Precipitation</th>\n",
       "      <th>Wind</th>\n",
       "      <th>Relative Humidity</th>\n",
       "      <th>Solar</th>\n",
       "    </tr>\n",
       "  </thead>\n",
       "  <tbody>\n",
       "    <tr>\n",
       "      <th>0</th>\n",
       "      <td>1/1/1979</td>\n",
       "      <td>-62.1875</td>\n",
       "      <td>-30.442301</td>\n",
       "      <td>75</td>\n",
       "      <td>34.968</td>\n",
       "      <td>18.019</td>\n",
       "      <td>0.346756</td>\n",
       "      <td>3.459731</td>\n",
       "      <td>0.539945</td>\n",
       "      <td>32.456311</td>\n",
       "    </tr>\n",
       "    <tr>\n",
       "      <th>1</th>\n",
       "      <td>1/2/1979</td>\n",
       "      <td>-62.1875</td>\n",
       "      <td>-30.442301</td>\n",
       "      <td>75</td>\n",
       "      <td>32.055</td>\n",
       "      <td>21.653</td>\n",
       "      <td>10.099693</td>\n",
       "      <td>3.182952</td>\n",
       "      <td>0.810696</td>\n",
       "      <td>20.985752</td>\n",
       "    </tr>\n",
       "    <tr>\n",
       "      <th>2</th>\n",
       "      <td>1/3/1979</td>\n",
       "      <td>-62.1875</td>\n",
       "      <td>-30.442301</td>\n",
       "      <td>75</td>\n",
       "      <td>32.643</td>\n",
       "      <td>19.994</td>\n",
       "      <td>0.000000</td>\n",
       "      <td>3.529763</td>\n",
       "      <td>0.638956</td>\n",
       "      <td>28.406983</td>\n",
       "    </tr>\n",
       "    <tr>\n",
       "      <th>3</th>\n",
       "      <td>1/4/1979</td>\n",
       "      <td>-62.1875</td>\n",
       "      <td>-30.442301</td>\n",
       "      <td>75</td>\n",
       "      <td>33.438</td>\n",
       "      <td>19.572</td>\n",
       "      <td>0.000000</td>\n",
       "      <td>3.430782</td>\n",
       "      <td>0.480420</td>\n",
       "      <td>30.222842</td>\n",
       "    </tr>\n",
       "    <tr>\n",
       "      <th>4</th>\n",
       "      <td>1/5/1979</td>\n",
       "      <td>-62.1875</td>\n",
       "      <td>-30.442301</td>\n",
       "      <td>75</td>\n",
       "      <td>35.729</td>\n",
       "      <td>20.306</td>\n",
       "      <td>0.000000</td>\n",
       "      <td>3.149614</td>\n",
       "      <td>0.445070</td>\n",
       "      <td>30.734881</td>\n",
       "    </tr>\n",
       "    <tr>\n",
       "      <th>...</th>\n",
       "      <td>...</td>\n",
       "      <td>...</td>\n",
       "      <td>...</td>\n",
       "      <td>...</td>\n",
       "      <td>...</td>\n",
       "      <td>...</td>\n",
       "      <td>...</td>\n",
       "      <td>...</td>\n",
       "      <td>...</td>\n",
       "      <td>...</td>\n",
       "    </tr>\n",
       "    <tr>\n",
       "      <th>12982</th>\n",
       "      <td>7/27/2014</td>\n",
       "      <td>-62.1875</td>\n",
       "      <td>-30.442301</td>\n",
       "      <td>75</td>\n",
       "      <td>15.938</td>\n",
       "      <td>5.081</td>\n",
       "      <td>0.000000</td>\n",
       "      <td>2.627763</td>\n",
       "      <td>0.639303</td>\n",
       "      <td>13.388504</td>\n",
       "    </tr>\n",
       "    <tr>\n",
       "      <th>12983</th>\n",
       "      <td>7/28/2014</td>\n",
       "      <td>-62.1875</td>\n",
       "      <td>-30.442301</td>\n",
       "      <td>75</td>\n",
       "      <td>20.470</td>\n",
       "      <td>6.121</td>\n",
       "      <td>0.000000</td>\n",
       "      <td>3.853856</td>\n",
       "      <td>0.698549</td>\n",
       "      <td>15.112251</td>\n",
       "    </tr>\n",
       "    <tr>\n",
       "      <th>12984</th>\n",
       "      <td>7/29/2014</td>\n",
       "      <td>-62.1875</td>\n",
       "      <td>-30.442301</td>\n",
       "      <td>75</td>\n",
       "      <td>22.072</td>\n",
       "      <td>12.764</td>\n",
       "      <td>0.209427</td>\n",
       "      <td>2.890072</td>\n",
       "      <td>0.785835</td>\n",
       "      <td>6.979922</td>\n",
       "    </tr>\n",
       "    <tr>\n",
       "      <th>12985</th>\n",
       "      <td>7/30/2014</td>\n",
       "      <td>-62.1875</td>\n",
       "      <td>-30.442301</td>\n",
       "      <td>75</td>\n",
       "      <td>18.200</td>\n",
       "      <td>15.068</td>\n",
       "      <td>2.204133</td>\n",
       "      <td>2.457414</td>\n",
       "      <td>0.827991</td>\n",
       "      <td>1.954017</td>\n",
       "    </tr>\n",
       "    <tr>\n",
       "      <th>12986</th>\n",
       "      <td>7/31/2014</td>\n",
       "      <td>-62.1875</td>\n",
       "      <td>-30.442301</td>\n",
       "      <td>75</td>\n",
       "      <td>22.298</td>\n",
       "      <td>15.538</td>\n",
       "      <td>1.692579</td>\n",
       "      <td>1.438762</td>\n",
       "      <td>0.841980</td>\n",
       "      <td>8.233861</td>\n",
       "    </tr>\n",
       "  </tbody>\n",
       "</table>\n",
       "<p>12987 rows × 10 columns</p>\n",
       "</div>"
      ],
      "text/plain": [
       "            Date  Longitude   Latitude  Elevation  Max Temperature  \\\n",
       "0       1/1/1979   -62.1875 -30.442301         75           34.968   \n",
       "1       1/2/1979   -62.1875 -30.442301         75           32.055   \n",
       "2       1/3/1979   -62.1875 -30.442301         75           32.643   \n",
       "3       1/4/1979   -62.1875 -30.442301         75           33.438   \n",
       "4       1/5/1979   -62.1875 -30.442301         75           35.729   \n",
       "...          ...        ...        ...        ...              ...   \n",
       "12982  7/27/2014   -62.1875 -30.442301         75           15.938   \n",
       "12983  7/28/2014   -62.1875 -30.442301         75           20.470   \n",
       "12984  7/29/2014   -62.1875 -30.442301         75           22.072   \n",
       "12985  7/30/2014   -62.1875 -30.442301         75           18.200   \n",
       "12986  7/31/2014   -62.1875 -30.442301         75           22.298   \n",
       "\n",
       "       Min Temperature  Precipitation      Wind  Relative Humidity      Solar  \n",
       "0               18.019       0.346756  3.459731           0.539945  32.456311  \n",
       "1               21.653      10.099693  3.182952           0.810696  20.985752  \n",
       "2               19.994       0.000000  3.529763           0.638956  28.406983  \n",
       "3               19.572       0.000000  3.430782           0.480420  30.222842  \n",
       "4               20.306       0.000000  3.149614           0.445070  30.734881  \n",
       "...                ...            ...       ...                ...        ...  \n",
       "12982            5.081       0.000000  2.627763           0.639303  13.388504  \n",
       "12983            6.121       0.000000  3.853856           0.698549  15.112251  \n",
       "12984           12.764       0.209427  2.890072           0.785835   6.979922  \n",
       "12985           15.068       2.204133  2.457414           0.827991   1.954017  \n",
       "12986           15.538       1.692579  1.438762           0.841980   8.233861  \n",
       "\n",
       "[12987 rows x 10 columns]"
      ]
     },
     "execution_count": 10,
     "metadata": {},
     "output_type": "execute_result"
    }
   ],
   "source": [
    "df_weather"
   ]
  },
  {
   "cell_type": "code",
   "execution_count": null,
   "metadata": {
    "id": "4eLezeb7aT0Z"
   },
   "outputs": [],
   "source": [
    "### Veamos Longitude, Latitude, Elevation"
   ]
  },
  {
   "cell_type": "code",
   "execution_count": 11,
   "metadata": {
    "id": "8SiV0TEdZpVZ"
   },
   "outputs": [
    {
     "data": {
      "text/plain": [
       "<AxesSubplot:>"
      ]
     },
     "execution_count": 11,
     "metadata": {},
     "output_type": "execute_result"
    },
    {
     "data": {
      "image/png": "[encoded data removed]",
      "text/plain": [
       "<Figure size 432x288 with 1 Axes>"
      ]
     },
     "metadata": {
      "needs_background": "light"
     },
     "output_type": "display_data"
    }
   ],
   "source": [
    "df_weather['Longitude'].plot()"
   ]
  },
  {
   "cell_type": "code",
   "execution_count": 12,
   "metadata": {
    "id": "w2DIIe5JareG"
   },
   "outputs": [
    {
     "data": {
      "text/plain": [
       "array([-62.1875])"
      ]
     },
     "execution_count": 12,
     "metadata": {},
     "output_type": "execute_result"
    }
   ],
   "source": [
    "df_weather['Longitude'].unique()"
   ]
  },
  {
   "cell_type": "code",
   "execution_count": 13,
   "metadata": {
    "id": "EC3Zn5Eea1_6"
   },
   "outputs": [
    {
     "name": "stdout",
     "output_type": "stream",
     "text": [
      "[-30.4423008]\n"
     ]
    },
    {
     "data": {
      "text/plain": [
       "<AxesSubplot:>"
      ]
     },
     "execution_count": 13,
     "metadata": {},
     "output_type": "execute_result"
    },
    {
     "data": {
      "image/png": "[encoded data removed]",
      "text/plain": [
       "<Figure size 432x288 with 1 Axes>"
      ]
     },
     "metadata": {
      "needs_background": "light"
     },
     "output_type": "display_data"
    }
   ],
   "source": [
    "print(df_weather['Latitude'].unique())\n",
    "df_weather['Latitude'].plot()"
   ]
  },
  {
   "cell_type": "code",
   "execution_count": 14,
   "metadata": {
    "id": "8GhrTUfLa_EI"
   },
   "outputs": [
    {
     "name": "stdout",
     "output_type": "stream",
     "text": [
      "[75]\n"
     ]
    },
    {
     "data": {
      "text/plain": [
       "<AxesSubplot:>"
      ]
     },
     "execution_count": 14,
     "metadata": {},
     "output_type": "execute_result"
    },
    {
     "data": {
      "image/png": "[encoded data removed]",
      "text/plain": [
       "<Figure size 432x288 with 1 Axes>"
      ]
     },
     "metadata": {
      "needs_background": "light"
     },
     "output_type": "display_data"
    }
   ],
   "source": [
    "print(df_weather['Elevation'].unique())\n",
    "df_weather['Elevation'].plot()"
   ]
  },
  {
   "cell_type": "code",
   "execution_count": 15,
   "metadata": {},
   "outputs": [
    {
     "data": {
      "text/html": [
       "<div>\n",
       "<style scoped>\n",
       "    .dataframe tbody tr th:only-of-type {\n",
       "        vertical-align: middle;\n",
       "    }\n",
       "\n",
       "    .dataframe tbody tr th {\n",
       "        vertical-align: top;\n",
       "    }\n",
       "\n",
       "    .dataframe thead th {\n",
       "        text-align: right;\n",
       "    }\n",
       "</style>\n",
       "<table border=\"1\" class=\"dataframe\">\n",
       "  <thead>\n",
       "    <tr style=\"text-align: right;\">\n",
       "      <th></th>\n",
       "      <th>Date</th>\n",
       "      <th>Longitude</th>\n",
       "      <th>Latitude</th>\n",
       "      <th>Elevation</th>\n",
       "      <th>Max Temperature</th>\n",
       "      <th>Min Temperature</th>\n",
       "      <th>Precipitation</th>\n",
       "      <th>Wind</th>\n",
       "      <th>Relative Humidity</th>\n",
       "      <th>Solar</th>\n",
       "    </tr>\n",
       "  </thead>\n",
       "  <tbody>\n",
       "    <tr>\n",
       "      <th>0</th>\n",
       "      <td>1/1/1979</td>\n",
       "      <td>-62.1875</td>\n",
       "      <td>-30.442301</td>\n",
       "      <td>75</td>\n",
       "      <td>34.968</td>\n",
       "      <td>18.019</td>\n",
       "      <td>0.346756</td>\n",
       "      <td>3.459731</td>\n",
       "      <td>0.539945</td>\n",
       "      <td>32.456311</td>\n",
       "    </tr>\n",
       "    <tr>\n",
       "      <th>1</th>\n",
       "      <td>1/2/1979</td>\n",
       "      <td>-62.1875</td>\n",
       "      <td>-30.442301</td>\n",
       "      <td>75</td>\n",
       "      <td>32.055</td>\n",
       "      <td>21.653</td>\n",
       "      <td>10.099693</td>\n",
       "      <td>3.182952</td>\n",
       "      <td>0.810696</td>\n",
       "      <td>20.985752</td>\n",
       "    </tr>\n",
       "    <tr>\n",
       "      <th>2</th>\n",
       "      <td>1/3/1979</td>\n",
       "      <td>-62.1875</td>\n",
       "      <td>-30.442301</td>\n",
       "      <td>75</td>\n",
       "      <td>32.643</td>\n",
       "      <td>19.994</td>\n",
       "      <td>0.000000</td>\n",
       "      <td>3.529763</td>\n",
       "      <td>0.638956</td>\n",
       "      <td>28.406983</td>\n",
       "    </tr>\n",
       "    <tr>\n",
       "      <th>3</th>\n",
       "      <td>1/4/1979</td>\n",
       "      <td>-62.1875</td>\n",
       "      <td>-30.442301</td>\n",
       "      <td>75</td>\n",
       "      <td>33.438</td>\n",
       "      <td>19.572</td>\n",
       "      <td>0.000000</td>\n",
       "      <td>3.430782</td>\n",
       "      <td>0.480420</td>\n",
       "      <td>30.222842</td>\n",
       "    </tr>\n",
       "    <tr>\n",
       "      <th>4</th>\n",
       "      <td>1/5/1979</td>\n",
       "      <td>-62.1875</td>\n",
       "      <td>-30.442301</td>\n",
       "      <td>75</td>\n",
       "      <td>35.729</td>\n",
       "      <td>20.306</td>\n",
       "      <td>0.000000</td>\n",
       "      <td>3.149614</td>\n",
       "      <td>0.445070</td>\n",
       "      <td>30.734881</td>\n",
       "    </tr>\n",
       "    <tr>\n",
       "      <th>...</th>\n",
       "      <td>...</td>\n",
       "      <td>...</td>\n",
       "      <td>...</td>\n",
       "      <td>...</td>\n",
       "      <td>...</td>\n",
       "      <td>...</td>\n",
       "      <td>...</td>\n",
       "      <td>...</td>\n",
       "      <td>...</td>\n",
       "      <td>...</td>\n",
       "    </tr>\n",
       "    <tr>\n",
       "      <th>12982</th>\n",
       "      <td>7/27/2014</td>\n",
       "      <td>-62.1875</td>\n",
       "      <td>-30.442301</td>\n",
       "      <td>75</td>\n",
       "      <td>15.938</td>\n",
       "      <td>5.081</td>\n",
       "      <td>0.000000</td>\n",
       "      <td>2.627763</td>\n",
       "      <td>0.639303</td>\n",
       "      <td>13.388504</td>\n",
       "    </tr>\n",
       "    <tr>\n",
       "      <th>12983</th>\n",
       "      <td>7/28/2014</td>\n",
       "      <td>-62.1875</td>\n",
       "      <td>-30.442301</td>\n",
       "      <td>75</td>\n",
       "      <td>20.470</td>\n",
       "      <td>6.121</td>\n",
       "      <td>0.000000</td>\n",
       "      <td>3.853856</td>\n",
       "      <td>0.698549</td>\n",
       "      <td>15.112251</td>\n",
       "    </tr>\n",
       "    <tr>\n",
       "      <th>12984</th>\n",
       "      <td>7/29/2014</td>\n",
       "      <td>-62.1875</td>\n",
       "      <td>-30.442301</td>\n",
       "      <td>75</td>\n",
       "      <td>22.072</td>\n",
       "      <td>12.764</td>\n",
       "      <td>0.209427</td>\n",
       "      <td>2.890072</td>\n",
       "      <td>0.785835</td>\n",
       "      <td>6.979922</td>\n",
       "    </tr>\n",
       "    <tr>\n",
       "      <th>12985</th>\n",
       "      <td>7/30/2014</td>\n",
       "      <td>-62.1875</td>\n",
       "      <td>-30.442301</td>\n",
       "      <td>75</td>\n",
       "      <td>18.200</td>\n",
       "      <td>15.068</td>\n",
       "      <td>2.204133</td>\n",
       "      <td>2.457414</td>\n",
       "      <td>0.827991</td>\n",
       "      <td>1.954017</td>\n",
       "    </tr>\n",
       "    <tr>\n",
       "      <th>12986</th>\n",
       "      <td>7/31/2014</td>\n",
       "      <td>-62.1875</td>\n",
       "      <td>-30.442301</td>\n",
       "      <td>75</td>\n",
       "      <td>22.298</td>\n",
       "      <td>15.538</td>\n",
       "      <td>1.692579</td>\n",
       "      <td>1.438762</td>\n",
       "      <td>0.841980</td>\n",
       "      <td>8.233861</td>\n",
       "    </tr>\n",
       "  </tbody>\n",
       "</table>\n",
       "<p>12987 rows × 10 columns</p>\n",
       "</div>"
      ],
      "text/plain": [
       "            Date  Longitude   Latitude  Elevation  Max Temperature  \\\n",
       "0       1/1/1979   -62.1875 -30.442301         75           34.968   \n",
       "1       1/2/1979   -62.1875 -30.442301         75           32.055   \n",
       "2       1/3/1979   -62.1875 -30.442301         75           32.643   \n",
       "3       1/4/1979   -62.1875 -30.442301         75           33.438   \n",
       "4       1/5/1979   -62.1875 -30.442301         75           35.729   \n",
       "...          ...        ...        ...        ...              ...   \n",
       "12982  7/27/2014   -62.1875 -30.442301         75           15.938   \n",
       "12983  7/28/2014   -62.1875 -30.442301         75           20.470   \n",
       "12984  7/29/2014   -62.1875 -30.442301         75           22.072   \n",
       "12985  7/30/2014   -62.1875 -30.442301         75           18.200   \n",
       "12986  7/31/2014   -62.1875 -30.442301         75           22.298   \n",
       "\n",
       "       Min Temperature  Precipitation      Wind  Relative Humidity      Solar  \n",
       "0               18.019       0.346756  3.459731           0.539945  32.456311  \n",
       "1               21.653      10.099693  3.182952           0.810696  20.985752  \n",
       "2               19.994       0.000000  3.529763           0.638956  28.406983  \n",
       "3               19.572       0.000000  3.430782           0.480420  30.222842  \n",
       "4               20.306       0.000000  3.149614           0.445070  30.734881  \n",
       "...                ...            ...       ...                ...        ...  \n",
       "12982            5.081       0.000000  2.627763           0.639303  13.388504  \n",
       "12983            6.121       0.000000  3.853856           0.698549  15.112251  \n",
       "12984           12.764       0.209427  2.890072           0.785835   6.979922  \n",
       "12985           15.068       2.204133  2.457414           0.827991   1.954017  \n",
       "12986           15.538       1.692579  1.438762           0.841980   8.233861  \n",
       "\n",
       "[12987 rows x 10 columns]"
      ]
     },
     "execution_count": 15,
     "metadata": {},
     "output_type": "execute_result"
    }
   ],
   "source": [
    "df_weather"
   ]
  },
  {
   "cell_type": "markdown",
   "metadata": {
    "id": "ETjexYLEbMZa"
   },
   "source": [
    "\n",
    "**Longitude** -30.442301  **Latitude** 75  **Elevation** 34.968"
   ]
  },
  {
   "cell_type": "code",
   "execution_count": 16,
   "metadata": {
    "id": "w5jM_G7obcyG"
   },
   "outputs": [],
   "source": [
    "#borramos varias columnas Longitude, Latitude, Elevation\n",
    "       \n",
    "df_weather = df_weather.drop(columns =['Longitude', 'Latitude', 'Elevation'])\n",
    "\n",
    "# en caso de tener muchas columnas que borrar... => solo nos quedamos con \n",
    "# aquellas columnas de nuestro interés\n",
    "\n"
   ]
  },
  {
   "cell_type": "code",
   "execution_count": 17,
   "metadata": {
    "id": "CFgNalGUdVyI"
   },
   "outputs": [
    {
     "data": {
      "text/html": [
       "<div>\n",
       "<style scoped>\n",
       "    .dataframe tbody tr th:only-of-type {\n",
       "        vertical-align: middle;\n",
       "    }\n",
       "\n",
       "    .dataframe tbody tr th {\n",
       "        vertical-align: top;\n",
       "    }\n",
       "\n",
       "    .dataframe thead th {\n",
       "        text-align: right;\n",
       "    }\n",
       "</style>\n",
       "<table border=\"1\" class=\"dataframe\">\n",
       "  <thead>\n",
       "    <tr style=\"text-align: right;\">\n",
       "      <th></th>\n",
       "      <th>Date</th>\n",
       "      <th>Max Temperature</th>\n",
       "      <th>Min Temperature</th>\n",
       "      <th>Precipitation</th>\n",
       "      <th>Wind</th>\n",
       "      <th>Relative Humidity</th>\n",
       "      <th>Solar</th>\n",
       "    </tr>\n",
       "  </thead>\n",
       "  <tbody>\n",
       "    <tr>\n",
       "      <th>0</th>\n",
       "      <td>1/1/1979</td>\n",
       "      <td>34.968</td>\n",
       "      <td>18.019</td>\n",
       "      <td>0.346756</td>\n",
       "      <td>3.459731</td>\n",
       "      <td>0.539945</td>\n",
       "      <td>32.456311</td>\n",
       "    </tr>\n",
       "    <tr>\n",
       "      <th>1</th>\n",
       "      <td>1/2/1979</td>\n",
       "      <td>32.055</td>\n",
       "      <td>21.653</td>\n",
       "      <td>10.099693</td>\n",
       "      <td>3.182952</td>\n",
       "      <td>0.810696</td>\n",
       "      <td>20.985752</td>\n",
       "    </tr>\n",
       "    <tr>\n",
       "      <th>2</th>\n",
       "      <td>1/3/1979</td>\n",
       "      <td>32.643</td>\n",
       "      <td>19.994</td>\n",
       "      <td>0.000000</td>\n",
       "      <td>3.529763</td>\n",
       "      <td>0.638956</td>\n",
       "      <td>28.406983</td>\n",
       "    </tr>\n",
       "    <tr>\n",
       "      <th>3</th>\n",
       "      <td>1/4/1979</td>\n",
       "      <td>33.438</td>\n",
       "      <td>19.572</td>\n",
       "      <td>0.000000</td>\n",
       "      <td>3.430782</td>\n",
       "      <td>0.480420</td>\n",
       "      <td>30.222842</td>\n",
       "    </tr>\n",
       "    <tr>\n",
       "      <th>4</th>\n",
       "      <td>1/5/1979</td>\n",
       "      <td>35.729</td>\n",
       "      <td>20.306</td>\n",
       "      <td>0.000000</td>\n",
       "      <td>3.149614</td>\n",
       "      <td>0.445070</td>\n",
       "      <td>30.734881</td>\n",
       "    </tr>\n",
       "  </tbody>\n",
       "</table>\n",
       "</div>"
      ],
      "text/plain": [
       "       Date  Max Temperature  Min Temperature  Precipitation      Wind  \\\n",
       "0  1/1/1979           34.968           18.019       0.346756  3.459731   \n",
       "1  1/2/1979           32.055           21.653      10.099693  3.182952   \n",
       "2  1/3/1979           32.643           19.994       0.000000  3.529763   \n",
       "3  1/4/1979           33.438           19.572       0.000000  3.430782   \n",
       "4  1/5/1979           35.729           20.306       0.000000  3.149614   \n",
       "\n",
       "   Relative Humidity      Solar  \n",
       "0           0.539945  32.456311  \n",
       "1           0.810696  20.985752  \n",
       "2           0.638956  28.406983  \n",
       "3           0.480420  30.222842  \n",
       "4           0.445070  30.734881  "
      ]
     },
     "execution_count": 17,
     "metadata": {},
     "output_type": "execute_result"
    }
   ],
   "source": [
    "df_weather.head()"
   ]
  },
  {
   "cell_type": "code",
   "execution_count": 18,
   "metadata": {
    "id": "fMhp18UldNfi"
   },
   "outputs": [
    {
     "data": {
      "text/plain": [
       "47.861"
      ]
     },
     "execution_count": 18,
     "metadata": {},
     "output_type": "execute_result"
    }
   ],
   "source": [
    "df_weather['Max Temperature'].max()"
   ]
  },
  {
   "cell_type": "code",
   "execution_count": 19,
   "metadata": {
    "id": "VVh2lvM8d-X1"
   },
   "outputs": [
    {
     "data": {
      "text/plain": [
       "4.60599999999999"
      ]
     },
     "execution_count": 19,
     "metadata": {},
     "output_type": "execute_result"
    }
   ],
   "source": [
    "df_weather['Max Temperature'].min()"
   ]
  },
  {
   "cell_type": "code",
   "execution_count": 20,
   "metadata": {
    "id": "erYO2WlZed73"
   },
   "outputs": [
    {
     "data": {
      "text/plain": [
       "9.08144966700318"
      ]
     },
     "execution_count": 20,
     "metadata": {},
     "output_type": "execute_result"
    }
   ],
   "source": [
    "df_weather['Wind'].max()"
   ]
  },
  {
   "cell_type": "code",
   "execution_count": 21,
   "metadata": {
    "id": "O_TgUmhuel9I"
   },
   "outputs": [
    {
     "data": {
      "text/plain": [
       "0.858534772820208"
      ]
     },
     "execution_count": 21,
     "metadata": {},
     "output_type": "execute_result"
    }
   ],
   "source": [
    "df_weather['Wind'].min()"
   ]
  },
  {
   "cell_type": "markdown",
   "metadata": {
    "id": "gSrOodvEffyX"
   },
   "source": [
    "### Queremos saber cuando (que fecha) fue la temperatura más elevada de 'Max Temperatura'. 🌡📆"
   ]
  },
  {
   "cell_type": "code",
   "execution_count": 26,
   "metadata": {
    "id": "Qt4EuSq4eqi5"
   },
   "outputs": [],
   "source": [
    "max_temperature_max = df_weather['Max Temperature'].max()"
   ]
  },
  {
   "cell_type": "code",
   "execution_count": 27,
   "metadata": {},
   "outputs": [
    {
     "data": {
      "text/plain": [
       "47.861"
      ]
     },
     "execution_count": 27,
     "metadata": {},
     "output_type": "execute_result"
    }
   ],
   "source": [
    "max_temperature_max"
   ]
  },
  {
   "cell_type": "code",
   "execution_count": 28,
   "metadata": {},
   "outputs": [
    {
     "data": {
      "text/plain": [
       "0        False\n",
       "1        False\n",
       "2        False\n",
       "3        False\n",
       "4        False\n",
       "         ...  \n",
       "12982    False\n",
       "12983    False\n",
       "12984    False\n",
       "12985    False\n",
       "12986    False\n",
       "Name: Max Temperature, Length: 12987, dtype: bool"
      ]
     },
     "execution_count": 28,
     "metadata": {},
     "output_type": "execute_result"
    }
   ],
   "source": [
    "df_weather['Max Temperature']== max_temperature_max"
   ]
  },
  {
   "cell_type": "code",
   "execution_count": 30,
   "metadata": {
    "id": "uSP7brkQfO7M"
   },
   "outputs": [
    {
     "data": {
      "text/html": [
       "<div>\n",
       "<style scoped>\n",
       "    .dataframe tbody tr th:only-of-type {\n",
       "        vertical-align: middle;\n",
       "    }\n",
       "\n",
       "    .dataframe tbody tr th {\n",
       "        vertical-align: top;\n",
       "    }\n",
       "\n",
       "    .dataframe thead th {\n",
       "        text-align: right;\n",
       "    }\n",
       "</style>\n",
       "<table border=\"1\" class=\"dataframe\">\n",
       "  <thead>\n",
       "    <tr style=\"text-align: right;\">\n",
       "      <th></th>\n",
       "      <th>Date</th>\n",
       "      <th>Max Temperature</th>\n",
       "      <th>Min Temperature</th>\n",
       "      <th>Precipitation</th>\n",
       "      <th>Wind</th>\n",
       "      <th>Relative Humidity</th>\n",
       "      <th>Solar</th>\n",
       "    </tr>\n",
       "  </thead>\n",
       "  <tbody>\n",
       "    <tr>\n",
       "      <th>6186</th>\n",
       "      <td>12/18/1995</td>\n",
       "      <td>47.861</td>\n",
       "      <td>24.453</td>\n",
       "      <td>0.0</td>\n",
       "      <td>2.147444</td>\n",
       "      <td>0.173862</td>\n",
       "      <td>34.003298</td>\n",
       "    </tr>\n",
       "  </tbody>\n",
       "</table>\n",
       "</div>"
      ],
      "text/plain": [
       "            Date  Max Temperature  Min Temperature  Precipitation      Wind  \\\n",
       "6186  12/18/1995           47.861           24.453            0.0  2.147444   \n",
       "\n",
       "      Relative Humidity      Solar  \n",
       "6186           0.173862  34.003298  "
      ]
     },
     "execution_count": 30,
     "metadata": {},
     "output_type": "execute_result"
    }
   ],
   "source": [
    "df_weather[df_weather['Max Temperature']== max_temperature_max]"
   ]
  },
  {
   "cell_type": "code",
   "execution_count": 37,
   "metadata": {},
   "outputs": [],
   "source": [
    "df_test = df_weather[df_weather['Precipitation']== 0.0]"
   ]
  },
  {
   "cell_type": "code",
   "execution_count": 39,
   "metadata": {},
   "outputs": [],
   "source": [
    "df_test = df_test[df_test['Wind']>1]"
   ]
  },
  {
   "cell_type": "code",
   "execution_count": 40,
   "metadata": {},
   "outputs": [
    {
     "data": {
      "text/html": [
       "<div>\n",
       "<style scoped>\n",
       "    .dataframe tbody tr th:only-of-type {\n",
       "        vertical-align: middle;\n",
       "    }\n",
       "\n",
       "    .dataframe tbody tr th {\n",
       "        vertical-align: top;\n",
       "    }\n",
       "\n",
       "    .dataframe thead th {\n",
       "        text-align: right;\n",
       "    }\n",
       "</style>\n",
       "<table border=\"1\" class=\"dataframe\">\n",
       "  <thead>\n",
       "    <tr style=\"text-align: right;\">\n",
       "      <th></th>\n",
       "      <th>Date</th>\n",
       "      <th>Max Temperature</th>\n",
       "      <th>Min Temperature</th>\n",
       "      <th>Precipitation</th>\n",
       "      <th>Wind</th>\n",
       "      <th>Relative Humidity</th>\n",
       "      <th>Solar</th>\n",
       "    </tr>\n",
       "  </thead>\n",
       "  <tbody>\n",
       "    <tr>\n",
       "      <th>2</th>\n",
       "      <td>1/3/1979</td>\n",
       "      <td>32.643</td>\n",
       "      <td>19.994</td>\n",
       "      <td>0.0</td>\n",
       "      <td>3.529763</td>\n",
       "      <td>0.638956</td>\n",
       "      <td>28.406983</td>\n",
       "    </tr>\n",
       "    <tr>\n",
       "      <th>3</th>\n",
       "      <td>1/4/1979</td>\n",
       "      <td>33.438</td>\n",
       "      <td>19.572</td>\n",
       "      <td>0.0</td>\n",
       "      <td>3.430782</td>\n",
       "      <td>0.480420</td>\n",
       "      <td>30.222842</td>\n",
       "    </tr>\n",
       "    <tr>\n",
       "      <th>4</th>\n",
       "      <td>1/5/1979</td>\n",
       "      <td>35.729</td>\n",
       "      <td>20.306</td>\n",
       "      <td>0.0</td>\n",
       "      <td>3.149614</td>\n",
       "      <td>0.445070</td>\n",
       "      <td>30.734881</td>\n",
       "    </tr>\n",
       "    <tr>\n",
       "      <th>7</th>\n",
       "      <td>1/8/1979</td>\n",
       "      <td>35.209</td>\n",
       "      <td>20.347</td>\n",
       "      <td>0.0</td>\n",
       "      <td>4.374720</td>\n",
       "      <td>0.386730</td>\n",
       "      <td>32.974373</td>\n",
       "    </tr>\n",
       "    <tr>\n",
       "      <th>8</th>\n",
       "      <td>1/9/1979</td>\n",
       "      <td>36.087</td>\n",
       "      <td>20.501</td>\n",
       "      <td>0.0</td>\n",
       "      <td>3.389024</td>\n",
       "      <td>0.379797</td>\n",
       "      <td>26.602368</td>\n",
       "    </tr>\n",
       "    <tr>\n",
       "      <th>...</th>\n",
       "      <td>...</td>\n",
       "      <td>...</td>\n",
       "      <td>...</td>\n",
       "      <td>...</td>\n",
       "      <td>...</td>\n",
       "      <td>...</td>\n",
       "      <td>...</td>\n",
       "    </tr>\n",
       "    <tr>\n",
       "      <th>12979</th>\n",
       "      <td>7/24/2014</td>\n",
       "      <td>14.321</td>\n",
       "      <td>5.191</td>\n",
       "      <td>0.0</td>\n",
       "      <td>3.448054</td>\n",
       "      <td>0.366880</td>\n",
       "      <td>15.951863</td>\n",
       "    </tr>\n",
       "    <tr>\n",
       "      <th>12980</th>\n",
       "      <td>7/25/2014</td>\n",
       "      <td>13.761</td>\n",
       "      <td>2.312</td>\n",
       "      <td>0.0</td>\n",
       "      <td>2.506737</td>\n",
       "      <td>0.409053</td>\n",
       "      <td>13.756311</td>\n",
       "    </tr>\n",
       "    <tr>\n",
       "      <th>12981</th>\n",
       "      <td>7/26/2014</td>\n",
       "      <td>15.730</td>\n",
       "      <td>2.230</td>\n",
       "      <td>0.0</td>\n",
       "      <td>2.511181</td>\n",
       "      <td>0.509972</td>\n",
       "      <td>15.327702</td>\n",
       "    </tr>\n",
       "    <tr>\n",
       "      <th>12982</th>\n",
       "      <td>7/27/2014</td>\n",
       "      <td>15.938</td>\n",
       "      <td>5.081</td>\n",
       "      <td>0.0</td>\n",
       "      <td>2.627763</td>\n",
       "      <td>0.639303</td>\n",
       "      <td>13.388504</td>\n",
       "    </tr>\n",
       "    <tr>\n",
       "      <th>12983</th>\n",
       "      <td>7/28/2014</td>\n",
       "      <td>20.470</td>\n",
       "      <td>6.121</td>\n",
       "      <td>0.0</td>\n",
       "      <td>3.853856</td>\n",
       "      <td>0.698549</td>\n",
       "      <td>15.112251</td>\n",
       "    </tr>\n",
       "  </tbody>\n",
       "</table>\n",
       "<p>7645 rows × 7 columns</p>\n",
       "</div>"
      ],
      "text/plain": [
       "            Date  Max Temperature  Min Temperature  Precipitation      Wind  \\\n",
       "2       1/3/1979           32.643           19.994            0.0  3.529763   \n",
       "3       1/4/1979           33.438           19.572            0.0  3.430782   \n",
       "4       1/5/1979           35.729           20.306            0.0  3.149614   \n",
       "7       1/8/1979           35.209           20.347            0.0  4.374720   \n",
       "8       1/9/1979           36.087           20.501            0.0  3.389024   \n",
       "...          ...              ...              ...            ...       ...   \n",
       "12979  7/24/2014           14.321            5.191            0.0  3.448054   \n",
       "12980  7/25/2014           13.761            2.312            0.0  2.506737   \n",
       "12981  7/26/2014           15.730            2.230            0.0  2.511181   \n",
       "12982  7/27/2014           15.938            5.081            0.0  2.627763   \n",
       "12983  7/28/2014           20.470            6.121            0.0  3.853856   \n",
       "\n",
       "       Relative Humidity      Solar  \n",
       "2               0.638956  28.406983  \n",
       "3               0.480420  30.222842  \n",
       "4               0.445070  30.734881  \n",
       "7               0.386730  32.974373  \n",
       "8               0.379797  26.602368  \n",
       "...                  ...        ...  \n",
       "12979           0.366880  15.951863  \n",
       "12980           0.409053  13.756311  \n",
       "12981           0.509972  15.327702  \n",
       "12982           0.639303  13.388504  \n",
       "12983           0.698549  15.112251  \n",
       "\n",
       "[7645 rows x 7 columns]"
      ]
     },
     "execution_count": 40,
     "metadata": {},
     "output_type": "execute_result"
    }
   ],
   "source": [
    "df_test"
   ]
  },
  {
   "cell_type": "code",
   "execution_count": 23,
   "metadata": {
    "id": "Z0sq4xOzifM9"
   },
   "outputs": [
    {
     "data": {
      "image/png": "[encoded data removed]",
      "text/plain": [
       "<Figure size 432x288 with 1 Axes>"
      ]
     },
     "metadata": {
      "needs_background": "light"
     },
     "output_type": "display_data"
    }
   ],
   "source": [
    "df_weather['Max Temperature'][1:10].plot();\n",
    "df_weather['Min Temperature'][1:10].plot();\n"
   ]
  },
  {
   "cell_type": "code",
   "execution_count": 25,
   "metadata": {
    "id": "_wDhm8z51A8a"
   },
   "outputs": [
    {
     "data": {
      "text/html": [
       "<div>\n",
       "<style scoped>\n",
       "    .dataframe tbody tr th:only-of-type {\n",
       "        vertical-align: middle;\n",
       "    }\n",
       "\n",
       "    .dataframe tbody tr th {\n",
       "        vertical-align: top;\n",
       "    }\n",
       "\n",
       "    .dataframe thead th {\n",
       "        text-align: right;\n",
       "    }\n",
       "</style>\n",
       "<table border=\"1\" class=\"dataframe\">\n",
       "  <thead>\n",
       "    <tr style=\"text-align: right;\">\n",
       "      <th></th>\n",
       "      <th>Date</th>\n",
       "      <th>Max Temperature</th>\n",
       "      <th>Min Temperature</th>\n",
       "      <th>Precipitation</th>\n",
       "      <th>Wind</th>\n",
       "      <th>Relative Humidity</th>\n",
       "      <th>Solar</th>\n",
       "    </tr>\n",
       "  </thead>\n",
       "  <tbody>\n",
       "    <tr>\n",
       "      <th>7852</th>\n",
       "      <td>7/10/2000</td>\n",
       "      <td>4.606</td>\n",
       "      <td>2.298</td>\n",
       "      <td>14.295104</td>\n",
       "      <td>7.762582</td>\n",
       "      <td>0.916285</td>\n",
       "      <td>1.713825</td>\n",
       "    </tr>\n",
       "    <tr>\n",
       "      <th>11558</th>\n",
       "      <td>9/2/2010</td>\n",
       "      <td>7.181</td>\n",
       "      <td>5.525</td>\n",
       "      <td>2.950859</td>\n",
       "      <td>5.568770</td>\n",
       "      <td>0.886776</td>\n",
       "      <td>2.743932</td>\n",
       "    </tr>\n",
       "    <tr>\n",
       "      <th>11891</th>\n",
       "      <td>8/1/2011</td>\n",
       "      <td>7.206</td>\n",
       "      <td>2.091</td>\n",
       "      <td>7.340240</td>\n",
       "      <td>3.002304</td>\n",
       "      <td>0.825034</td>\n",
       "      <td>7.920778</td>\n",
       "    </tr>\n",
       "    <tr>\n",
       "      <th>7851</th>\n",
       "      <td>7/9/2000</td>\n",
       "      <td>7.278</td>\n",
       "      <td>4.123</td>\n",
       "      <td>5.495737</td>\n",
       "      <td>6.136346</td>\n",
       "      <td>0.871805</td>\n",
       "      <td>1.097381</td>\n",
       "    </tr>\n",
       "    <tr>\n",
       "      <th>7494</th>\n",
       "      <td>7/18/1999</td>\n",
       "      <td>7.528</td>\n",
       "      <td>1.280</td>\n",
       "      <td>0.020599</td>\n",
       "      <td>2.357784</td>\n",
       "      <td>0.855063</td>\n",
       "      <td>10.174500</td>\n",
       "    </tr>\n",
       "    <tr>\n",
       "      <th>...</th>\n",
       "      <td>...</td>\n",
       "      <td>...</td>\n",
       "      <td>...</td>\n",
       "      <td>...</td>\n",
       "      <td>...</td>\n",
       "      <td>...</td>\n",
       "      <td>...</td>\n",
       "    </tr>\n",
       "    <tr>\n",
       "      <th>12769</th>\n",
       "      <td>12/26/2013</td>\n",
       "      <td>45.631</td>\n",
       "      <td>27.673</td>\n",
       "      <td>0.000000</td>\n",
       "      <td>2.798165</td>\n",
       "      <td>0.250465</td>\n",
       "      <td>30.254004</td>\n",
       "    </tr>\n",
       "    <tr>\n",
       "      <th>5830</th>\n",
       "      <td>12/27/1994</td>\n",
       "      <td>45.676</td>\n",
       "      <td>28.222</td>\n",
       "      <td>0.000000</td>\n",
       "      <td>4.298026</td>\n",
       "      <td>0.211402</td>\n",
       "      <td>24.448616</td>\n",
       "    </tr>\n",
       "    <tr>\n",
       "      <th>3593</th>\n",
       "      <td>11/11/1988</td>\n",
       "      <td>46.672</td>\n",
       "      <td>22.481</td>\n",
       "      <td>0.003433</td>\n",
       "      <td>6.647054</td>\n",
       "      <td>0.299292</td>\n",
       "      <td>20.369306</td>\n",
       "    </tr>\n",
       "    <tr>\n",
       "      <th>6578</th>\n",
       "      <td>1/13/1997</td>\n",
       "      <td>46.871</td>\n",
       "      <td>29.138</td>\n",
       "      <td>0.000000</td>\n",
       "      <td>3.204081</td>\n",
       "      <td>0.181772</td>\n",
       "      <td>33.118928</td>\n",
       "    </tr>\n",
       "    <tr>\n",
       "      <th>6186</th>\n",
       "      <td>12/18/1995</td>\n",
       "      <td>47.861</td>\n",
       "      <td>24.453</td>\n",
       "      <td>0.000000</td>\n",
       "      <td>2.147444</td>\n",
       "      <td>0.173862</td>\n",
       "      <td>34.003298</td>\n",
       "    </tr>\n",
       "  </tbody>\n",
       "</table>\n",
       "<p>12987 rows × 7 columns</p>\n",
       "</div>"
      ],
      "text/plain": [
       "             Date  Max Temperature  Min Temperature  Precipitation      Wind  \\\n",
       "7852    7/10/2000            4.606            2.298      14.295104  7.762582   \n",
       "11558    9/2/2010            7.181            5.525       2.950859  5.568770   \n",
       "11891    8/1/2011            7.206            2.091       7.340240  3.002304   \n",
       "7851     7/9/2000            7.278            4.123       5.495737  6.136346   \n",
       "7494    7/18/1999            7.528            1.280       0.020599  2.357784   \n",
       "...           ...              ...              ...            ...       ...   \n",
       "12769  12/26/2013           45.631           27.673       0.000000  2.798165   \n",
       "5830   12/27/1994           45.676           28.222       0.000000  4.298026   \n",
       "3593   11/11/1988           46.672           22.481       0.003433  6.647054   \n",
       "6578    1/13/1997           46.871           29.138       0.000000  3.204081   \n",
       "6186   12/18/1995           47.861           24.453       0.000000  2.147444   \n",
       "\n",
       "       Relative Humidity      Solar  \n",
       "7852            0.916285   1.713825  \n",
       "11558           0.886776   2.743932  \n",
       "11891           0.825034   7.920778  \n",
       "7851            0.871805   1.097381  \n",
       "7494            0.855063  10.174500  \n",
       "...                  ...        ...  \n",
       "12769           0.250465  30.254004  \n",
       "5830            0.211402  24.448616  \n",
       "3593            0.299292  20.369306  \n",
       "6578            0.181772  33.118928  \n",
       "6186            0.173862  34.003298  \n",
       "\n",
       "[12987 rows x 7 columns]"
      ]
     },
     "execution_count": 25,
     "metadata": {},
     "output_type": "execute_result"
    }
   ],
   "source": [
    "df_weather.sort_values('Max Temperature',ascending=True)"
   ]
  },
  {
   "cell_type": "markdown",
   "metadata": {
    "id": "7MMN1H9nfz-8"
   },
   "source": [
    "### ¿Max Temp >= Min Temp? "
   ]
  },
  {
   "cell_type": "code",
   "execution_count": null,
   "metadata": {
    "id": "nUJzze5zgDUI"
   },
   "outputs": [],
   "source": [
    "sum(df_weather['Max Temperature']>=df_weather['Min Temperature'])"
   ]
  },
  {
   "cell_type": "markdown",
   "metadata": {
    "id": "Fs9zh5hmgYX8"
   },
   "source": [
    "### ¿hubo muchas precipitaciones?  ==> 🌧>0"
   ]
  },
  {
   "cell_type": "code",
   "execution_count": null,
   "metadata": {
    "id": "87Z6C9VNg2h-"
   },
   "outputs": [],
   "source": [
    "# lluvia = chuva\n",
    "#dias_chuva\n",
    "dias_lluvia = sum(df_weather['Precipitation']>0)\n",
    "dias_lluvia"
   ]
  },
  {
   "cell_type": "code",
   "execution_count": null,
   "metadata": {},
   "outputs": [],
   "source": [
    "df_weather.shape[0] # rows\n",
    "df_weather.shape[1]# columns"
   ]
  },
  {
   "cell_type": "code",
   "execution_count": null,
   "metadata": {
    "id": "O3BxWemZhHs1"
   },
   "outputs": [],
   "source": [
    "total_dias = df_weather.shape[0]\n",
    "porcentaje = dias_lluvia/total_dias*100\n",
    "porcentaje"
   ]
  },
  {
   "cell_type": "markdown",
   "metadata": {
    "id": "JSVQW6Yrhm1e"
   },
   "source": [
    "### Trabajemos con Días ¿ Cuántos años hay registrados?"
   ]
  },
  {
   "cell_type": "code",
   "execution_count": null,
   "metadata": {
    "id": "O2FMFd1Jhfud"
   },
   "outputs": [],
   "source": [
    "int(total_dias/365) # year = ano = año = 365 dias"
   ]
  },
  {
   "cell_type": "code",
   "execution_count": null,
   "metadata": {
    "id": "QLrnR68piIEU"
   },
   "outputs": [],
   "source": [
    "# ¿la última fecha?\n",
    "df_weather['Date'].max()"
   ]
  },
  {
   "cell_type": "code",
   "execution_count": null,
   "metadata": {
    "id": "PO7f6cCiiRgI"
   },
   "outputs": [],
   "source": [
    "df_weather['Date'].tail(5)"
   ]
  },
  {
   "cell_type": "code",
   "execution_count": null,
   "metadata": {
    "id": "UaQDCzEWiXRU"
   },
   "outputs": [],
   "source": [
    "# solucionemos el Date\n",
    "df_weather['Date'] = pd.to_datetime(df_weather['Date'])#.dt.date"
   ]
  },
  {
   "cell_type": "code",
   "execution_count": null,
   "metadata": {
    "colab": {
     "base_uri": "https://localhost:8080/"
    },
    "id": "7ahBSfkejJ1s",
    "outputId": "f0ab75f3-7b0d-4d0f-f9cd-accf5ef2605d"
   },
   "outputs": [],
   "source": [
    "df_weather['Date'].max()"
   ]
  },
  {
   "cell_type": "code",
   "execution_count": null,
   "metadata": {
    "id": "NxbhbkWlnS5n"
   },
   "outputs": [],
   "source": [
    "!pip install funpymodeling #Pablo Casas\n",
    "from funpymodeling.exploratory import status\n",
    "# https://pypi.org/project/funpymodeling/"
   ]
  },
  {
   "cell_type": "code",
   "execution_count": null,
   "metadata": {
    "id": "0bu-_El7n4Ma"
   },
   "outputs": [],
   "source": [
    "status(df_weather)es"
   ]
  },
  {
   "cell_type": "markdown",
   "metadata": {
    "id": "CmSLK7wVzt55"
   },
   "source": [
    "## Estaciones ☀⛅🌦🌧"
   ]
  },
  {
   "cell_type": "markdown",
   "metadata": {
    "id": "HSnvqtBv2aue"
   },
   "source": [
    "https://es.stackoverflow.com/"
   ]
  },
  {
   "cell_type": "code",
   "execution_count": null,
   "metadata": {
    "id": "MdEPvXXprmaO"
   },
   "outputs": [],
   "source": [
    "# estaciones do ano\n",
    "\n",
    "# https://es.stackoverflow.com/questions/412121/convertir-fechas-a-estaciones\n",
    "from datetime import date, datetime\n",
    "\n",
    "\n",
    "def get_season(fecha):\n",
    "  '''ingresa una fecha y devuelve la estación del año'''\n",
    "  Y = fecha.year\n",
    "  estaciones = [('invierno', datetime(Y,  1,  1),  datetime(Y,  3, 20)),\n",
    "              ('primavera', datetime(Y,  3, 21),  datetime(Y,  6, 20)),\n",
    "              ('verano', datetime(Y,  6, 21),  datetime(Y,  9, 22)),\n",
    "              ('otoño', datetime(Y,  9, 23),  datetime(Y, 12, 20)),\n",
    "              ('invierno', datetime(Y, 12, 21),  datetime(Y, 12, 31))]\n",
    "\n",
    "  for estacion, inicio, fin in estaciones:\n",
    "    if inicio <= fecha <= fin:\n",
    "      return estacion"
   ]
  },
  {
   "cell_type": "code",
   "execution_count": null,
   "metadata": {
    "id": "iKAvdxlzyEM9"
   },
   "outputs": [],
   "source": [
    "df_weather['Seasons'] = df_weather['Date'].apply(get_season)"
   ]
  },
  {
   "cell_type": "code",
   "execution_count": null,
   "metadata": {
    "id": "gBL3iMED0lgU"
   },
   "outputs": [],
   "source": [
    "df_weather"
   ]
  },
  {
   "cell_type": "code",
   "execution_count": null,
   "metadata": {
    "id": "ploLWn3Y7PT4"
   },
   "outputs": [],
   "source": [
    "df_weather_1979 = df_weather[df_weather['Date'].dt.strftime('%Y') == '1979']\n",
    "df_weather_1979"
   ]
  },
  {
   "cell_type": "code",
   "execution_count": null,
   "metadata": {
    "id": "HRfYlK74IYeT"
   },
   "outputs": [],
   "source": [
    "#dias com chuva\n",
    "sum(df_weather_1979['Precipitation'][df_weather_1979['Seasons'] == 'otoño']>0)"
   ]
  },
  {
   "cell_type": "code",
   "execution_count": null,
   "metadata": {
    "id": "1wsY5XvD82Ee"
   },
   "outputs": [],
   "source": [
    "sum(df_weather_1979['Precipitation'][df_weather_1979['Seasons'] == 'otoño']>0)/sum(df_weather_1979['Seasons'] == 'otoño')"
   ]
  },
  {
   "cell_type": "code",
   "execution_count": null,
   "metadata": {
    "id": "-MI0o7zFEGPL"
   },
   "outputs": [],
   "source": [
    "def porcentaje_precipitaciones(df,estacion):\n",
    "  '''ingresa el df y devuelve el porcentaje \n",
    "  de precipitación(>0) de la estación ingresada'''\n",
    "  total_dias = sum(df_weather_1979['Seasons']==estacion)\n",
    "  total_lluvia = sum(df_weather_1979['Precipitation'][df_weather_1979['Seasons'] == estacion]>0)\n",
    "  total_sin_lluvia = total_dias - total_lluvia\n",
    "  p_lluvia = int(total_lluvia/total_dias*100)\n",
    "  return[p_lluvia,100-p_lluvia]\n"
   ]
  },
  {
   "cell_type": "code",
   "execution_count": null,
   "metadata": {},
   "outputs": [],
   "source": [
    "help(porcentaje_precipitaciones)"
   ]
  },
  {
   "cell_type": "code",
   "execution_count": null,
   "metadata": {
    "id": "6DvK0mqaFTZC"
   },
   "outputs": [],
   "source": [
    "porcentaje_precipitaciones(df_weather_1979,'invierno')"
   ]
  },
  {
   "cell_type": "markdown",
   "metadata": {
    "id": "kYe2QIPJS7-8"
   },
   "source": [
    "\n",
    "[](https://www.notion.so/image/https%3A%2F%2Fs3-us-west-2.amazonaws.com%2Fsecure.notion-static.com%2F17d6223b-b555-4abe-9b70-45c3cc77e20e%2FUntitled.png?table=block&id=5ac8cd71-ea26-4f9a-b719-7eac6264096d&spaceId=62aa27de-48fd-4703-8a40-2de64b627b11&width=1420&userId=&cache=v2)"
   ]
  },
  {
   "cell_type": "code",
   "execution_count": null,
   "metadata": {},
   "outputs": [],
   "source": [
    "# gráfico de pizza\n",
    "import matplotlib.pyplot as plt\n",
    "\n",
    "# Pie chart, where the slices will be ordered and plotted counter-clockwise:\n",
    "labels = 'bom Dia', 'boa noite', 'chuva', 'pizza'\n",
    "sizes = [15, 30, 45, 10]\n",
    "explode = (0, 0.5, 0, 0)  # only \"explode\" the 2nd slice (i.e. 'boa noite')\n",
    "\n",
    "fig1, ax1 = plt.subplots()\n",
    "ax1.pie(sizes, explode=explode, labels=labels, autopct='%1.1f%%',\n",
    "        shadow=True, startangle=90)\n",
    "ax1.axis('equal')  # Equal aspect ratio ensures that pie is drawn as a circle.\n",
    "\n",
    "plt.show()"
   ]
  },
  {
   "cell_type": "code",
   "execution_count": null,
   "metadata": {},
   "outputs": [],
   "source": [
    "import matplotlib.pyplot as plt\n",
    "import numpy as np\n",
    "N = 5\n",
    "menMeans = (20, 35, 30, 35, -27)\n",
    "womenMeans = (25, 32, 34, 20, -25)\n",
    "menStd = (2, 3, 4, 1, 2)\n",
    "womenStd = (3, 5, 2, 3, 3)\n",
    "ind = np.arange(N)    # the x locations for the groups\n",
    "width = 0.35       # the width of the bars: can also be len(x) sequence\n",
    "\n",
    "fig, ax = plt.subplots()\n",
    "\n",
    "p1 = ax.bar(ind, menMeans, width, yerr=menStd, label='Men')\n",
    "p2 = ax.bar(ind, womenMeans, width,\n",
    "            bottom=menMeans, yerr=womenStd, label='Women')\n",
    "\n",
    "ax.axhline(0, color='grey', linewidth=0.8)\n",
    "ax.set_ylabel('Scores')\n",
    "ax.set_title('Scores by group and gender')\n",
    "ax.set_xticks(ind, labels=['G1', 'G2', 'G3', 'G4', 'G5'])\n",
    "ax.legend()\n",
    "\n",
    "# Label with label_type 'center' instead of the default 'edge'\n",
    "ax.bar_label(p1, label_type='center')\n",
    "ax.bar_label(p2, label_type='center')\n",
    "ax.bar_label(p2)\n",
    "\n",
    "plt.show()"
   ]
  },
  {
   "cell_type": "code",
   "execution_count": null,
   "metadata": {
    "id": "wRCwrk9Z9PPo"
   },
   "outputs": [],
   "source": [
    "import matplotlib.pyplot as plt\n",
    "\n",
    "# Pie chart, where the slices will be ordered and plotted counter-clockwise:\n",
    "labels = 'chuva', 'No chuva'\n",
    "sizes = porcentaje_precipitaciones(df_weather_1979,'invierno')\n",
    "explode = (0.1, 0)  # only \"explode\" \n",
    "\n",
    "fig1, ax1 = plt.subplots()\n",
    "ax1.pie(sizes, explode=explode, labels=labels, autopct='%1.1f%%',\n",
    "        shadow=True, startangle=90)\n",
    "ax1.axis('equal')  # Equal aspect ratio ensures that pie is drawn as a circle.\n",
    "plt.title(\"pizza Chuva Invierno 1979\", bbox={'facecolor':'0.9', 'pad':1})\n",
    "plt.show()"
   ]
  },
  {
   "cell_type": "code",
   "execution_count": null,
   "metadata": {
    "id": "RhdkxJMWGbpu"
   },
   "outputs": [],
   "source": [
    "# https://coderedirect.com/questions/364195/how-to-make-mxn-piechart-plots-with-one-legend-and-removed-y-axis-titles-in-matp\n",
    "\n",
    "estaciones = ['invierno','primavera','verano','otoño']\n",
    "\n",
    "fig, axes = plt.subplots(1,4, figsize=(20,5))\n",
    "for ax, estacion in zip(axes, estaciones):\n",
    "    ax.pie(porcentaje_precipitaciones(df_weather_1979,estacion), labels=['Chuva', 'No Chuva'], autopct='%.2f')\n",
    "    ax.set(ylabel='', title=estacion, aspect='equal')\n",
    "\n",
    "axes[0].legend(bbox_to_anchor=(0, 0.5))\n",
    "\n",
    "\n",
    "plt.show()"
   ]
  },
  {
   "cell_type": "code",
   "execution_count": null,
   "metadata": {
    "id": "JGWBSS3rHcRK"
   },
   "outputs": [],
   "source": [
    "fig, ax = plt.subplots()\n",
    "ax.plot(df_weather_1979['Date'], df_weather_1979['Precipitation'])\n",
    "plt.show()"
   ]
  },
  {
   "cell_type": "markdown",
   "metadata": {
    "id": "W_Ro76FDy_mv"
   },
   "source": [
    "\n",
    "\n",
    "![](https://www.notion.so/image/https%3A%2F%2Fs3-us-west-2.amazonaws.com%2Fsecure.notion-static.com%2Ffa3748de-b07b-4cef-a636-3c1063aa134f%2FUntitled.png?table=block&id=2c462201-ceb3-4c52-aaa4-214cf334dee5&spaceId=62aa27de-48fd-4703-8a40-2de64b627b11&width=330&userId=&cache=v2)\n",
    "\n",
    "[plotly](https://plotly.com/python/)"
   ]
  },
  {
   "cell_type": "code",
   "execution_count": null,
   "metadata": {
    "scrolled": true
   },
   "outputs": [],
   "source": [
    "import plotly.express as px\n",
    "\n",
    "fig = px.line(x=[\"a\",\"b\",\"c\"], y=[1,3,2], title=\"sample figure\")\n",
    "print(fig)\n",
    "fig.show()"
   ]
  },
  {
   "cell_type": "code",
   "execution_count": null,
   "metadata": {
    "id": "VXWZWNYYjLMl"
   },
   "outputs": [],
   "source": [
    "import plotly.express as px"
   ]
  },
  {
   "cell_type": "code",
   "execution_count": null,
   "metadata": {
    "id": "0vOreglalyFf"
   },
   "outputs": [],
   "source": [
    "fig = px.line(df_weather, x='Date', y=\"Precipitation\")\n",
    "fig.show()"
   ]
  },
  {
   "cell_type": "code",
   "execution_count": null,
   "metadata": {
    "id": "cGuDcAfoT8LY"
   },
   "outputs": [],
   "source": [
    "fig = px.line(df_weather_1979, x='Date', y=\"Precipitation\")\n",
    "fig.show()"
   ]
  },
  {
   "cell_type": "markdown",
   "metadata": {
    "id": "Nas38piy-Vt0"
   },
   "source": [
    "## Levantando un EXCEL"
   ]
  },
  {
   "cell_type": "code",
   "execution_count": null,
   "metadata": {
    "id": "YioZUrHf-ZSL"
   },
   "outputs": [],
   "source": [
    "import pandas as pd\n",
    "datos = pd.read_excel('LAQUIACA-2019-JUNIO.xlsx')\n",
    "datos"
   ]
  },
  {
   "cell_type": "code",
   "execution_count": null,
   "metadata": {},
   "outputs": [],
   "source": [
    "datos['CLASE'].min() #erro"
   ]
  },
  {
   "cell_type": "code",
   "execution_count": null,
   "metadata": {},
   "outputs": [],
   "source": [
    "datos['CLASE'].max()"
   ]
  },
  {
   "cell_type": "markdown",
   "metadata": {
    "id": "QDEnAQaZ-NAD"
   },
   "source": [
    "## Más herramientas para aprender\n",
    "\n",
    "<img src=\"https://github.com/lux-org/lux-resources/raw/master/logo/logo.png?raw=true\" width=\"500\" alt=\"lux-widget-logo\">\n",
    "\n",
    "\n",
    "[lux-widget](https://github.com/lux-org/lux-widget)\n"
   ]
  },
  {
   "cell_type": "code",
   "execution_count": null,
   "metadata": {
    "id": "HQM69Xa9-ih3"
   },
   "outputs": [],
   "source": [
    "!jupyter nbextension install --py luxwidget"
   ]
  },
  {
   "cell_type": "code",
   "execution_count": null,
   "metadata": {
    "id": "oOyCytWY-j8J"
   },
   "outputs": [],
   "source": [
    "!jupyter nbextension enable --py luxwidget"
   ]
  },
  {
   "cell_type": "code",
   "execution_count": null,
   "metadata": {
    "id": "gqnCboAt-SXj"
   },
   "outputs": [],
   "source": [
    "import pandas as pd\n",
    "import lux\n",
    "df = pd.read_csv(\"https://raw.githubusercontent.com/lux-org/lux-datasets/master/data/college.csv\")\n",
    "df"
   ]
  },
  {
   "cell_type": "code",
   "execution_count": null,
   "metadata": {
    "id": "3jkRWN0F-peu"
   },
   "outputs": [],
   "source": [
    "df"
   ]
  },
  {
   "cell_type": "code",
   "execution_count": null,
   "metadata": {},
   "outputs": [],
   "source": [
    "import numpy as np\n",
    "import matplotlib.pyplot as plt\n",
    "\n",
    "fig = plt.figure()\n",
    "fig.subplots_adjust(top=0.8)\n",
    "ax1 = fig.add_subplot(211)\n",
    "ax1.set_ylabel('volts')\n",
    "ax1.set_title('a sine wave')\n",
    "\n",
    "t = np.arange(0.0, 1.0, 0.01)\n",
    "s = np.sin(2*np.pi*t)\n",
    "line, = ax1.plot(t, s, color='blue', lw=2)\n",
    "\n",
    "# Fixing random state for reproducibility\n",
    "np.random.seed(19680801)\n",
    "\n",
    "ax2 = fig.add_axes([0.15, 0.1, 0.7, 0.3])\n",
    "n, bins, patches = ax2.hist(np.random.randn(1000), 50,\n",
    "                            facecolor='yellow', edgecolor='yellow')\n",
    "ax2.set_xlabel('time (s)')\n",
    "\n",
    "plt.show()"
   ]
  }
 ],
 "metadata": {
  "colab": {
   "collapsed_sections": [],
   "name": "Scipyla2021-Participantes",
   "provenance": []
  },
  "kernelspec": {
   "display_name": "Python 3",
   "language": "python",
   "name": "python3"
  },
  "language_info": {
   "codemirror_mode": {
    "name": "ipython",
    "version": 3
   },
   "file_extension": ".py",
   "mimetype": "text/x-python",
   "name": "python",
   "nbconvert_exporter": "python",
   "pygments_lexer": "ipython3",
   "version": "3.7.3"
  }
 },
 "nbformat": 4,
 "nbformat_minor": 1
}
