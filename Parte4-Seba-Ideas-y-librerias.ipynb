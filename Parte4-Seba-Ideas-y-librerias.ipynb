{
 "cells": [
  {
   "cell_type": "markdown",
   "metadata": {
    "slideshow": {
     "slide_type": "slide"
    }
   },
   "source": [
    "![banner](images/banner.png)\n",
    "\n",
    "### Programar y Reprogramar Recursos para Docentes\n",
    "#### Fecha: 29 Octubre 2021, 13:00 a 15:00\n",
    "####  Sofía Martin, Ariel Ramos, Liliana Hurtado, Sebastián Flores"
   ]
  },
  {
   "cell_type": "markdown",
   "metadata": {
    "slideshow": {
     "slide_type": "slide"
    }
   },
   "source": [
    "### Ideas y Librerías\n",
    "\n",
    "**Agenda:**\n",
    "* Introducción\n",
    "* Presentaciones interactivas\n",
    "* Gráficos\n",
    "* Ecuaciones\n",
    "* Análisis de datos\n",
    "* Machine Learning"
   ]
  },
  {
   "cell_type": "markdown",
   "metadata": {
    "slideshow": {
     "slide_type": "slide"
    }
   },
   "source": [
    "### Introducción \n",
    "\n",
    "¿Porqué ocupamos librerías?"
   ]
  },
  {
   "cell_type": "markdown",
   "metadata": {
    "slideshow": {
     "slide_type": "fragment"
    }
   },
   "source": [
    "En Jupyter puedes usar cualquier librería de Python (incluso otros lenguajes).\n",
    "\n",
    "La comunidad de Python continuamente desarrolla librerías para todo tipo de temas.\n",
    "\n",
    "Con toda seguridad, existe una librería de python que puede ayudarte a enseñar **ese** tema (desde algebra a astrofísica). "
   ]
  },
  {
   "cell_type": "markdown",
   "metadata": {
    "slideshow": {
     "slide_type": "slide"
    }
   },
   "source": [
    "### Algunos enlaces a considerar\n",
    "\n",
    "* https://github.com/usantamaria: repositorios de matemática, informática y mecánica de la UTFSM - Chile.\n",
    "* https://github.com/sebastiandres: \n",
    "* https://sebastiandres.xyz: Blog con tutoriales y consejos.   \n",
    "* Comunidades y personas en Discord, Twitter y Github."
   ]
  },
  {
   "cell_type": "markdown",
   "metadata": {
    "slideshow": {
     "slide_type": "slide"
    }
   },
   "source": [
    "# 1. Presentaciones Interactivas\n",
    "\n",
    "La librería RISE (Reveal.js Interactive Slide Extension), permite  convertir un jupyter notebook en una presentación interactiva. Es compatible con todas las otras librerías.\n",
    "\n",
    "###### Instalación\n",
    "```bash\n",
    "pip install rise\n",
    "```\n",
    "\n",
    "###### Utilización\n",
    "¡Muy simple! Sólo requiere configurar el tipo de cada celdas."
   ]
  },
  {
   "cell_type": "markdown",
   "metadata": {
    "slideshow": {
     "slide_type": "slide"
    }
   },
   "source": [
    "##### ¿Qué es RISE?\n",
    "\n",
    "En lugar de mostrar una larga página web con las celdas, las celdas **se agrupan** en diapositivas. \n",
    "\n",
    "Las distintas celdas pueden ser editadas y ejecutadas *DURANTE LA PRESENTACIÓN*.\n"
   ]
  },
  {
   "cell_type": "markdown",
   "metadata": {
    "slideshow": {
     "slide_type": "fragment"
    }
   },
   "source": [
    "Con **herramientas** de *markdown*, <font style=\"color:green\">html</font> y latex: $ e^{i \\pi} + 1 = 0 $\n"
   ]
  },
  {
   "cell_type": "markdown",
   "metadata": {
    "slideshow": {
     "slide_type": "fragment"
    }
   },
   "source": [
    "y python:"
   ]
  },
  {
   "cell_type": "code",
   "execution_count": null,
   "metadata": {
    "slideshow": {
     "slide_type": "fragment"
    }
   },
   "outputs": [],
   "source": [
    "print(\"Hola \\U0001F30E\")"
   ]
  },
  {
   "cell_type": "markdown",
   "metadata": {
    "slideshow": {
     "slide_type": "slide"
    }
   },
   "source": [
    "##### ¿Porqué usar RISE?\n"
   ]
  },
  {
   "cell_type": "markdown",
   "metadata": {
    "slideshow": {
     "slide_type": "fragment"
    }
   },
   "source": [
    "#### Ventajas\n",
    "\n",
    "* Simplificar la **generación** de material. \n",
    "\n",
    "* Simplificar la **distribución** del material."
   ]
  },
  {
   "cell_type": "markdown",
   "metadata": {
    "slideshow": {
     "slide_type": "fragment"
    }
   },
   "source": [
    "#### Desventajas\n",
    "\n",
    "* RISE funciona sólo con Jupyter Notebook. No funciona con Jupyter Lab ni con Google Colaboratory.\n",
    "* Es completamente interactivo, con todos los riesgos y beneficios que eso representa."
   ]
  },
  {
   "cell_type": "markdown",
   "metadata": {
    "slideshow": {
     "slide_type": "slide"
    }
   },
   "source": [
    "##### ¿Cómo usar RISE?"
   ]
  },
  {
   "cell_type": "markdown",
   "metadata": {
    "slideshow": {
     "slide_type": "fragment"
    }
   },
   "source": [
    "Instalar la librería\n",
    "\n",
    "```\n",
    "pip install rise\n",
    "```\n",
    "\n",
    "Permitirá que se agregue el botón de iniciar presentación (destacado en rojo).\n",
    "\n",
    "![](images/install2.png)"
   ]
  },
  {
   "cell_type": "markdown",
   "metadata": {
    "slideshow": {
     "slide_type": "slide"
    }
   },
   "source": [
    "**Paso 2**: \n",
    "\n",
    "En el menú de jupyter notebook, es necesario seleccionar `View/Cell Toolbar/Slideshow` para que permita configurar el tipo de celda para diapositiva. \n",
    "![](images/install3.png)"
   ]
  },
  {
   "cell_type": "markdown",
   "metadata": {
    "slideshow": {
     "slide_type": "slide"
    }
   },
   "source": [
    "![](images/install4.png)"
   ]
  },
  {
   "cell_type": "markdown",
   "metadata": {
    "slideshow": {
     "slide_type": "slide"
    }
   },
   "source": [
    "##### ¿Cómo aprender?\n",
    "\n",
    "Existe una comunidad material (en español) sobre cómo utilizar RISE:\n",
    "\n",
    "* Presentación Pycon Latam, Octubre 2021: https://sebastiandres.github.io/talk_2021_08_pylatam/\n",
    "* Tutorial RISE: https://sebastiandres.github.io/blog/tutorial-rise/\n",
    "\n",
    "¡En caso de duda, pregunte! Creo que rise es el GRAN diferenciador para jupyter notebook."
   ]
  },
  {
   "cell_type": "markdown",
   "metadata": {
    "slideshow": {
     "slide_type": "slide"
    }
   },
   "source": [
    "# 2. Gráficos\n",
    "\n",
    "Para mostrar gráficos existe un amplio espectro de opciones. Se diferencian en aspectos de usabilidad y flexibilidad.\n",
    "* matplotlib\n",
    "* seaborn\n",
    "* plotly\n",
    "* altair\n",
    "* bokeh\n",
    "\n",
    "¡Y muchas otras que no conozco!"
   ]
  },
  {
   "cell_type": "markdown",
   "metadata": {
    "slideshow": {
     "slide_type": "slide"
    }
   },
   "source": [
    "##### ¿Cuál librería gráfica elegir?\n",
    "Todas las librerías cuentan con buena documentación y ejemplos.\n",
    "Se trata más bien de preferencias personales: ¿Control fino de aspectos gráficos o píntamelo a tu pinta pero bonito? ¿Estático o interactivo?\n",
    "\n",
    "**Consejo:** \n",
    "\n",
    "Elegir una y dominarla en profundidad. Saber graficar datos es un superpoder, para aprender y enseñar."
   ]
  },
  {
   "cell_type": "markdown",
   "metadata": {
    "slideshow": {
     "slide_type": "slide"
    }
   },
   "source": [
    "### Algunos ejemplos\n",
    "Todas las librerías tienen galerías con ejemplos. \n",
    "\n",
    "Al principio suele ser más fácil copiar y personalizar un ejemplo.\n",
    "\n",
    "* matplotlib: https://matplotlib.org/stable/gallery/index.html\n",
    "* seaborn: https://seaborn.pydata.org/examples/index.html\n",
    "* plotly: https://plotly.com/python/\n",
    "* altair: https://altair-viz.github.io/gallery/\n",
    "* bokeh: https://docs.bokeh.org/en/latest/docs/gallery.html"
   ]
  },
  {
   "cell_type": "code",
   "execution_count": 1,
   "metadata": {
    "slideshow": {
     "slide_type": "slide"
    }
   },
   "outputs": [
    {
     "data": {
      "image/png": "[encoded data removed]",
      "text/plain": [
       "<Figure size 864x432 with 1 Axes>"
      ]
     },
     "metadata": {
      "needs_background": "light"
     },
     "output_type": "display_data"
    }
   ],
   "source": [
    "import numpy as np\n",
    "import matplotlib.pyplot as plt\n",
    "dt = 0.1\n",
    "t = np.arange(0.0, 2.0, dt)\n",
    "s = np.sin(2*np.pi*t)\n",
    "\n",
    "plt.figure(figsize=(12,6))\n",
    "plt.plot(t, s)\n",
    "plt.title(r'$\\alpha_i > \\beta_i$', fontsize=20)\n",
    "plt.text(1, -0.6, r'$\\sum_{i=0}^\\infty x_i$', fontsize=20)\n",
    "plt.text(0.6, 0.6, r'$\\mathcal{A}\\mathrm{sin}(2 \\omega t)$',\n",
    "         fontsize=20)\n",
    "plt.xlabel('time (s)')\n",
    "plt.ylabel('volts (mV)')\n",
    "plt.show()"
   ]
  },
  {
   "cell_type": "code",
   "execution_count": 2,
   "metadata": {
    "slideshow": {
     "slide_type": "slide"
    }
   },
   "outputs": [
    {
     "data": {
      "image/png": "[encoded data removed]",
      "text/plain": [
       "<Figure size 1008x576 with 3 Axes>"
      ]
     },
     "metadata": {
      "needs_background": "light"
     },
     "output_type": "display_data"
    }
   ],
   "source": [
    "import numpy as np\n",
    "import matplotlib.pyplot as plt\n",
    "\n",
    "def f(t):\n",
    "    return np.exp(-t) * np.cos(2*np.pi*t)\n",
    "\n",
    "t = np.arange(0.0, 3.0, 0.01)\n",
    "\n",
    "plt.figure(figsize=(14,8))\n",
    "ax1 = plt.subplot(212)\n",
    "ax1.margins(0.05)           # Default margin is 0.05, value 0 means fit\n",
    "ax1.plot(t, f(t))\n",
    "\n",
    "ax2 = plt.subplot(221)\n",
    "ax2.margins(2, 2)           # Values >0.0 zoom out\n",
    "ax2.plot(t, f(t))\n",
    "ax2.set_title('Zoomed out')\n",
    "\n",
    "ax3 = plt.subplot(222)\n",
    "ax3.margins(x=0, y=-0.25)   # Values in (-0.5, 0.0) zooms in to center\n",
    "ax3.plot(t, f(t))\n",
    "ax3.set_title('Zoomed in')\n",
    "\n",
    "plt.show()"
   ]
  },
  {
   "cell_type": "code",
   "execution_count": 3,
   "metadata": {
    "slideshow": {
     "slide_type": "slide"
    }
   },
   "outputs": [],
   "source": [
    "import numpy as np\n",
    "import matplotlib.pyplot as plt\n",
    "\n",
    "# Fixing random state for reproducibility\n",
    "np.random.seed(19680801)\n",
    "\n",
    "# some random data\n",
    "x = np.random.randn(1000)\n",
    "y = np.random.randn(1000)\n",
    "\n",
    "\n",
    "def scatter_hist(x, y, ax, ax_histx, ax_histy):\n",
    "    # no labels\n",
    "    ax_histx.tick_params(axis=\"x\", labelbottom=False)\n",
    "    ax_histy.tick_params(axis=\"y\", labelleft=False)\n",
    "\n",
    "    # the scatter plot:\n",
    "    ax.scatter(x, y)\n",
    "\n",
    "    # now determine nice limits by hand:\n",
    "    binwidth = 0.25\n",
    "    xymax = max(np.max(np.abs(x)), np.max(np.abs(y)))\n",
    "    lim = (int(xymax/binwidth) + 1) * binwidth\n",
    "\n",
    "    bins = np.arange(-lim, lim + binwidth, binwidth)\n",
    "    ax_histx.hist(x, bins=bins)\n",
    "    ax_histy.hist(y, bins=bins, orientation='horizontal')"
   ]
  },
  {
   "cell_type": "code",
   "execution_count": 4,
   "metadata": {
    "slideshow": {
     "slide_type": "slide"
    }
   },
   "outputs": [
    {
     "data": {
      "image/png": "[encoded data removed]",
      "text/plain": [
       "<Figure size 576x576 with 3 Axes>"
      ]
     },
     "metadata": {
      "needs_background": "light"
     },
     "output_type": "display_data"
    }
   ],
   "source": [
    "# definitions for the axes\n",
    "left, width = 0.1, 0.65\n",
    "bottom, height = 0.1, 0.65\n",
    "spacing = 0.005\n",
    "\n",
    "\n",
    "rect_scatter = [left, bottom, width, height]\n",
    "rect_histx = [left, bottom + height + spacing, width, 0.2]\n",
    "rect_histy = [left + width + spacing, bottom, 0.2, height]\n",
    "\n",
    "# start with a square Figure\n",
    "fig = plt.figure(figsize=(8, 8))\n",
    "\n",
    "ax = fig.add_axes(rect_scatter)\n",
    "ax_histx = fig.add_axes(rect_histx, sharex=ax)\n",
    "ax_histy = fig.add_axes(rect_histy, sharey=ax)\n",
    "\n",
    "# use the previously defined function\n",
    "scatter_hist(x, y, ax, ax_histx, ax_histy)\n",
    "\n",
    "plt.show()"
   ]
  },
  {
   "cell_type": "code",
   "execution_count": 5,
   "metadata": {
    "slideshow": {
     "slide_type": "slide"
    }
   },
   "outputs": [],
   "source": [
    "import numpy as np\n",
    "import matplotlib\n",
    "import matplotlib.pyplot as plt\n",
    "\n",
    "vegetables = [\"cucumber\", \"tomato\", \"lettuce\", \"asparagus\",\n",
    "              \"potato\", \"wheat\", \"barley\"]\n",
    "farmers = [\"Farmer Joe\", \"Upland Bros.\", \"Smith Gardening\",\n",
    "           \"Agrifun\", \"Organiculture\", \"BioGoods Ltd.\", \"Cornylee Corp.\"]\n",
    "\n",
    "harvest = np.array([[0.8, 2.4, 2.5, 3.9, 0.0, 4.0, 0.0],\n",
    "                    [2.4, 0.0, 4.0, 1.0, 2.7, 0.0, 0.0],\n",
    "                    [1.1, 2.4, 0.8, 4.3, 1.9, 4.4, 0.0],\n",
    "                    [0.6, 0.0, 0.3, 0.0, 3.1, 0.0, 0.0],\n",
    "                    [0.7, 1.7, 0.6, 2.6, 2.2, 6.2, 0.0],\n",
    "                    [1.3, 1.2, 0.0, 0.0, 0.0, 3.2, 5.1],\n",
    "                    [0.1, 2.0, 0.0, 1.4, 0.0, 1.9, 6.3]])"
   ]
  },
  {
   "cell_type": "code",
   "execution_count": 6,
   "metadata": {
    "slideshow": {
     "slide_type": "slide"
    }
   },
   "outputs": [
    {
     "data": {
      "image/png": "[encoded data removed]",
      "text/plain": [
       "<Figure size 576x576 with 1 Axes>"
      ]
     },
     "metadata": {
      "needs_background": "light"
     },
     "output_type": "display_data"
    }
   ],
   "source": [
    "fig, ax = plt.subplots(figsize=(8,8))\n",
    "im = ax.imshow(harvest)\n",
    "\n",
    "# We want to show all ticks...\n",
    "ax.set_xticks(np.arange(len(farmers)))\n",
    "ax.set_yticks(np.arange(len(vegetables)))\n",
    "# ... and label them with the respective list entries\n",
    "ax.set_xticklabels(farmers)\n",
    "ax.set_yticklabels(vegetables)\n",
    "\n",
    "# Rotate the tick labels and set their alignment.\n",
    "plt.setp(ax.get_xticklabels(), rotation=45, ha=\"right\",\n",
    "         rotation_mode=\"anchor\")\n",
    "\n",
    "# Loop over data dimensions and create text annotations.\n",
    "for i in range(len(vegetables)):\n",
    "    for j in range(len(farmers)):\n",
    "        text = ax.text(j, i, harvest[i, j],\n",
    "                       ha=\"center\", va=\"center\", color=\"w\")\n",
    "\n",
    "ax.set_title(\"Harvest of local farmers (in tons/year)\")\n",
    "fig.tight_layout()\n",
    "plt.show()"
   ]
  },
  {
   "cell_type": "markdown",
   "metadata": {
    "slideshow": {
     "slide_type": "slide"
    }
   },
   "source": [
    "#  Matrices, Ecuaciones y Ciencia\n",
    "## Librerías\n",
    "* numpy\n",
    "* scipy"
   ]
  },
  {
   "cell_type": "markdown",
   "metadata": {
    "slideshow": {
     "slide_type": "slide"
    }
   },
   "source": [
    "¿Cuál es la diferencia? \n",
    "* **numpy**: Permite definir vectores, matrices y arreglos multidimensionales de datos.\n",
    "* **scipy**: Corresponde a la implementación numérica de diversos algoritmos de corte científicos: algebra lineal, estadística, ecuaciones diferenciales ordinarias, interpolacion, integracion, optimización, análisis de señales, entre otros.\n",
    "\n",
    "#### OBSERVACIÓN IMPORTANTE:\n",
    "Las matrices y arrays de numpy deben contener variables con el mismo tipo de datos: sólo enteros, sólo flotantes, sólo complejos, sólo booleanos o sólo strings. La uniformicidad de los datos es lo que permite acelerar los cálculos con implementaciones en C a bajo nivel."
   ]
  },
  {
   "cell_type": "markdown",
   "metadata": {
    "slideshow": {
     "slide_type": "slide"
    }
   },
   "source": [
    "##### ¿Porqué numpy?\n",
    "\n",
    "Python no tiene operaciones matemáticas para vectores o matrices. "
   ]
  },
  {
   "cell_type": "code",
   "execution_count": null,
   "metadata": {
    "slideshow": {
     "slide_type": "fragment"
    }
   },
   "outputs": [],
   "source": [
    "x = [2, 3, 4, 5, 6]"
   ]
  },
  {
   "cell_type": "code",
   "execution_count": null,
   "metadata": {
    "slideshow": {
     "slide_type": "fragment"
    }
   },
   "outputs": [],
   "source": [
    "x + 2"
   ]
  },
  {
   "cell_type": "code",
   "execution_count": null,
   "metadata": {
    "slideshow": {
     "slide_type": "fragment"
    }
   },
   "outputs": [],
   "source": [
    "y = [a + 2 for a in x]\n",
    "y"
   ]
  },
  {
   "cell_type": "code",
   "execution_count": null,
   "metadata": {
    "slideshow": {
     "slide_type": "slide"
    }
   },
   "outputs": [],
   "source": [
    "# En cambio numpy...\n",
    "import numpy as np\n",
    "x = np.array([2, 3, 4, 5, 6])\n",
    "x"
   ]
  },
  {
   "cell_type": "code",
   "execution_count": null,
   "metadata": {
    "slideshow": {
     "slide_type": "fragment"
    }
   },
   "outputs": [],
   "source": [
    "y = x + 2\n",
    "y"
   ]
  },
  {
   "cell_type": "markdown",
   "metadata": {
    "slideshow": {
     "slide_type": "slide"
    }
   },
   "source": [
    "¡El caso de las matrices es peor!"
   ]
  },
  {
   "cell_type": "code",
   "execution_count": null,
   "metadata": {
    "slideshow": {
     "slide_type": "fragment"
    }
   },
   "outputs": [],
   "source": [
    "X = [[1, 2, 3], \n",
    "     [4, 5, 6]]\n",
    "X"
   ]
  },
  {
   "cell_type": "code",
   "execution_count": null,
   "metadata": {
    "slideshow": {
     "slide_type": "fragment"
    }
   },
   "outputs": [],
   "source": [
    "X*2 + 5"
   ]
  },
  {
   "cell_type": "code",
   "execution_count": null,
   "metadata": {
    "slideshow": {
     "slide_type": "fragment"
    }
   },
   "outputs": [],
   "source": [
    "# Muy ineficiente!!!\n",
    "Y = []\n",
    "for i in range(len(X)):\n",
    "    y_i = []\n",
    "    for j in range(len(X[i])):\n",
    "        y_i.append(2*X[i][j]+5)\n",
    "    Y.append(y_i)\n",
    "Y"
   ]
  },
  {
   "cell_type": "code",
   "execution_count": null,
   "metadata": {
    "slideshow": {
     "slide_type": "slide"
    }
   },
   "outputs": [],
   "source": [
    "# En cambio numpy... \n",
    "import numpy as np\n",
    "X = np.array([[1, 2, 3], \n",
    "     [4, 5, 6]])\n",
    "X"
   ]
  },
  {
   "cell_type": "code",
   "execution_count": null,
   "metadata": {
    "slideshow": {
     "slide_type": "fragment"
    }
   },
   "outputs": [],
   "source": [
    "X*2 + 5"
   ]
  },
  {
   "cell_type": "markdown",
   "metadata": {
    "slideshow": {
     "slide_type": "slide"
    }
   },
   "source": [
    "Numpy es como matlab, pero en python.\n",
    "\n",
    "Usar numpy no solo es más natural para trabajar con matrices y vectores, es muchísimo más eficiente (rápido)."
   ]
  },
  {
   "cell_type": "markdown",
   "metadata": {
    "slideshow": {
     "slide_type": "slide"
    }
   },
   "source": [
    "Es posible combinar funciones de numpy:"
   ]
  },
  {
   "cell_type": "code",
   "execution_count": null,
   "metadata": {
    "scrolled": true
   },
   "outputs": [],
   "source": [
    "x = np.linspace(0, 1, 101)\n",
    "y = np.exp(2*np.pi * np.sin(x))\n",
    "np.floor(y)"
   ]
  },
  {
   "cell_type": "markdown",
   "metadata": {
    "slideshow": {
     "slide_type": "slide"
    }
   },
   "source": [
    "En numpy hay muchos submódulos interesantes, entre otros, los que permiten generar números aleatorios:"
   ]
  },
  {
   "cell_type": "code",
   "execution_count": null,
   "metadata": {},
   "outputs": [],
   "source": [
    "t = np.random.randint(low=0, high=10+1, size=30)\n",
    "t"
   ]
  },
  {
   "cell_type": "code",
   "execution_count": null,
   "metadata": {},
   "outputs": [],
   "source": [
    "X_random = np.random.rand(4, 3)\n",
    "X_random"
   ]
  },
  {
   "cell_type": "code",
   "execution_count": null,
   "metadata": {},
   "outputs": [],
   "source": [
    "np.set_printoptions(precision=3)\n",
    "print(X_random)"
   ]
  },
  {
   "cell_type": "markdown",
   "metadata": {
    "slideshow": {
     "slide_type": "slide"
    }
   },
   "source": [
    "En scipy existen muchos submódulos específicos para ciencia:\n",
    "\n",
    "\n",
    "* `scipy.cluster`\tVector quantization / Kmeans\n",
    "* `scipy.constants`\tConstantes físicas y matemáticas\n",
    "* `scipy.fftpack`\tTransformadas de Fourier\n",
    "* `scipy.integrate`\tRutinas para integración\n",
    "* `scipy.interpolate`\tInterpolación\n",
    "* `scipy.io`\tEntrada y salida\n",
    "* `scipy.linalg`\tRutinas para algebra lineal\n",
    "* `scipy.ndimage`\tn-dimensional image package\n",
    "* `scipy.odr`\tOrthogonal distance regression\n",
    "* `scipy.optimize`\tOptimización\n",
    "* `scipy.signal`\tProcesamiento de señales\n",
    "* `scipy.sparse`\tMatrices dispersas\n",
    "* `scipy.spatial`\testructuras de datos espaciales y algoritmos\n",
    "* `scipy.special`\tFunciones matemáticas especiales\n",
    "* `scipy.stats`\tEstadística"
   ]
  },
  {
   "cell_type": "markdown",
   "metadata": {
    "slideshow": {
     "slide_type": "slide"
    }
   },
   "source": [
    "##### Array\n",
    "\n",
    "Un array de numpy es simplemente un \"contenedor\" multidimensional.\n",
    "\n",
    "**Pros**:\n",
    "* Es multidimensional: 1D, 2D, 3D, ...\n",
    "* Resulta consistente: todas las operaciones son element-wise a menos que se utilice una función específica.\n",
    "\n",
    "**Contras**:\n",
    "* Multiplicación maticial utiliza la función **dot()** o **@**"
   ]
  },
  {
   "cell_type": "code",
   "execution_count": null,
   "metadata": {
    "slideshow": {
     "slide_type": "slide"
    }
   },
   "outputs": [],
   "source": [
    "# Operaciones con np.matrix\n",
    "A = np.array([[1,2],[3,4]])\n",
    "B = np.array([[1, 1],[0,1.01]], dtype=float)\n",
    "x = np.array([1,2]) # No hay necesidad de definir como fila o columna!\n",
    "print(\"A =\\n\", A)\n",
    "print(\"B =\\n\", B)\n",
    "print(\"x =\\n\", x)\n",
    "\n",
    "print(\"A+B =\\n\", A+B)\n",
    "print(\"AoB = (multiplicacion elementwise) \\n\", A*B)\n",
    "print(\"A*B = (multiplicacion matricial, v1) \\n\", np.dot(A,B))\n",
    "print(\"A*B = (multiplicacion matricial, v2) \\n\", A.dot(B))\n",
    "print(\"A*B = (multiplicacion matricial, v3) \\n\", A @ B)\n",
    "print(\"A*A = A^2 = (potencia matricial)\\n\", np.linalg.matrix_power(A,2))\n",
    "print(\"AoA = (potencia elementwise)\\n\", A**2)\n",
    "print(\"A*x =\\n\", np.dot(A,x))\n",
    "print(\"x.T*A =\\n\", np.dot(x,A)) # No es necesario transponer."
   ]
  },
  {
   "cell_type": "markdown",
   "metadata": {
    "slideshow": {
     "slide_type": "slide"
    }
   },
   "source": [
    "## Ecuaciones\n",
    "\n",
    "Para resolver un sistema de ecuaciones usamos numpy y scipy:\n",
    "\n",
    "$$\n",
    "x + y + z = 1 \\\\\n",
    "x - y + z = 2 \\\\\n",
    "x + y - z = 3 \\\\\n",
    "$$"
   ]
  },
  {
   "cell_type": "code",
   "execution_count": null,
   "metadata": {},
   "outputs": [],
   "source": [
    "# Importar las librerías\n",
    "import numpy as np\n",
    "from scipy.linalg import solve\n",
    "\n",
    "# define matrix A using Numpy arrays\n",
    "A = np.array([[1, 1, 1],\n",
    "              [1,-1, 1],\n",
    "              [1, 1,-1]])\n",
    "\n",
    "#define matrix B\n",
    "b = np.array([1, 2, 3]) \n",
    "\n",
    "# linalg.solve is the function of NumPy to solve a system of linear scalar equations\n",
    "x = np.linalg.solve(A, b)\n",
    "print(\"Solución:\\n\", x)"
   ]
  },
  {
   "cell_type": "markdown",
   "metadata": {
    "slideshow": {
     "slide_type": "slide"
    }
   },
   "source": [
    "Verifiquemos la solución"
   ]
  },
  {
   "cell_type": "code",
   "execution_count": null,
   "metadata": {},
   "outputs": [],
   "source": [
    "# Verifiquemos\n",
    "print(\"A*x=\", A@x)"
   ]
  },
  {
   "cell_type": "markdown",
   "metadata": {
    "slideshow": {
     "slide_type": "slide"
    }
   },
   "source": [
    "También es posible calcular la matriz inversa y multiplicar, pero para sistemas de ecuaciones grandes es muy ineficiente."
   ]
  },
  {
   "cell_type": "code",
   "execution_count": null,
   "metadata": {},
   "outputs": [],
   "source": [
    "from scipy.linalg import inv\n",
    "# Invertir explícitamente una matrix\n",
    "A_inv = inv(A)\n",
    "print(\"A^{-1}=\\n\", A_inv)\n",
    "print(\"A^{-1} * x =\\n\", A_inv @ b)"
   ]
  },
  {
   "cell_type": "markdown",
   "metadata": {
    "slideshow": {
     "slide_type": "slide"
    }
   },
   "source": [
    "Ejemplo para clases:\n",
    "\n",
    "![ecuacionmemistica](images/ecuacion.jpg)"
   ]
  },
  {
   "cell_type": "code",
   "execution_count": null,
   "metadata": {
    "slideshow": {
     "slide_type": "slide"
    }
   },
   "outputs": [],
   "source": [
    "# Solución\n",
    "import numpy as np\n",
    "from scipy.linalg import solve\n",
    "\n",
    "# Buscaremos resover x = [manzana, banana, coco]\n",
    "\n",
    "# define matrix A using Numpy arrays\n",
    "A = np.array([[3, 0, 0],\n",
    "              [1, 8, 0],\n",
    "              [0, 4,-2]])\n",
    "\n",
    "#define matrix B\n",
    "b = np.array([30, 18, 2]) \n",
    "\n",
    "# linalg.solve is the function of NumPy to solve a system of linear scalar equations\n",
    "x = np.linalg.solve(A, b)\n",
    "print(\"Valores individuales:\\n\", x)\n",
    "print(\"Solución:\\n\", np.dot(x, np.array([1,3,1])))\n"
   ]
  },
  {
   "cell_type": "markdown",
   "metadata": {
    "slideshow": {
     "slide_type": "slide"
    }
   },
   "source": [
    "## Tips\n",
    "* La práctica y la necesidad hace al maestro.\n",
    "\n",
    "* Preguntar: en línea y en persona, pero tratar de solucionar los problemas antes.\n",
    "\n",
    "## Enlaces útiles:\n",
    "* http://www.labri.fr/perso/nrougier/teaching/numpy.100/ : Lista con 100 recetas prácticas."
   ]
  },
  {
   "cell_type": "markdown",
   "metadata": {
    "slideshow": {
     "slide_type": "slide"
    }
   },
   "source": [
    "#  Análisis de Datos\n",
    "## Librerías\n",
    "* pandas"
   ]
  },
  {
   "cell_type": "markdown",
   "metadata": {
    "slideshow": {
     "slide_type": "slide"
    }
   },
   "source": [
    "El nombre de la librería pandas viene de \"Panel Data\". \n",
    "\n",
    "¡Gran parte del éxito de python en Data Science es atribuible a esta librería!\n",
    "\n",
    "###### Instalación\n",
    "```bash\n",
    "pip install pandas\n",
    "```\n",
    "\n",
    "###### Utilización\n",
    "```python\n",
    "from pandas import dataframe\n",
    "```"
   ]
  },
  {
   "cell_type": "markdown",
   "metadata": {
    "slideshow": {
     "slide_type": "slide"
    }
   },
   "source": [
    "## Aprender haciendo\n",
    "\n",
    "Consideraremos el siguiente archivo `data.csv` que contiene datos incompletos:"
   ]
  },
  {
   "cell_type": "code",
   "execution_count": null,
   "metadata": {},
   "outputs": [],
   "source": [
    "%%bash\n",
    "cat data/data.csv"
   ]
  },
  {
   "cell_type": "markdown",
   "metadata": {
    "slideshow": {
     "slide_type": "slide"
    }
   },
   "source": [
    "#### ¿Porqué utilizar pandas?\n",
    "\n",
    "Porque en numpy no es posible mezclar tipos de datos, lo cual complica cargar, usar, limpiar y guardar datos mixtos.\n",
    "Trabajar con pandas permite automatizar procesamiento de datos, como se haría en excel, pero todo desde python."
   ]
  },
  {
   "cell_type": "code",
   "execution_count": null,
   "metadata": {
    "slideshow": {
     "slide_type": "slide"
    }
   },
   "outputs": [],
   "source": [
    "import numpy as np\n",
    "df = np.loadtxt(\"data/data.csv\", delimiter=\";\", dtype=str)\n",
    "print( df )"
   ]
  },
  {
   "cell_type": "code",
   "execution_count": 9,
   "metadata": {
    "slideshow": {
     "slide_type": "slide"
    }
   },
   "outputs": [
    {
     "ename": "ModuleNotFoundError",
     "evalue": "No module named 'pandas'",
     "output_type": "error",
     "traceback": [
      "\u001b[0;31m---------------------------------------------------------------------------\u001b[0m",
      "\u001b[0;31mModuleNotFoundError\u001b[0m                       Traceback (most recent call last)",
      "\u001b[0;32m/tmp/ipykernel_20567/1418217510.py\u001b[0m in \u001b[0;36m<module>\u001b[0;34m\u001b[0m\n\u001b[0;32m----> 1\u001b[0;31m \u001b[0;32mimport\u001b[0m \u001b[0mpandas\u001b[0m \u001b[0;32mas\u001b[0m \u001b[0mpd\u001b[0m\u001b[0;34m\u001b[0m\u001b[0;34m\u001b[0m\u001b[0m\n\u001b[0m\u001b[1;32m      2\u001b[0m \u001b[0mdf\u001b[0m \u001b[0;34m=\u001b[0m \u001b[0mpd\u001b[0m\u001b[0;34m.\u001b[0m\u001b[0mread_csv\u001b[0m\u001b[0;34m(\u001b[0m\u001b[0;34m\"data/data.csv\"\u001b[0m\u001b[0;34m,\u001b[0m \u001b[0msep\u001b[0m\u001b[0;34m=\u001b[0m\u001b[0;34m\";\"\u001b[0m\u001b[0;34m)\u001b[0m\u001b[0;34m\u001b[0m\u001b[0;34m\u001b[0m\u001b[0m\n\u001b[1;32m      3\u001b[0m \u001b[0mdf\u001b[0m\u001b[0;34m\u001b[0m\u001b[0;34m\u001b[0m\u001b[0m\n",
      "\u001b[0;31mModuleNotFoundError\u001b[0m: No module named 'pandas'"
     ]
    }
   ],
   "source": [
    "import pandas as pd\n",
    "df = pd.read_csv(\"data/data.csv\", sep=\";\")\n",
    "df"
   ]
  },
  {
   "cell_type": "code",
   "execution_count": 10,
   "metadata": {},
   "outputs": [
    {
     "name": "stdout",
     "output_type": "stream",
     "text": [
      "Collecting pandas\n",
      "  Using cached pandas-1.4.2-cp38-cp38-manylinux_2_17_x86_64.manylinux2014_x86_64.whl (11.7 MB)\n",
      "Requirement already satisfied: numpy>=1.18.5 in /home/sofia/github/pycon_ar/env/lib/python3.8/site-packages (from pandas) (1.21.2)\n",
      "Requirement already satisfied: python-dateutil>=2.8.1 in /home/sofia/github/pycon_ar/env/lib/python3.8/site-packages (from pandas) (2.8.2)\n",
      "Collecting pytz>=2020.1\n",
      "  Using cached pytz-2022.1-py2.py3-none-any.whl (503 kB)\n",
      "Requirement already satisfied: six>=1.5 in /home/sofia/github/pycon_ar/env/lib/python3.8/site-packages (from python-dateutil>=2.8.1->pandas) (1.16.0)\n",
      "Installing collected packages: pytz, pandas\n",
      "Successfully installed pandas-1.4.2 pytz-2022.1\n",
      "\u001b[33mWARNING: You are using pip version 21.2.4; however, version 22.0.4 is available.\n",
      "You should consider upgrading via the '/home/sofia/github/pycon_ar/env/bin/python -m pip install --upgrade pip' command.\u001b[0m\n",
      "Note: you may need to restart the kernel to use updated packages.\n"
     ]
    }
   ],
   "source": [
    "pip install pandas"
   ]
  },
  {
   "cell_type": "markdown",
   "metadata": {
    "slideshow": {
     "slide_type": "slide"
    }
   },
   "source": [
    "Manipulemos el dataframe para convertir unidades y arreglar el contenido."
   ]
  },
  {
   "cell_type": "code",
   "execution_count": null,
   "metadata": {
    "slideshow": {
     "slide_type": "-"
    }
   },
   "outputs": [],
   "source": [
    "inch2m = 0.0254\n",
    "feet2m = 0.3048\n",
    "df.diametro = df.diametro * inch2m\n",
    "df.altura = df.altura * feet2m\n",
    "df.volumen = df.volumen * (feet2m**3)\n",
    "df.tipo_de_arbol = \"Cherry Tree\"\n",
    "df"
   ]
  },
  {
   "cell_type": "code",
   "execution_count": null,
   "metadata": {
    "slideshow": {
     "slide_type": "slide"
    }
   },
   "outputs": [],
   "source": [
    "print( df.columns )"
   ]
  },
  {
   "cell_type": "code",
   "execution_count": null,
   "metadata": {
    "slideshow": {
     "slide_type": "slide"
    }
   },
   "outputs": [],
   "source": [
    "df.index"
   ]
  },
  {
   "cell_type": "code",
   "execution_count": null,
   "metadata": {
    "slideshow": {
     "slide_type": "slide"
    }
   },
   "outputs": [],
   "source": [
    "df[\"diametro\"]**2 * df[\"altura\"] / df.volumen"
   ]
  },
  {
   "cell_type": "markdown",
   "metadata": {
    "slideshow": {
     "slide_type": "slide"
    }
   },
   "source": [
    "#### Lectura y escriturra de datos\n",
    "  1. **Archivo csv**: `pd.read_csv` y `pd.to_csv`\n",
    "  1. **Archivo de excel** `pd.read_excel` y `pd.to_excel`\n",
    "  1. **Archivo json** `pd.read_json` y `pd.to_json`"
   ]
  },
  {
   "cell_type": "markdown",
   "metadata": {
    "slideshow": {
     "slide_type": "slide"
    }
   },
   "source": [
    "#### Inspeccionando datos\n",
    " 1. Accesando las columnas\n",
    " 1. shape\n",
    " 1. head, tail, describe\n",
    " 1. histogram\n",
    " 1. pd.scatter_matrix\n",
    " 1. count_values"
   ]
  },
  {
   "cell_type": "code",
   "execution_count": 7,
   "metadata": {
    "slideshow": {
     "slide_type": "slide"
    }
   },
   "outputs": [
    {
     "ename": "NameError",
     "evalue": "name 'pd' is not defined",
     "output_type": "error",
     "traceback": [
      "\u001b[0;31m---------------------------------------------------------------------------\u001b[0m",
      "\u001b[0;31mNameError\u001b[0m                                 Traceback (most recent call last)",
      "\u001b[0;32m/tmp/ipykernel_20567/3274408022.py\u001b[0m in \u001b[0;36m<module>\u001b[0;34m\u001b[0m\n\u001b[0;32m----> 1\u001b[0;31m \u001b[0mdf\u001b[0m \u001b[0;34m=\u001b[0m \u001b[0mpd\u001b[0m\u001b[0;34m.\u001b[0m\u001b[0mread_csv\u001b[0m\u001b[0;34m(\u001b[0m\u001b[0;34m\"data/data.csv\"\u001b[0m\u001b[0;34m,\u001b[0m \u001b[0msep\u001b[0m\u001b[0;34m=\u001b[0m\u001b[0;34m\";\"\u001b[0m\u001b[0;34m)\u001b[0m\u001b[0;34m\u001b[0m\u001b[0;34m\u001b[0m\u001b[0m\n\u001b[0m\u001b[1;32m      2\u001b[0m \u001b[0mdf\u001b[0m\u001b[0;34m.\u001b[0m\u001b[0mcolumns\u001b[0m\u001b[0;34m\u001b[0m\u001b[0;34m\u001b[0m\u001b[0m\n",
      "\u001b[0;31mNameError\u001b[0m: name 'pd' is not defined"
     ]
    }
   ],
   "source": [
    "df = pd.read_csv(\"data/data.csv\", sep=\";\")\n",
    "df.columns"
   ]
  },
  {
   "cell_type": "code",
   "execution_count": null,
   "metadata": {
    "scrolled": true,
    "slideshow": {
     "slide_type": "slide"
    }
   },
   "outputs": [],
   "source": [
    "df['altura']"
   ]
  },
  {
   "cell_type": "code",
   "execution_count": null,
   "metadata": {
    "slideshow": {
     "slide_type": "slide"
    }
   },
   "outputs": [],
   "source": [
    "df.shape"
   ]
  },
  {
   "cell_type": "code",
   "execution_count": null,
   "metadata": {
    "slideshow": {
     "slide_type": "slide"
    }
   },
   "outputs": [],
   "source": [
    "df.head()"
   ]
  },
  {
   "cell_type": "code",
   "execution_count": null,
   "metadata": {
    "slideshow": {
     "slide_type": "slide"
    }
   },
   "outputs": [],
   "source": [
    "df.tail()"
   ]
  },
  {
   "cell_type": "code",
   "execution_count": null,
   "metadata": {
    "slideshow": {
     "slide_type": "slide"
    }
   },
   "outputs": [],
   "source": [
    "df.describe()"
   ]
  },
  {
   "cell_type": "code",
   "execution_count": null,
   "metadata": {
    "slideshow": {
     "slide_type": "slide"
    }
   },
   "outputs": [],
   "source": [
    "df.describe(include=\"all\")"
   ]
  },
  {
   "cell_type": "code",
   "execution_count": null,
   "metadata": {
    "slideshow": {
     "slide_type": "slide"
    }
   },
   "outputs": [],
   "source": [
    "df.describe(include=\"all\").fillna(\"\").T"
   ]
  },
  {
   "cell_type": "code",
   "execution_count": null,
   "metadata": {
    "slideshow": {
     "slide_type": "slide"
    }
   },
   "outputs": [],
   "source": [
    "from matplotlib import pyplot as plt\n",
    "df.hist(figsize=(10,10), layout=(3,1))\n",
    "plt.show()"
   ]
  },
  {
   "cell_type": "code",
   "execution_count": null,
   "metadata": {
    "slideshow": {
     "slide_type": "slide"
    }
   },
   "outputs": [],
   "source": [
    "from matplotlib import pyplot as plt\n",
    "pd.plotting.scatter_matrix(df, figsize=(10,10), range_padding=0.2)\n",
    "plt.show()"
   ]
  },
  {
   "cell_type": "code",
   "execution_count": null,
   "metadata": {
    "slideshow": {
     "slide_type": "slide"
    }
   },
   "outputs": [],
   "source": [
    "df.tipo_de_arbol.value_counts()"
   ]
  },
  {
   "cell_type": "markdown",
   "metadata": {
    "slideshow": {
     "slide_type": "slide"
    }
   },
   "source": [
    "#### Otras operaciones\n",
    "   1. Agregando columnas\n",
    "   2. Borrando columnas\n",
    "   3. Agregando filas\n",
    "   4. Borrando filas\n",
    "   5. Mask\n",
    "   6. Grouping\n",
    "   7. Imputación de datos\n",
    "   8. Apply\n",
    "   9. Merge (a la SQL)"
   ]
  },
  {
   "cell_type": "markdown",
   "metadata": {
    "slideshow": {
     "slide_type": "slide"
    }
   },
   "source": [
    "##### Merge: Uniendo tablas (como en SQL)"
   ]
  },
  {
   "cell_type": "code",
   "execution_count": null,
   "metadata": {},
   "outputs": [],
   "source": [
    "df1 = pd.read_csv(\"data/data.csv\", sep=\";\")\n",
    "df1"
   ]
  },
  {
   "cell_type": "code",
   "execution_count": null,
   "metadata": {
    "slideshow": {
     "slide_type": "slide"
    }
   },
   "outputs": [],
   "source": [
    "df2 = pd.DataFrame(data={\"tipo_de_arbol\":[\"Cherry Tree\", \"Apple Tree\", \"Pear Tree\"], \n",
    "                         \"fruto\":[\"guinda\",\"manzana\", \"pera\"], \n",
    "                         \"precio_pesos_por_kg\":[500, 2000, np.nan]})\n",
    "df2"
   ]
  },
  {
   "cell_type": "code",
   "execution_count": null,
   "metadata": {
    "slideshow": {
     "slide_type": "slide"
    }
   },
   "outputs": [],
   "source": [
    "df3 = df1.merge(df2, how=\"left\", on=\"tipo_de_arbol\")\n",
    "print(df3.shape)\n",
    "df3"
   ]
  },
  {
   "cell_type": "markdown",
   "metadata": {
    "slideshow": {
     "slide_type": "slide"
    }
   },
   "source": [
    "#  Machine Learning\n",
    "## Librerías\n",
    "* sklearn"
   ]
  },
  {
   "cell_type": "markdown",
   "metadata": {
    "slideshow": {
     "slide_type": "slide"
    }
   },
   "source": [
    "La librería sklearn (scikit learn - _\"scientific kit for machine learning\"_) es una librería para entrenar modelos de Machine Learning desde python. ¡Tienes el poder de los últimos algoritmos, listos para entrenar en tu computador!\n",
    "Está construída para interactuar con numpy, pandas, scipy y matplotlib.\n",
    "\n",
    "###### Instalación\n",
    "```bash\n",
    "pip install -U scikit-learn\n",
    "```\n",
    "\n",
    "###### Utilización\n",
    "```python\n",
    "from sklearn import datasets\n",
    "```\n",
    "\n",
    "Observación: \n",
    "\n",
    "Notar que el nombre de la librería al instalar **es distinto** a la librería que se ejecuta. ¡Suele ser una confusión común!"
   ]
  },
  {
   "cell_type": "code",
   "execution_count": null,
   "metadata": {
    "slideshow": {
     "slide_type": "slide"
    }
   },
   "outputs": [],
   "source": [
    "from sklearn.datasets import make_moons\n",
    "\n",
    "# Obtener dataset (datos)\n",
    "X, y = make_moons(noise=0.3, random_state=0)"
   ]
  },
  {
   "cell_type": "code",
   "execution_count": null,
   "metadata": {},
   "outputs": [],
   "source": [
    "X[:5]"
   ]
  },
  {
   "cell_type": "code",
   "execution_count": null,
   "metadata": {},
   "outputs": [],
   "source": [
    "y[:5]"
   ]
  },
  {
   "cell_type": "code",
   "execution_count": null,
   "metadata": {},
   "outputs": [],
   "source": [
    "from sklearn.model_selection import train_test_split\n",
    "\n",
    "X_train, X_test, y_train, y_test = train_test_split(X, y, test_size=0.2, random_state=42)"
   ]
  },
  {
   "cell_type": "code",
   "execution_count": null,
   "metadata": {
    "slideshow": {
     "slide_type": "slide"
    }
   },
   "outputs": [],
   "source": [
    "import matplotlib.pyplot as plt\n",
    "\n",
    "plt.figure(figsize=(18,6))\n",
    "ax = plt.subplot(1, 3, 1)\n",
    "ax.scatter(X_train[:, 0], X_train[:, 1], c=y_train)\n",
    "ax.set_title(\"Dataset Completo\")\n",
    "ax = plt.subplot(1, 3, 2)\n",
    "ax.scatter(X_train[:, 0], X_train[:, 1], c=y_train)\n",
    "ax.set_title(\"Dataset Entrenamiento\")\n",
    "ax = plt.subplot(1, 3, 3)\n",
    "ax.scatter(X_test[:, 0], X_test[:, 1], c=y_test)\n",
    "ax.set_title(\"Dataset Test\")\n",
    "print(X.shape, X_train.shape, X_test.shape)\n",
    "print(y.shape, y_train.shape, y_test.shape)"
   ]
  },
  {
   "cell_type": "code",
   "execution_count": null,
   "metadata": {
    "slideshow": {
     "slide_type": "slide"
    }
   },
   "outputs": [],
   "source": [
    "from sklearn.neighbors import KNeighborsClassifier\n",
    "\n",
    "# Inicializar con metaparámetros\n",
    "clf = KNeighborsClassifier(n_neighbors=3)\n",
    "\n",
    "# Entrenar el modelo\n",
    "clf.fit(X_train, y_train)\n",
    "\n",
    "# Evaluar el modelo\n",
    "score = clf.score(X_test, y_test)\n",
    "print(score)"
   ]
  },
  {
   "cell_type": "code",
   "execution_count": null,
   "metadata": {},
   "outputs": [],
   "source": [
    "help(clf.score)"
   ]
  },
  {
   "cell_type": "code",
   "execution_count": null,
   "metadata": {
    "slideshow": {
     "slide_type": "slide"
    }
   },
   "outputs": [],
   "source": [
    "# Predecir: -1 a 2, -1 a 2\n",
    "x_desconocido = np.array([[1.0, 1.0]])\n",
    "y_predicho = clf.predict(x_desconocido)\n",
    "y_predicho"
   ]
  },
  {
   "cell_type": "markdown",
   "metadata": {
    "slideshow": {
     "slide_type": "slide"
    }
   },
   "source": [
    "¿Cómo es la predicción en cada punto? \n",
    "\n",
    "¡Podemos graficar para averiguarlo!"
   ]
  },
  {
   "cell_type": "code",
   "execution_count": null,
   "metadata": {},
   "outputs": [],
   "source": [
    "x1_min, x1_max = X[:, 0].min() - 0.5, X[:, 0].max() + 0.5\n",
    "x2_min, x2_max = X[:, 1].min() - 0.5, X[:, 1].max() + 0.5\n",
    "h = 0.20\n",
    "X1, X2 = np.meshgrid(np.arange(x1_min, x1_max, h), np.arange(x1_min, x2_max, h))\n",
    "X = np.c_[X1.ravel(), X2.ravel()]\n",
    "y = clf.predict(X)"
   ]
  },
  {
   "cell_type": "code",
   "execution_count": null,
   "metadata": {},
   "outputs": [],
   "source": [
    "plt.figure(figsize=(6,6))\n",
    "ax = plt.subplot(1, 1, 1)\n",
    "ax.scatter(X[:, 0], X[:, 1], c=y)"
   ]
  },
  {
   "cell_type": "markdown",
   "metadata": {
    "slideshow": {
     "slide_type": "slide"
    }
   },
   "source": [
    "Acá hemos probado el método de Nearest Neighbors, pero en sklearn existen muchísimos más:\n",
    "* Árboles de Decisión: DecisionTreeClassifier\n",
    "* Random Forests: RandomForestClassifier\n",
    "* Redes neuronales: MLPClassifier\n",
    "* AdaBoost: AdaBoostClassifier\n",
    "* y muchos otros...\n",
    "\n",
    "Nuevamente, la librería tiene una galería de ejemplos: https://scikit-learn.org/stable/auto_examples/index.html"
   ]
  }
 ],
 "metadata": {
  "celltoolbar": "Slideshow",
  "kernelspec": {
   "display_name": "Python 3 (ipykernel)",
   "language": "python",
   "name": "python3"
  },
  "language_info": {
   "codemirror_mode": {
    "name": "ipython",
    "version": 3
   },
   "file_extension": ".py",
   "mimetype": "text/x-python",
   "name": "python",
   "nbconvert_exporter": "python",
   "pygments_lexer": "ipython3",
   "version": "3.8.10"
  },
  "rise": {
   "autolaunch": false,
   "enable_chalkboard": false,
   "theme": "simple",
   "transition": "slide"
  }
 },
 "nbformat": 4,
 "nbformat_minor": 4
}
