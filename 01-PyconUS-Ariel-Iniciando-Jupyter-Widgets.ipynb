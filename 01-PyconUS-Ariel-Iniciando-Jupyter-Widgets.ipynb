{
 "cells": [
  {
   "cell_type": "markdown",
   "metadata": {
    "slideshow": {
     "slide_type": "slide"
    }
   },
   "source": [
    "\n",
    "![banner](images/banner.png)\n",
    "<img src=\"images/pyconus2022-logo.png\" alt=\"drawing\" width=\"200\"/>\n",
    "### Python + VPS Jupyter HUB/Notebook, aprender, enseñar, investigar, trabajar de manera colaborativa, remota y presencial\n",
    "#### Fecha: 30 de Abril , 1.45 a 2.30 hs. pm\n",
    "####  Sofía Martin, Ariel Ramos, Liliana Hurtado, Enzo Juárez"
   ]
  },
  {
   "cell_type": "markdown",
   "metadata": {
    "slideshow": {
     "slide_type": "slide"
    }
   },
   "source": [
    "### Parte 2 - Conociendo Jupyter\n",
    "\n",
    "**Expectativa**: Al final de esta sección de la charla, conocerán Jupyter y podrán editar texto y ejecutar celdas de código."
   ]
  },
  {
   "cell_type": "markdown",
   "metadata": {},
   "source": [
    "> La Tecnologia hoy en dia nos da una dinamica para llevar adelante los pocesos de enseñanza y Aprendizaje en Base a Proyectos o Desafios Tangibles (ABP - M.Conde)\n",
    "\n",
    "* Componentes relacionados aplicados a un contenido por enseñar: \n",
    "\n",
    "* Lenguaje de Programacion + Entorno de Trabajo (FrameWork) + Infraestructura -> CONTENIDO a enseñar (Funcion principal)\n",
    "\n",
    "## Descartes: sepamos recorrer desde lo simple, hasta todo lo complejo que podamos llegar...\n",
    "\n",
    "Python + Project Jupyter + VPS (Servidor Virtual Privado) aplicados al contenido (Profesor o Maestro o el Experto en un tema)\n",
    "\n",
    "Links que siginifica cada uno\n",
    "\n",
    "Esta es la principal razon para trabajar en equipo, interdisciplinario\n",
    "\n",
    "> Esto es el porque del Proyecto\n",
    "\n",
    "Aplica tanto el Modo Remoto como Presencial\n"
   ]
  },
  {
   "cell_type": "markdown",
   "metadata": {},
   "source": [
    "# Ejercicio de Ejemplo"
   ]
  },
  {
   "cell_type": "markdown",
   "metadata": {},
   "source": [
    "## Usando librerías o módulos Python en Jupyter\n",
    "\n",
    "También es posible usar librerías de Python en Jupyter. Para ello, basta importarlas como se haría normalmente en Python."
   ]
  },
  {
   "cell_type": "code",
   "execution_count": 2,
   "metadata": {},
   "outputs": [],
   "source": [
    "import numpy as np"
   ]
  },
  {
   "cell_type": "markdown",
   "metadata": {},
   "source": [
    "A continuación, a modo de ejemplo, usaremos la librería `numpy` y el método `linspace` para explicar el concepto de función, dominio y codominio y luego hacer su grafica."
   ]
  },
  {
   "cell_type": "markdown",
   "metadata": {},
   "source": [
    "## Definimos el DOMINIO de una FUNCION\n",
    "    - realizamos la busqueda de informacion en la web para agregar las definiciones de:\n",
    "    - dominio, codominio, funciones matematicas, grafica"
   ]
  },
  {
   "cell_type": "code",
   "execution_count": 3,
   "metadata": {},
   "outputs": [],
   "source": [
    "\n",
    "N = 55\n",
    "X = np.linspace(-5, 5, N) # -5 limite inferior, 5 limite superior, N cantidad de puntos a generar"
   ]
  },
  {
   "cell_type": "markdown",
   "metadata": {},
   "source": [
    "## Mostramos los valores\n"
   ]
  },
  {
   "cell_type": "code",
   "execution_count": 7,
   "metadata": {},
   "outputs": [
    {
     "name": "stdout",
     "output_type": "stream",
     "text": [
      "[-5.         -4.81481481 -4.62962963 -4.44444444 -4.25925926 -4.07407407\n",
      " -3.88888889 -3.7037037  -3.51851852 -3.33333333 -3.14814815 -2.96296296\n",
      " -2.77777778 -2.59259259 -2.40740741 -2.22222222 -2.03703704 -1.85185185\n",
      " -1.66666667 -1.48148148 -1.2962963  -1.11111111 -0.92592593 -0.74074074\n",
      " -0.55555556 -0.37037037 -0.18518519  0.          0.18518519  0.37037037\n",
      "  0.55555556  0.74074074  0.92592593  1.11111111  1.2962963   1.48148148\n",
      "  1.66666667  1.85185185  2.03703704  2.22222222  2.40740741  2.59259259\n",
      "  2.77777778  2.96296296  3.14814815  3.33333333  3.51851852  3.7037037\n",
      "  3.88888889  4.07407407  4.25925926  4.44444444  4.62962963  4.81481481\n",
      "  5.        ]\n"
     ]
    }
   ],
   "source": [
    "print(X)"
   ]
  },
  {
   "cell_type": "markdown",
   "metadata": {},
   "source": [
    "Para ver el contenido de las variables ¿es necesario poner **print**?"
   ]
  },
  {
   "cell_type": "code",
   "execution_count": 8,
   "metadata": {},
   "outputs": [
    {
     "data": {
      "text/plain": [
       "array([-5.        , -4.81481481, -4.62962963, -4.44444444, -4.25925926,\n",
       "       -4.07407407, -3.88888889, -3.7037037 , -3.51851852, -3.33333333,\n",
       "       -3.14814815, -2.96296296, -2.77777778, -2.59259259, -2.40740741,\n",
       "       -2.22222222, -2.03703704, -1.85185185, -1.66666667, -1.48148148,\n",
       "       -1.2962963 , -1.11111111, -0.92592593, -0.74074074, -0.55555556,\n",
       "       -0.37037037, -0.18518519,  0.        ,  0.18518519,  0.37037037,\n",
       "        0.55555556,  0.74074074,  0.92592593,  1.11111111,  1.2962963 ,\n",
       "        1.48148148,  1.66666667,  1.85185185,  2.03703704,  2.22222222,\n",
       "        2.40740741,  2.59259259,  2.77777778,  2.96296296,  3.14814815,\n",
       "        3.33333333,  3.51851852,  3.7037037 ,  3.88888889,  4.07407407,\n",
       "        4.25925926,  4.44444444,  4.62962963,  4.81481481,  5.        ])"
      ]
     },
     "execution_count": 8,
     "metadata": {},
     "output_type": "execute_result"
    }
   ],
   "source": [
    "X"
   ]
  },
  {
   "cell_type": "markdown",
   "metadata": {},
   "source": [
    "## Mostrar la cantidad de puntos en x"
   ]
  },
  {
   "cell_type": "code",
   "execution_count": 9,
   "metadata": {},
   "outputs": [
    {
     "name": "stdout",
     "output_type": "stream",
     "text": [
      "55\n"
     ]
    }
   ],
   "source": [
    "\n",
    "print(len(X))"
   ]
  },
  {
   "cell_type": "markdown",
   "metadata": {},
   "source": [
    "## Calculamos el CO-DOMINIO de una FUNCION"
   ]
  },
  {
   "cell_type": "code",
   "execution_count": 9,
   "metadata": {},
   "outputs": [],
   "source": [
    "Y = np.sin(X)\n"
   ]
  },
  {
   "cell_type": "markdown",
   "metadata": {},
   "source": [
    "## Mostramos los valores calculados"
   ]
  },
  {
   "cell_type": "code",
   "execution_count": 11,
   "metadata": {},
   "outputs": [
    {
     "name": "stdout",
     "output_type": "stream",
     "text": [
      "[ 0.95892427  0.99475906  0.9965774   0.96431712  0.89908137  0.80310095\n",
      "  0.67965796  0.53297361  0.36806388  0.19056796  0.00655545 -0.17768124\n",
      " -0.35584199 -0.5218345  -0.66998252 -0.79522006 -0.89326452 -0.9607632\n",
      " -0.99540796 -0.99601408 -0.96256084 -0.8961922  -0.79917768 -0.67483474\n",
      " -0.52741539 -0.36196071 -0.18412856  0.          0.18412856  0.36196071\n",
      "  0.52741539  0.67483474  0.79917768  0.8961922   0.96256084  0.99601408\n",
      "  0.99540796  0.9607632   0.89326452  0.79522006  0.66998252  0.5218345\n",
      "  0.35584199  0.17768124 -0.00655545 -0.19056796 -0.36806388 -0.53297361\n",
      " -0.67965796 -0.80310095 -0.89908137 -0.96431712 -0.9965774  -0.99475906\n",
      " -0.95892427]\n"
     ]
    }
   ],
   "source": [
    "\n",
    "print(Y)"
   ]
  },
  {
   "cell_type": "code",
   "execution_count": 12,
   "metadata": {},
   "outputs": [
    {
     "data": {
      "text/plain": [
       "array([ 0.95892427,  0.99475906,  0.9965774 ,  0.96431712,  0.89908137,\n",
       "        0.80310095,  0.67965796,  0.53297361,  0.36806388,  0.19056796,\n",
       "        0.00655545, -0.17768124, -0.35584199, -0.5218345 , -0.66998252,\n",
       "       -0.79522006, -0.89326452, -0.9607632 , -0.99540796, -0.99601408,\n",
       "       -0.96256084, -0.8961922 , -0.79917768, -0.67483474, -0.52741539,\n",
       "       -0.36196071, -0.18412856,  0.        ,  0.18412856,  0.36196071,\n",
       "        0.52741539,  0.67483474,  0.79917768,  0.8961922 ,  0.96256084,\n",
       "        0.99601408,  0.99540796,  0.9607632 ,  0.89326452,  0.79522006,\n",
       "        0.66998252,  0.5218345 ,  0.35584199,  0.17768124, -0.00655545,\n",
       "       -0.19056796, -0.36806388, -0.53297361, -0.67965796, -0.80310095,\n",
       "       -0.89908137, -0.96431712, -0.9965774 , -0.99475906, -0.95892427])"
      ]
     },
     "execution_count": 12,
     "metadata": {},
     "output_type": "execute_result"
    }
   ],
   "source": [
    "Y"
   ]
  },
  {
   "cell_type": "markdown",
   "metadata": {},
   "source": [
    "## ¿Por qué decimos que es dinámico e interactivo?\n",
    "* Cambiamos fácilmente la función que queremos calcular\n",
    "* vemos en el momento los cambios con la modificación realizada"
   ]
  },
  {
   "cell_type": "code",
   "execution_count": 12,
   "metadata": {},
   "outputs": [],
   "source": [
    "Y = X ** 2\n",
    "#Y = np.sin(X)\n",
    "#Y = np.cos(X)\n",
    "#Y = np.tan(X)"
   ]
  },
  {
   "cell_type": "code",
   "execution_count": 13,
   "metadata": {},
   "outputs": [
    {
     "data": {
      "text/plain": [
       "array([25.        , 23.1824417 , 21.43347051, 19.75308642, 18.14128944,\n",
       "       16.59807956, 15.12345679, 13.71742112, 12.37997257, 11.11111111,\n",
       "        9.91083676,  8.77914952,  7.71604938,  6.72153635,  5.79561043,\n",
       "        4.9382716 ,  4.14951989,  3.42935528,  2.77777778,  2.19478738,\n",
       "        1.68038409,  1.2345679 ,  0.85733882,  0.54869684,  0.30864198,\n",
       "        0.13717421,  0.03429355,  0.        ,  0.03429355,  0.13717421,\n",
       "        0.30864198,  0.54869684,  0.85733882,  1.2345679 ,  1.68038409,\n",
       "        2.19478738,  2.77777778,  3.42935528,  4.14951989,  4.9382716 ,\n",
       "        5.79561043,  6.72153635,  7.71604938,  8.77914952,  9.91083676,\n",
       "       11.11111111, 12.37997257, 13.71742112, 15.12345679, 16.59807956,\n",
       "       18.14128944, 19.75308642, 21.43347051, 23.1824417 , 25.        ])"
      ]
     },
     "execution_count": 13,
     "metadata": {},
     "output_type": "execute_result"
    }
   ],
   "source": [
    "Y"
   ]
  },
  {
   "cell_type": "markdown",
   "metadata": {},
   "source": [
    "## Mostrar la cantidad de puntos en y"
   ]
  },
  {
   "cell_type": "code",
   "execution_count": 13,
   "metadata": {},
   "outputs": [
    {
     "name": "stdout",
     "output_type": "stream",
     "text": [
      "55\n"
     ]
    }
   ],
   "source": [
    "\n",
    "print(len(Y))"
   ]
  },
  {
   "cell_type": "markdown",
   "metadata": {},
   "source": [
    "### Graficamos los valores de X e Y con circulos \"o\" de color ROJO (red = r)\n",
    "## Usamos el método PLOT (Dibujar) en matplotlib"
   ]
  },
  {
   "cell_type": "code",
   "execution_count": 16,
   "metadata": {},
   "outputs": [
    {
     "data": {
      "text/plain": [
       "[<matplotlib.lines.Line2D at 0x7f5d98f383a0>]"
      ]
     },
     "execution_count": 16,
     "metadata": {},
     "output_type": "execute_result"
    },
    {
     "data": {
      "image/png": "[encoded data removed]",
      "text/plain": [
       "<Figure size 432x288 with 1 Axes>"
      ]
     },
     "metadata": {
      "needs_background": "light"
     },
     "output_type": "display_data"
    }
   ],
   "source": [
    "from matplotlib import pyplot as grafica\n",
    "grafica.plot(X, Y, 'ro')"
   ]
  },
  {
   "cell_type": "code",
   "execution_count": 20,
   "metadata": {},
   "outputs": [],
   "source": [
    "#Y = X ** 2\n",
    "#Y = np.sin(X)\n",
    "#Y = np.cos(X)\n",
    "Y = np.tan(X)"
   ]
  },
  {
   "cell_type": "markdown",
   "metadata": {},
   "source": [
    "## Ahora agregamos o habilitamos la GRILLA en la Grafica con plt.grid(True)\n",
    "### Graficamos los valores de X e Y con círculos \"o\" de color CYAN (cyan = c"
   ]
  },
  {
   "cell_type": "code",
   "execution_count": 21,
   "metadata": {},
   "outputs": [
    {
     "data": {
      "text/plain": [
       "[<matplotlib.lines.Line2D at 0x7f5d98e04a60>]"
      ]
     },
     "execution_count": 21,
     "metadata": {},
     "output_type": "execute_result"
    },
    {
     "data": {
      "image/png": "[encoded data removed]",
      "text/plain": [
       "<Figure size 432x288 with 1 Axes>"
      ]
     },
     "metadata": {
      "needs_background": "light"
     },
     "output_type": "display_data"
    }
   ],
   "source": [
    "grafica.grid(True)\n",
    "grafica.plot(X, Y, 'co')"
   ]
  },
  {
   "cell_type": "markdown",
   "metadata": {},
   "source": [
    "## Graficamos los valores de X e Y con líneas \"-\" de color azul, blue en Ingles (blue = b)\n",
    "### Usamos en metod PLOT (Dibujar) con la Grilla habilitada: plt.grid(True)"
   ]
  },
  {
   "cell_type": "code",
   "execution_count": 22,
   "metadata": {},
   "outputs": [
    {
     "data": {
      "text/plain": [
       "[<matplotlib.lines.Line2D at 0x7f5d98dea430>]"
      ]
     },
     "execution_count": 22,
     "metadata": {},
     "output_type": "execute_result"
    },
    {
     "data": {
      "image/png": "[encoded data removed]",
      "text/plain": [
       "<Figure size 432x288 with 1 Axes>"
      ]
     },
     "metadata": {
      "needs_background": "light"
     },
     "output_type": "display_data"
    }
   ],
   "source": [
    "\n",
    "grafica.grid(True)\n",
    "grafica.plot(X, Y, 'b-')"
   ]
  },
  {
   "cell_type": "markdown",
   "metadata": {},
   "source": [
    "## Es posible evaluar y componer funciones"
   ]
  },
  {
   "cell_type": "code",
   "execution_count": 23,
   "metadata": {},
   "outputs": [
    {
     "data": {
      "text/plain": [
       "[<matplotlib.lines.Line2D at 0x7f5d98d50460>]"
      ]
     },
     "execution_count": 23,
     "metadata": {},
     "output_type": "execute_result"
    },
    {
     "data": {
      "image/png": "[encoded data removed]",
      "text/plain": [
       "<Figure size 432x288 with 1 Axes>"
      ]
     },
     "metadata": {
      "needs_background": "light"
     },
     "output_type": "display_data"
    }
   ],
   "source": [
    "grafica.grid(True)\n",
    "Z = ( np.sin(X) ) **2 \n",
    "grafica.plot(X, Z, '.-')\n",
    "#plt.plot(X, Z, '.-')"
   ]
  },
  {
   "cell_type": "markdown",
   "metadata": {},
   "source": [
    "## Ahora aplicamos los Wigets para tener interaccion y generar una mejor atencion, entonces..\n",
    "\n",
    "## ¿Podemos hacerlo más interactivo?\n",
    "* ¿y si queremos probar en el momento la modificación de la función?\n",
    "\n",
    "## ¿Es necesario graficar las diferentes funciones con potenica: 0, 1, 2, 3, 4....?"
   ]
  },
  {
   "cell_type": "code",
   "execution_count": 3,
   "metadata": {},
   "outputs": [],
   "source": [
    "import ipywidgets as widgets\n",
    "from ipywidgets import HBox, VBox\n",
    "from IPython.display import display"
   ]
  },
  {
   "cell_type": "code",
   "execution_count": 4,
   "metadata": {},
   "outputs": [
    {
     "data": {
      "application/vnd.jupyter.widget-view+json": {
       "model_id": "200a117970174a74b4fb3b56885efa30",
       "version_major": 2,
       "version_minor": 0
      },
      "text/plain": [
       "interactive(children=(IntSlider(value=4, description='n', max=9), Output()), _dom_classes=('widget-interact',)…"
      ]
     },
     "metadata": {},
     "output_type": "display_data"
    }
   ],
   "source": [
    "x = np.linspace(-50, 50)\n",
    "\n",
    "@widgets.interact(n=(0, 9))\n",
    "def p(n):\n",
    "    y = x**n\n",
    "    plt.plot(x, y)\n",
    "    plt.grid(True)\n",
    "    plt.show()"
   ]
  },
  {
   "cell_type": "code",
   "execution_count": 5,
   "metadata": {},
   "outputs": [
    {
     "data": {
      "application/vnd.jupyter.widget-view+json": {
       "model_id": "5d273ac346d540b484cff1e9881acf36",
       "version_major": 2,
       "version_minor": 0
      },
      "text/plain": [
       "interactive(children=(IntSlider(value=4, description='n', max=9), Output()), _dom_classes=('widget-interact',)…"
      ]
     },
     "metadata": {},
     "output_type": "display_data"
    }
   ],
   "source": [
    "#plt.plot(x, y, 'ro')\n",
    "\n",
    "x = np.linspace(-50, 50, 35) #Dominio de la Funcion\n",
    "\n",
    "@widgets.interact(n=(0, 9)) #Variacion de manera interactiva en un parametro de la Funcion\n",
    "def p(n):\n",
    "    y = x**n #Codominio de la Funcion\n",
    "    plt.plot(x, y, 'ro') #Grafica en memoria\n",
    "    plt.grid(True)\n",
    "    plt.show()"
   ]
  },
  {
   "cell_type": "code",
   "execution_count": 6,
   "metadata": {},
   "outputs": [
    {
     "data": {
      "application/vnd.jupyter.widget-view+json": {
       "model_id": "2142e127239749a0bf1bc34b6e4a44a3",
       "version_major": 2,
       "version_minor": 0
      },
      "text/plain": [
       "interactive(children=(IntSlider(value=4, description='n', max=9), IntSlider(value=20, description='npoints', m…"
      ]
     },
     "metadata": {},
     "output_type": "display_data"
    }
   ],
   "source": [
    "%matplotlib inline\n",
    "import ipywidgets as widgets\n",
    "import numpy as np\n",
    "import matplotlib.pyplot as plt\n",
    "\n",
    "@widgets.interact(n=(0, 9), npoints=(5,35)) #Variacion de manera interactiva en un parametro de la Funcion y la cantidad de puntos\n",
    "def p(n, npoints):\n",
    "    x = np.linspace(-50, 50, npoints) #Dominio de la Funcion y agregamos la cantidad de puntos tambien, la cual varia tambien\n",
    "    y = x**n #Codominio de la Funcion\n",
    "    plt.plot(x, y, 'ro-') #Grafica en memoria\n",
    "    plt.grid(True)\n",
    "    plt.show()"
   ]
  },
  {
   "cell_type": "markdown",
   "metadata": {},
   "source": [
    "## Y si no me acuerdo cómo se hace algo con la librería numpy, cómo pido ayuda ?\n",
    "Recordar que cuando importamos **numpy** le pusimos **np** de nombre"
   ]
  },
  {
   "cell_type": "code",
   "execution_count": null,
   "metadata": {},
   "outputs": [],
   "source": [
    "\n",
    "help(np)"
   ]
  },
  {
   "cell_type": "markdown",
   "metadata": {},
   "source": [
    "## Y qué puedo hacer con **numpy**?: \n",
    "### Funciones de la librería"
   ]
  },
  {
   "cell_type": "code",
   "execution_count": null,
   "metadata": {},
   "outputs": [],
   "source": [
    "\n",
    "dir(np)"
   ]
  },
  {
   "cell_type": "markdown",
   "metadata": {},
   "source": [
    "## Todavía necesito más ayuda sobre cómo usar uno de los métodos: \n",
    "\n",
    "### Ayuda del método linspace de la librería numpy"
   ]
  },
  {
   "cell_type": "code",
   "execution_count": null,
   "metadata": {},
   "outputs": [],
   "source": [
    "\n",
    "help(np.linspace)"
   ]
  }
 ],
 "metadata": {
  "celltoolbar": "Slideshow",
  "kernelspec": {
   "display_name": "Python 3 (ipykernel)",
   "language": "python",
   "name": "python3"
  },
  "language_info": {
   "codemirror_mode": {
    "name": "ipython",
    "version": 3
   },
   "file_extension": ".py",
   "mimetype": "text/x-python",
   "name": "python",
   "nbconvert_exporter": "python",
   "pygments_lexer": "ipython3",
   "version": "3.8.10"
  },
  "rise": {
   "autolaunch": false,
   "enable_chalkboard": false,
   "theme": "simple",
   "transition": "slide"
  }
 },
 "nbformat": 4,
 "nbformat_minor": 4
}
