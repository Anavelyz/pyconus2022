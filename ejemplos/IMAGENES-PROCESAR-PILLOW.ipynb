{
 "cells": [
  {
   "cell_type": "code",
   "execution_count": 1,
   "id": "unknown-reaction",
   "metadata": {},
   "outputs": [],
   "source": [
    "#https://recursospython.com/guias-y-manuales/instalar-pil-pillow-efectos/"
   ]
  },
  {
   "cell_type": "code",
   "execution_count": null,
   "id": "medical-skill",
   "metadata": {},
   "outputs": [],
   "source": [
    "#!/usr/bin/env python\n",
    "# -*- coding: utf-8 -*-\n",
    "#\n",
    "#       pileffects.py\n",
    "#       \n",
    "#       Copyright 2014 Recursos Python - www.recursospython.com\n",
    "#       \n",
    "from PIL import Image, ImageChops, ImageEnhance, ImageOps\n",
    "def main():\n",
    "    image = Image.open(\"image.jpg\")\n",
    "    \n",
    "    # Invertir colores.\n",
    "    new_image = ImageChops.invert(image)\n",
    "    new_image.save(\"image_1.jpg\")\n",
    "    \n",
    "    # Escala de grises.\n",
    "    new_image = ImageOps.grayscale(image)\n",
    "    new_image.save(\"image_2.jpg\")\n",
    "    \n",
    "    # Resaltar luces.\n",
    "    new_image = ImageEnhance.Brightness(image).enhance(2)\n",
    "    new_image.save(\"image_3.jpg\")\n",
    "    \n",
    "    # Contraste.\n",
    "    new_image = ImageEnhance.Contrast(image).enhance(4)\n",
    "    new_image.save(\"image_4.jpg\")\n",
    "    \n",
    "    # Espejo.\n",
    "    new_image = ImageOps.mirror(image)\n",
    "    new_image.save(\"image_5.jpg\")\n",
    "    \n",
    "    # Cambiar tamaño.\n",
    "    new_image = image.resize((320, 240))\n",
    "    new_image.save(\"image_6.jpg\")\n",
    "    \n",
    "    # Diminuir nitidez.\n",
    "    new_image = ImageEnhance.Sharpness(image).enhance(-4)\n",
    "    new_image.save(\"image_7.jpg\")\n",
    "    \n",
    "if __name__ == \"__main__\":\n",
    "    main()"
   ]
  }
 ],
 "metadata": {
  "kernelspec": {
   "display_name": "Python 3",
   "language": "python",
   "name": "python3"
  },
  "language_info": {
   "codemirror_mode": {
    "name": "ipython",
    "version": 3
   },
   "file_extension": ".py",
   "mimetype": "text/x-python",
   "name": "python",
   "nbconvert_exporter": "python",
   "pygments_lexer": "ipython3",
   "version": "3.7.3"
  }
 },
 "nbformat": 4,
 "nbformat_minor": 5
}
