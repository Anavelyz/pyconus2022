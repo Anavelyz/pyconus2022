{
 "cells": [
  {
   "cell_type": "markdown",
   "id": "a59242f8",
   "metadata": {},
   "source": [
    "![banner](images/banner.png)\n",
    "<img src=\"images/pyconus2022-logo.png\" alt=\"drawing\" width=\"200\"/>\n",
    "### Python + VPS Jupyter HUB/Notebook, aprender, enseñar, investigar, trabajar de manera colaborativa, remota y presencial\n",
    "#### Fecha: 30 de Abril , 1.45 a 2.30 hs. pm\n",
    "####  Sofía Martin, Ariel Ramos, Liliana Hurtado, Enzo Juárez"
   ]
  },
  {
   "cell_type": "code",
   "execution_count": 1,
   "id": "advised-barrier",
   "metadata": {},
   "outputs": [
    {
     "name": "stdout",
     "output_type": "stream",
     "text": [
      "Entre su nombre\n",
      "Ariel\n",
      "Holaaaa..!!!, Ariel\n"
     ]
    }
   ],
   "source": [
    "print(\"Entre su nombre\")\n",
    "x=input()\n",
    "print(\"Holaaaa..!!!, \"+x)"
   ]
  },
  {
   "cell_type": "code",
   "execution_count": 29,
   "id": "advance-cincinnati",
   "metadata": {},
   "outputs": [
    {
     "name": "stdout",
     "output_type": "stream",
     "text": [
      "Entre el radio de un circulo\n",
      "13\n",
      "Area:  530.66\n",
      "Circunferencia:  81.64\n"
     ]
    }
   ],
   "source": [
    "print(\"Entre el radio de un circulo\")\n",
    "rad = input()\n",
    "r = float(rad)\n",
    "area = 3.14 * r * r\n",
    "circunferencia = 2 * 3.14 * r\n",
    "print('Area: ', area)\n",
    "print('Circunferencia: ', circunferencia)"
   ]
  },
  {
   "cell_type": "code",
   "execution_count": 28,
   "id": "assisted-amsterdam",
   "metadata": {},
   "outputs": [
    {
     "data": {
      "image/png": "[encoded data removed]",
      "text/plain": [
       "<Figure size 432x288 with 1 Axes>"
      ]
     },
     "metadata": {},
     "output_type": "display_data"
    }
   ],
   "source": [
    "import matplotlib.pyplot as plt #liberia para hacer los graficos\n",
    "\n",
    "# valor x, para iniciar el grafico\n",
    "x = [1]   \n",
    "\n",
    "# armo el dibujo de la circunferencia, cambio manual el valor del radio\n",
    "fig, ax = plt.subplots()\n",
    "ax.pie(x, colors='m', radius=1, center=(14, 14))\n",
    "plt.show()\n"
   ]
  },
  {
   "cell_type": "code",
   "execution_count": 22,
   "id": "sensitive-raising",
   "metadata": {},
   "outputs": [
    {
     "data": {
      "application/vnd.jupyter.widget-view+json": {
       "model_id": "758cfe931b304d079f589b22a84812ac",
       "version_major": 2,
       "version_minor": 0
      },
      "text/plain": [
       "interactive(children=(FloatSlider(value=1.875, description='radio', max=3.5, min=0.25), Output()), _dom_classe…"
      ]
     },
     "metadata": {},
     "output_type": "display_data"
    }
   ],
   "source": [
    "# Cargo las librerias para trabajar con Widgets y generar la interaccion\n",
    "import ipywidgets as widgets\n",
    "from ipywidgets import HBox, VBox\n",
    "from IPython.display import display\n",
    "\n",
    "# Color elegido es el Magenta = 'm'\n",
    "# El \"radio\" de un Circulo define su Tamaño\n",
    "\n",
    "import matplotlib.pyplot as plt #liberia para hacer los graficos\n",
    "\n",
    "@widgets.interact(radio=(0.25, 3.5))\n",
    "def p(radio):\n",
    "# make data\n",
    "    x = [1]   \n",
    "\n",
    "    # armo el dibujo de la circunferencia, hago la variacion automatica con el Widget\n",
    "    fig, ax = plt.subplots()\n",
    "    ax.pie(x, colors='m', radius=radio, center=(14, 14))\n",
    "\n",
    "    #plt.show()"
   ]
  },
  {
   "cell_type": "code",
   "execution_count": 23,
   "id": "loose-hardware",
   "metadata": {},
   "outputs": [
    {
     "data": {
      "application/vnd.jupyter.widget-view+json": {
       "model_id": "f8011a2966184f2f966fbe01ade07ba4",
       "version_major": 2,
       "version_minor": 0
      },
      "text/plain": [
       "interactive(children=(FloatSlider(value=2.875, description='radio', max=5.5, min=0.25), IntSlider(value=3, des…"
      ]
     },
     "metadata": {},
     "output_type": "display_data"
    }
   ],
   "source": [
    "# Cargo las librerias para trabajar con Widgets y generar la interaccion\n",
    "import ipywidgets as widgets\n",
    "from ipywidgets import HBox, VBox\n",
    "from IPython.display import display\n",
    "\n",
    "# Aqui tenemos un conjunto de Colores para elegir de manera automatica\n",
    "# El \"radio\" de un Circulo define su Tamaño\n",
    "\n",
    "import matplotlib.pyplot as plt #liberia para hacer los graficos\n",
    "\n",
    "@widgets.interact(radio=(0.25, 5.5), colores=(0,6))\n",
    "def p(radio, colores):\n",
    "# make data\n",
    "    x = [1]\n",
    "    colors = ['b', 'r', 'g', 'y','m','b', 'c']\n",
    "\n",
    "    # armo el dibujo de la circunferencia, hago las variaciones automaticas con los Widgets\n",
    "    fig, ax = plt.subplots()\n",
    "    ax.pie(x, colors=colors[colores], radius=radio, center=(4, 4))\n",
    "\n",
    "    plt.show()"
   ]
  },
  {
   "cell_type": "code",
   "execution_count": null,
   "id": "received-regression",
   "metadata": {},
   "outputs": [],
   "source": []
  }
 ],
 "metadata": {
  "kernelspec": {
   "display_name": "Python 3 (ipykernel)",
   "language": "python",
   "name": "python3"
  },
  "language_info": {
   "codemirror_mode": {
    "name": "ipython",
    "version": 3
   },
   "file_extension": ".py",
   "mimetype": "text/x-python",
   "name": "python",
   "nbconvert_exporter": "python",
   "pygments_lexer": "ipython3",
   "version": "3.8.10"
  }
 },
 "nbformat": 4,
 "nbformat_minor": 5
}
